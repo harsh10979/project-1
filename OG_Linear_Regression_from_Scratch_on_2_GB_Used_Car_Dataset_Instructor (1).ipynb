{
  "cells": [
    {
      "cell_type": "markdown",
      "metadata": {
        "id": "ehqeDcenY3M5"
      },
      "source": [
        "#**This Notebook has been curated by Axis India Machine Learning (AiML)**"
      ]
    },
    {
      "cell_type": "code",
      "source": [
        "from google.colab import drive\n",
        "drive.mount('/content/drive')"
      ],
      "metadata": {
        "id": "VYmXOOu14g7s",
        "outputId": "32003532-b5f9-45d7-9afb-ece78371dd38",
        "colab": {
          "base_uri": "https://localhost:8080/"
        }
      },
      "execution_count": 1,
      "outputs": [
        {
          "output_type": "stream",
          "name": "stdout",
          "text": [
            "Mounted at /content/drive\n"
          ]
        }
      ]
    },
    {
      "cell_type": "markdown",
      "metadata": {
        "id": "g4VXi_z8Y-lE"
      },
      "source": [
        "![](https://drive.google.com/uc?export=view&id=1P38a0NLCj_NB52a6us_YPSkt6U3N__EL)"
      ]
    },
    {
      "cell_type": "markdown",
      "metadata": {
        "id": "tcDQ35rYZDcO"
      },
      "source": [
        "#**To know more about us, you can visit [here](https://www.aimlrl.com)**"
      ]
    },
    {
      "cell_type": "markdown",
      "metadata": {
        "id": "QLMjmnd4lsqW"
      },
      "source": [
        "#In this mini project, **we will be training a Linear Regression model to perform accurate prediction of Price (Target Feature, $y$) of Used Cars, using the dataset of Used Cars having 25 Input Features ($X$) and 1 Target Feature of Price, available [here](https://www.kaggle.com/datasets/austinreese/craigslist-carstrucks-data).**"
      ]
    },
    {
      "cell_type": "markdown",
      "metadata": {
        "id": "HGL8Mi64nmWp"
      },
      "source": [
        "#In this dataset, we will be having **data of 426880 Cars, each having initially an Input Feature Vector of 25 Dimensions which is a Row Vector ($\\vec{x}^i$) and a scalar Target Feature ($y_i$).**"
      ]
    },
    {
      "cell_type": "markdown",
      "metadata": {
        "id": "FH7VWC4QoKyN"
      },
      "source": [
        "#Let's download the data from Kaggle."
      ]
    },
    {
      "cell_type": "code",
      "execution_count": null,
      "metadata": {
        "id": "x60a6XarCJIj"
      },
      "outputs": [],
      "source": [
        "from google.colab import files"
      ]
    },
    {
      "cell_type": "code",
      "execution_count": null,
      "metadata": {
        "colab": {
          "base_uri": "https://localhost:8080/",
          "height": 91
        },
        "id": "qGzOjdA1Fs9S",
        "outputId": "a862f6b6-cabb-42ec-95c5-013f36b0aa0b"
      },
      "outputs": [
        {
          "data": {
            "text/html": [
              "\n",
              "     <input type=\"file\" id=\"files-194cb5a7-febe-4f36-8f44-2f3b56baef5e\" name=\"files[]\" multiple disabled\n",
              "        style=\"border:none\" />\n",
              "     <output id=\"result-194cb5a7-febe-4f36-8f44-2f3b56baef5e\">\n",
              "      Upload widget is only available when the cell has been executed in the\n",
              "      current browser session. Please rerun this cell to enable.\n",
              "      </output>\n",
              "      <script>// Copyright 2017 Google LLC\n",
              "//\n",
              "// Licensed under the Apache License, Version 2.0 (the \"License\");\n",
              "// you may not use this file except in compliance with the License.\n",
              "// You may obtain a copy of the License at\n",
              "//\n",
              "//      http://www.apache.org/licenses/LICENSE-2.0\n",
              "//\n",
              "// Unless required by applicable law or agreed to in writing, software\n",
              "// distributed under the License is distributed on an \"AS IS\" BASIS,\n",
              "// WITHOUT WARRANTIES OR CONDITIONS OF ANY KIND, either express or implied.\n",
              "// See the License for the specific language governing permissions and\n",
              "// limitations under the License.\n",
              "\n",
              "/**\n",
              " * @fileoverview Helpers for google.colab Python module.\n",
              " */\n",
              "(function(scope) {\n",
              "function span(text, styleAttributes = {}) {\n",
              "  const element = document.createElement('span');\n",
              "  element.textContent = text;\n",
              "  for (const key of Object.keys(styleAttributes)) {\n",
              "    element.style[key] = styleAttributes[key];\n",
              "  }\n",
              "  return element;\n",
              "}\n",
              "\n",
              "// Max number of bytes which will be uploaded at a time.\n",
              "const MAX_PAYLOAD_SIZE = 100 * 1024;\n",
              "\n",
              "function _uploadFiles(inputId, outputId) {\n",
              "  const steps = uploadFilesStep(inputId, outputId);\n",
              "  const outputElement = document.getElementById(outputId);\n",
              "  // Cache steps on the outputElement to make it available for the next call\n",
              "  // to uploadFilesContinue from Python.\n",
              "  outputElement.steps = steps;\n",
              "\n",
              "  return _uploadFilesContinue(outputId);\n",
              "}\n",
              "\n",
              "// This is roughly an async generator (not supported in the browser yet),\n",
              "// where there are multiple asynchronous steps and the Python side is going\n",
              "// to poll for completion of each step.\n",
              "// This uses a Promise to block the python side on completion of each step,\n",
              "// then passes the result of the previous step as the input to the next step.\n",
              "function _uploadFilesContinue(outputId) {\n",
              "  const outputElement = document.getElementById(outputId);\n",
              "  const steps = outputElement.steps;\n",
              "\n",
              "  const next = steps.next(outputElement.lastPromiseValue);\n",
              "  return Promise.resolve(next.value.promise).then((value) => {\n",
              "    // Cache the last promise value to make it available to the next\n",
              "    // step of the generator.\n",
              "    outputElement.lastPromiseValue = value;\n",
              "    return next.value.response;\n",
              "  });\n",
              "}\n",
              "\n",
              "/**\n",
              " * Generator function which is called between each async step of the upload\n",
              " * process.\n",
              " * @param {string} inputId Element ID of the input file picker element.\n",
              " * @param {string} outputId Element ID of the output display.\n",
              " * @return {!Iterable<!Object>} Iterable of next steps.\n",
              " */\n",
              "function* uploadFilesStep(inputId, outputId) {\n",
              "  const inputElement = document.getElementById(inputId);\n",
              "  inputElement.disabled = false;\n",
              "\n",
              "  const outputElement = document.getElementById(outputId);\n",
              "  outputElement.innerHTML = '';\n",
              "\n",
              "  const pickedPromise = new Promise((resolve) => {\n",
              "    inputElement.addEventListener('change', (e) => {\n",
              "      resolve(e.target.files);\n",
              "    });\n",
              "  });\n",
              "\n",
              "  const cancel = document.createElement('button');\n",
              "  inputElement.parentElement.appendChild(cancel);\n",
              "  cancel.textContent = 'Cancel upload';\n",
              "  const cancelPromise = new Promise((resolve) => {\n",
              "    cancel.onclick = () => {\n",
              "      resolve(null);\n",
              "    };\n",
              "  });\n",
              "\n",
              "  // Wait for the user to pick the files.\n",
              "  const files = yield {\n",
              "    promise: Promise.race([pickedPromise, cancelPromise]),\n",
              "    response: {\n",
              "      action: 'starting',\n",
              "    }\n",
              "  };\n",
              "\n",
              "  cancel.remove();\n",
              "\n",
              "  // Disable the input element since further picks are not allowed.\n",
              "  inputElement.disabled = true;\n",
              "\n",
              "  if (!files) {\n",
              "    return {\n",
              "      response: {\n",
              "        action: 'complete',\n",
              "      }\n",
              "    };\n",
              "  }\n",
              "\n",
              "  for (const file of files) {\n",
              "    const li = document.createElement('li');\n",
              "    li.append(span(file.name, {fontWeight: 'bold'}));\n",
              "    li.append(span(\n",
              "        `(${file.type || 'n/a'}) - ${file.size} bytes, ` +\n",
              "        `last modified: ${\n",
              "            file.lastModifiedDate ? file.lastModifiedDate.toLocaleDateString() :\n",
              "                                    'n/a'} - `));\n",
              "    const percent = span('0% done');\n",
              "    li.appendChild(percent);\n",
              "\n",
              "    outputElement.appendChild(li);\n",
              "\n",
              "    const fileDataPromise = new Promise((resolve) => {\n",
              "      const reader = new FileReader();\n",
              "      reader.onload = (e) => {\n",
              "        resolve(e.target.result);\n",
              "      };\n",
              "      reader.readAsArrayBuffer(file);\n",
              "    });\n",
              "    // Wait for the data to be ready.\n",
              "    let fileData = yield {\n",
              "      promise: fileDataPromise,\n",
              "      response: {\n",
              "        action: 'continue',\n",
              "      }\n",
              "    };\n",
              "\n",
              "    // Use a chunked sending to avoid message size limits. See b/62115660.\n",
              "    let position = 0;\n",
              "    do {\n",
              "      const length = Math.min(fileData.byteLength - position, MAX_PAYLOAD_SIZE);\n",
              "      const chunk = new Uint8Array(fileData, position, length);\n",
              "      position += length;\n",
              "\n",
              "      const base64 = btoa(String.fromCharCode.apply(null, chunk));\n",
              "      yield {\n",
              "        response: {\n",
              "          action: 'append',\n",
              "          file: file.name,\n",
              "          data: base64,\n",
              "        },\n",
              "      };\n",
              "\n",
              "      let percentDone = fileData.byteLength === 0 ?\n",
              "          100 :\n",
              "          Math.round((position / fileData.byteLength) * 100);\n",
              "      percent.textContent = `${percentDone}% done`;\n",
              "\n",
              "    } while (position < fileData.byteLength);\n",
              "  }\n",
              "\n",
              "  // All done.\n",
              "  yield {\n",
              "    response: {\n",
              "      action: 'complete',\n",
              "    }\n",
              "  };\n",
              "}\n",
              "\n",
              "scope.google = scope.google || {};\n",
              "scope.google.colab = scope.google.colab || {};\n",
              "scope.google.colab._files = {\n",
              "  _uploadFiles,\n",
              "  _uploadFilesContinue,\n",
              "};\n",
              "})(self);\n",
              "</script> "
            ],
            "text/plain": [
              "<IPython.core.display.HTML object>"
            ]
          },
          "metadata": {},
          "output_type": "display_data"
        },
        {
          "name": "stdout",
          "output_type": "stream",
          "text": [
            "Saving kaggle.json to kaggle.json\n"
          ]
        },
        {
          "data": {
            "text/plain": [
              "{'kaggle.json': b'{\"username\":\"aimlrl\",\"key\":\"d4029d71ababd7f3d1cd6cf7a7a23db8\"}'}"
            ]
          },
          "execution_count": 2,
          "metadata": {},
          "output_type": "execute_result"
        }
      ],
      "source": [
        "files.upload()"
      ]
    },
    {
      "cell_type": "code",
      "execution_count": null,
      "metadata": {
        "id": "t7By68_zFxLu"
      },
      "outputs": [],
      "source": [
        "!mkdir ~/.kaggle"
      ]
    },
    {
      "cell_type": "code",
      "execution_count": null,
      "metadata": {
        "id": "GmvyMfnOGnyn"
      },
      "outputs": [],
      "source": [
        "!mv /content/kaggle.json ~/.kaggle"
      ]
    },
    {
      "cell_type": "code",
      "execution_count": null,
      "metadata": {
        "id": "TKhUds90G3dH"
      },
      "outputs": [],
      "source": [
        "!chmod 600 ~/.kaggle/kaggle.json"
      ]
    },
    {
      "cell_type": "code",
      "execution_count": null,
      "metadata": {
        "colab": {
          "base_uri": "https://localhost:8080/"
        },
        "id": "B2fQB7h3HqU1",
        "outputId": "490ac3ae-4b03-41b8-d83b-b964659bbc04"
      },
      "outputs": [
        {
          "name": "stdout",
          "output_type": "stream",
          "text": [
            "Requirement already satisfied: kaggle in /usr/local/lib/python3.10/dist-packages (1.5.16)\n",
            "Requirement already satisfied: six>=1.10 in /usr/local/lib/python3.10/dist-packages (from kaggle) (1.16.0)\n",
            "Requirement already satisfied: certifi in /usr/local/lib/python3.10/dist-packages (from kaggle) (2023.11.17)\n",
            "Requirement already satisfied: python-dateutil in /usr/local/lib/python3.10/dist-packages (from kaggle) (2.8.2)\n",
            "Requirement already satisfied: requests in /usr/local/lib/python3.10/dist-packages (from kaggle) (2.31.0)\n",
            "Requirement already satisfied: tqdm in /usr/local/lib/python3.10/dist-packages (from kaggle) (4.66.1)\n",
            "Requirement already satisfied: python-slugify in /usr/local/lib/python3.10/dist-packages (from kaggle) (8.0.1)\n",
            "Requirement already satisfied: urllib3 in /usr/local/lib/python3.10/dist-packages (from kaggle) (2.0.7)\n",
            "Requirement already satisfied: bleach in /usr/local/lib/python3.10/dist-packages (from kaggle) (6.1.0)\n",
            "Requirement already satisfied: webencodings in /usr/local/lib/python3.10/dist-packages (from bleach->kaggle) (0.5.1)\n",
            "Requirement already satisfied: text-unidecode>=1.3 in /usr/local/lib/python3.10/dist-packages (from python-slugify->kaggle) (1.3)\n",
            "Requirement already satisfied: charset-normalizer<4,>=2 in /usr/local/lib/python3.10/dist-packages (from requests->kaggle) (3.3.2)\n",
            "Requirement already satisfied: idna<4,>=2.5 in /usr/local/lib/python3.10/dist-packages (from requests->kaggle) (3.6)\n"
          ]
        }
      ],
      "source": [
        "!pip install kaggle"
      ]
    },
    {
      "cell_type": "code",
      "execution_count": null,
      "metadata": {
        "colab": {
          "base_uri": "https://localhost:8080/"
        },
        "id": "Rea08jicHGmS",
        "outputId": "22d95871-2459-41f0-d75d-fac75b31f67c"
      },
      "outputs": [
        {
          "name": "stdout",
          "output_type": "stream",
          "text": [
            "Downloading craigslist-carstrucks-data.zip to /content\n",
            "100% 262M/262M [00:02<00:00, 128MB/s]\n",
            "100% 262M/262M [00:02<00:00, 92.5MB/s]\n"
          ]
        }
      ],
      "source": [
        "!kaggle datasets download -d austinreese/craigslist-carstrucks-data"
      ]
    },
    {
      "cell_type": "markdown",
      "metadata": {
        "id": "la0ou32KoQyI"
      },
      "source": [
        "#Let's Unzip it."
      ]
    },
    {
      "cell_type": "code",
      "execution_count": null,
      "metadata": {
        "colab": {
          "base_uri": "https://localhost:8080/"
        },
        "id": "CWNCX595H0e9",
        "outputId": "c82fcec4-0393-4c06-d2ee-aad88ed87869"
      },
      "outputs": [
        {
          "name": "stdout",
          "output_type": "stream",
          "text": [
            "Archive:  /content/craigslist-carstrucks-data.zip\n",
            "  inflating: vehicles.csv            \n"
          ]
        }
      ],
      "source": [
        "!unzip /content/craigslist-carstrucks-data.zip"
      ]
    },
    {
      "cell_type": "code",
      "execution_count": null,
      "metadata": {
        "id": "Em_uOq_uM5x8"
      },
      "outputs": [],
      "source": [
        "import pandas as pd\n",
        "import numpy as np\n",
        "import seaborn as sns"
      ]
    },
    {
      "cell_type": "markdown",
      "metadata": {
        "id": "rERWQUORoVYi"
      },
      "source": [
        "#Let's read the data."
      ]
    },
    {
      "cell_type": "code",
      "execution_count": null,
      "metadata": {
        "id": "Q7hLAdEvSmsN"
      },
      "outputs": [],
      "source": [
        "data = pd.read_csv(\"/content/vehicles.csv\")"
      ]
    },
    {
      "cell_type": "markdown",
      "metadata": {
        "id": "eVen_4C8oZxF"
      },
      "source": [
        "#Let's have a preliminary look on our data."
      ]
    },
    {
      "cell_type": "code",
      "execution_count": null,
      "metadata": {
        "colab": {
          "base_uri": "https://localhost:8080/",
          "height": 290
        },
        "id": "fcEGwF1VTQHf",
        "outputId": "59c5223b-7357-4178-a4ea-fb54f3d16f00"
      },
      "outputs": [
        {
          "data": {
            "text/html": [
              "\n",
              "  <div id=\"df-6c046945-f14a-420b-b8a1-1bb02cb1977d\" class=\"colab-df-container\">\n",
              "    <div>\n",
              "<style scoped>\n",
              "    .dataframe tbody tr th:only-of-type {\n",
              "        vertical-align: middle;\n",
              "    }\n",
              "\n",
              "    .dataframe tbody tr th {\n",
              "        vertical-align: top;\n",
              "    }\n",
              "\n",
              "    .dataframe thead th {\n",
              "        text-align: right;\n",
              "    }\n",
              "</style>\n",
              "<table border=\"1\" class=\"dataframe\">\n",
              "  <thead>\n",
              "    <tr style=\"text-align: right;\">\n",
              "      <th></th>\n",
              "      <th>id</th>\n",
              "      <th>url</th>\n",
              "      <th>region</th>\n",
              "      <th>region_url</th>\n",
              "      <th>price</th>\n",
              "      <th>year</th>\n",
              "      <th>manufacturer</th>\n",
              "      <th>model</th>\n",
              "      <th>condition</th>\n",
              "      <th>cylinders</th>\n",
              "      <th>...</th>\n",
              "      <th>size</th>\n",
              "      <th>type</th>\n",
              "      <th>paint_color</th>\n",
              "      <th>image_url</th>\n",
              "      <th>description</th>\n",
              "      <th>county</th>\n",
              "      <th>state</th>\n",
              "      <th>lat</th>\n",
              "      <th>long</th>\n",
              "      <th>posting_date</th>\n",
              "    </tr>\n",
              "  </thead>\n",
              "  <tbody>\n",
              "    <tr>\n",
              "      <th>0</th>\n",
              "      <td>7222695916</td>\n",
              "      <td>https://prescott.craigslist.org/cto/d/prescott...</td>\n",
              "      <td>prescott</td>\n",
              "      <td>https://prescott.craigslist.org</td>\n",
              "      <td>6000</td>\n",
              "      <td>NaN</td>\n",
              "      <td>NaN</td>\n",
              "      <td>NaN</td>\n",
              "      <td>NaN</td>\n",
              "      <td>NaN</td>\n",
              "      <td>...</td>\n",
              "      <td>NaN</td>\n",
              "      <td>NaN</td>\n",
              "      <td>NaN</td>\n",
              "      <td>NaN</td>\n",
              "      <td>NaN</td>\n",
              "      <td>NaN</td>\n",
              "      <td>az</td>\n",
              "      <td>NaN</td>\n",
              "      <td>NaN</td>\n",
              "      <td>NaN</td>\n",
              "    </tr>\n",
              "    <tr>\n",
              "      <th>1</th>\n",
              "      <td>7218891961</td>\n",
              "      <td>https://fayar.craigslist.org/ctd/d/bentonville...</td>\n",
              "      <td>fayetteville</td>\n",
              "      <td>https://fayar.craigslist.org</td>\n",
              "      <td>11900</td>\n",
              "      <td>NaN</td>\n",
              "      <td>NaN</td>\n",
              "      <td>NaN</td>\n",
              "      <td>NaN</td>\n",
              "      <td>NaN</td>\n",
              "      <td>...</td>\n",
              "      <td>NaN</td>\n",
              "      <td>NaN</td>\n",
              "      <td>NaN</td>\n",
              "      <td>NaN</td>\n",
              "      <td>NaN</td>\n",
              "      <td>NaN</td>\n",
              "      <td>ar</td>\n",
              "      <td>NaN</td>\n",
              "      <td>NaN</td>\n",
              "      <td>NaN</td>\n",
              "    </tr>\n",
              "    <tr>\n",
              "      <th>2</th>\n",
              "      <td>7221797935</td>\n",
              "      <td>https://keys.craigslist.org/cto/d/summerland-k...</td>\n",
              "      <td>florida keys</td>\n",
              "      <td>https://keys.craigslist.org</td>\n",
              "      <td>21000</td>\n",
              "      <td>NaN</td>\n",
              "      <td>NaN</td>\n",
              "      <td>NaN</td>\n",
              "      <td>NaN</td>\n",
              "      <td>NaN</td>\n",
              "      <td>...</td>\n",
              "      <td>NaN</td>\n",
              "      <td>NaN</td>\n",
              "      <td>NaN</td>\n",
              "      <td>NaN</td>\n",
              "      <td>NaN</td>\n",
              "      <td>NaN</td>\n",
              "      <td>fl</td>\n",
              "      <td>NaN</td>\n",
              "      <td>NaN</td>\n",
              "      <td>NaN</td>\n",
              "    </tr>\n",
              "    <tr>\n",
              "      <th>3</th>\n",
              "      <td>7222270760</td>\n",
              "      <td>https://worcester.craigslist.org/cto/d/west-br...</td>\n",
              "      <td>worcester / central MA</td>\n",
              "      <td>https://worcester.craigslist.org</td>\n",
              "      <td>1500</td>\n",
              "      <td>NaN</td>\n",
              "      <td>NaN</td>\n",
              "      <td>NaN</td>\n",
              "      <td>NaN</td>\n",
              "      <td>NaN</td>\n",
              "      <td>...</td>\n",
              "      <td>NaN</td>\n",
              "      <td>NaN</td>\n",
              "      <td>NaN</td>\n",
              "      <td>NaN</td>\n",
              "      <td>NaN</td>\n",
              "      <td>NaN</td>\n",
              "      <td>ma</td>\n",
              "      <td>NaN</td>\n",
              "      <td>NaN</td>\n",
              "      <td>NaN</td>\n",
              "    </tr>\n",
              "    <tr>\n",
              "      <th>4</th>\n",
              "      <td>7210384030</td>\n",
              "      <td>https://greensboro.craigslist.org/cto/d/trinit...</td>\n",
              "      <td>greensboro</td>\n",
              "      <td>https://greensboro.craigslist.org</td>\n",
              "      <td>4900</td>\n",
              "      <td>NaN</td>\n",
              "      <td>NaN</td>\n",
              "      <td>NaN</td>\n",
              "      <td>NaN</td>\n",
              "      <td>NaN</td>\n",
              "      <td>...</td>\n",
              "      <td>NaN</td>\n",
              "      <td>NaN</td>\n",
              "      <td>NaN</td>\n",
              "      <td>NaN</td>\n",
              "      <td>NaN</td>\n",
              "      <td>NaN</td>\n",
              "      <td>nc</td>\n",
              "      <td>NaN</td>\n",
              "      <td>NaN</td>\n",
              "      <td>NaN</td>\n",
              "    </tr>\n",
              "  </tbody>\n",
              "</table>\n",
              "<p>5 rows × 26 columns</p>\n",
              "</div>\n",
              "    <div class=\"colab-df-buttons\">\n",
              "\n",
              "  <div class=\"colab-df-container\">\n",
              "    <button class=\"colab-df-convert\" onclick=\"convertToInteractive('df-6c046945-f14a-420b-b8a1-1bb02cb1977d')\"\n",
              "            title=\"Convert this dataframe to an interactive table.\"\n",
              "            style=\"display:none;\">\n",
              "\n",
              "  <svg xmlns=\"http://www.w3.org/2000/svg\" height=\"24px\" viewBox=\"0 -960 960 960\">\n",
              "    <path d=\"M120-120v-720h720v720H120Zm60-500h600v-160H180v160Zm220 220h160v-160H400v160Zm0 220h160v-160H400v160ZM180-400h160v-160H180v160Zm440 0h160v-160H620v160ZM180-180h160v-160H180v160Zm440 0h160v-160H620v160Z\"/>\n",
              "  </svg>\n",
              "    </button>\n",
              "\n",
              "  <style>\n",
              "    .colab-df-container {\n",
              "      display:flex;\n",
              "      gap: 12px;\n",
              "    }\n",
              "\n",
              "    .colab-df-convert {\n",
              "      background-color: #E8F0FE;\n",
              "      border: none;\n",
              "      border-radius: 50%;\n",
              "      cursor: pointer;\n",
              "      display: none;\n",
              "      fill: #1967D2;\n",
              "      height: 32px;\n",
              "      padding: 0 0 0 0;\n",
              "      width: 32px;\n",
              "    }\n",
              "\n",
              "    .colab-df-convert:hover {\n",
              "      background-color: #E2EBFA;\n",
              "      box-shadow: 0px 1px 2px rgba(60, 64, 67, 0.3), 0px 1px 3px 1px rgba(60, 64, 67, 0.15);\n",
              "      fill: #174EA6;\n",
              "    }\n",
              "\n",
              "    .colab-df-buttons div {\n",
              "      margin-bottom: 4px;\n",
              "    }\n",
              "\n",
              "    [theme=dark] .colab-df-convert {\n",
              "      background-color: #3B4455;\n",
              "      fill: #D2E3FC;\n",
              "    }\n",
              "\n",
              "    [theme=dark] .colab-df-convert:hover {\n",
              "      background-color: #434B5C;\n",
              "      box-shadow: 0px 1px 3px 1px rgba(0, 0, 0, 0.15);\n",
              "      filter: drop-shadow(0px 1px 2px rgba(0, 0, 0, 0.3));\n",
              "      fill: #FFFFFF;\n",
              "    }\n",
              "  </style>\n",
              "\n",
              "    <script>\n",
              "      const buttonEl =\n",
              "        document.querySelector('#df-6c046945-f14a-420b-b8a1-1bb02cb1977d button.colab-df-convert');\n",
              "      buttonEl.style.display =\n",
              "        google.colab.kernel.accessAllowed ? 'block' : 'none';\n",
              "\n",
              "      async function convertToInteractive(key) {\n",
              "        const element = document.querySelector('#df-6c046945-f14a-420b-b8a1-1bb02cb1977d');\n",
              "        const dataTable =\n",
              "          await google.colab.kernel.invokeFunction('convertToInteractive',\n",
              "                                                    [key], {});\n",
              "        if (!dataTable) return;\n",
              "\n",
              "        const docLinkHtml = 'Like what you see? Visit the ' +\n",
              "          '<a target=\"_blank\" href=https://colab.research.google.com/notebooks/data_table.ipynb>data table notebook</a>'\n",
              "          + ' to learn more about interactive tables.';\n",
              "        element.innerHTML = '';\n",
              "        dataTable['output_type'] = 'display_data';\n",
              "        await google.colab.output.renderOutput(dataTable, element);\n",
              "        const docLink = document.createElement('div');\n",
              "        docLink.innerHTML = docLinkHtml;\n",
              "        element.appendChild(docLink);\n",
              "      }\n",
              "    </script>\n",
              "  </div>\n",
              "\n",
              "\n",
              "<div id=\"df-69978a65-3e83-4efa-8870-cfc6a6d41b81\">\n",
              "  <button class=\"colab-df-quickchart\" onclick=\"quickchart('df-69978a65-3e83-4efa-8870-cfc6a6d41b81')\"\n",
              "            title=\"Suggest charts\"\n",
              "            style=\"display:none;\">\n",
              "\n",
              "<svg xmlns=\"http://www.w3.org/2000/svg\" height=\"24px\"viewBox=\"0 0 24 24\"\n",
              "     width=\"24px\">\n",
              "    <g>\n",
              "        <path d=\"M19 3H5c-1.1 0-2 .9-2 2v14c0 1.1.9 2 2 2h14c1.1 0 2-.9 2-2V5c0-1.1-.9-2-2-2zM9 17H7v-7h2v7zm4 0h-2V7h2v10zm4 0h-2v-4h2v4z\"/>\n",
              "    </g>\n",
              "</svg>\n",
              "  </button>\n",
              "\n",
              "<style>\n",
              "  .colab-df-quickchart {\n",
              "      --bg-color: #E8F0FE;\n",
              "      --fill-color: #1967D2;\n",
              "      --hover-bg-color: #E2EBFA;\n",
              "      --hover-fill-color: #174EA6;\n",
              "      --disabled-fill-color: #AAA;\n",
              "      --disabled-bg-color: #DDD;\n",
              "  }\n",
              "\n",
              "  [theme=dark] .colab-df-quickchart {\n",
              "      --bg-color: #3B4455;\n",
              "      --fill-color: #D2E3FC;\n",
              "      --hover-bg-color: #434B5C;\n",
              "      --hover-fill-color: #FFFFFF;\n",
              "      --disabled-bg-color: #3B4455;\n",
              "      --disabled-fill-color: #666;\n",
              "  }\n",
              "\n",
              "  .colab-df-quickchart {\n",
              "    background-color: var(--bg-color);\n",
              "    border: none;\n",
              "    border-radius: 50%;\n",
              "    cursor: pointer;\n",
              "    display: none;\n",
              "    fill: var(--fill-color);\n",
              "    height: 32px;\n",
              "    padding: 0;\n",
              "    width: 32px;\n",
              "  }\n",
              "\n",
              "  .colab-df-quickchart:hover {\n",
              "    background-color: var(--hover-bg-color);\n",
              "    box-shadow: 0 1px 2px rgba(60, 64, 67, 0.3), 0 1px 3px 1px rgba(60, 64, 67, 0.15);\n",
              "    fill: var(--button-hover-fill-color);\n",
              "  }\n",
              "\n",
              "  .colab-df-quickchart-complete:disabled,\n",
              "  .colab-df-quickchart-complete:disabled:hover {\n",
              "    background-color: var(--disabled-bg-color);\n",
              "    fill: var(--disabled-fill-color);\n",
              "    box-shadow: none;\n",
              "  }\n",
              "\n",
              "  .colab-df-spinner {\n",
              "    border: 2px solid var(--fill-color);\n",
              "    border-color: transparent;\n",
              "    border-bottom-color: var(--fill-color);\n",
              "    animation:\n",
              "      spin 1s steps(1) infinite;\n",
              "  }\n",
              "\n",
              "  @keyframes spin {\n",
              "    0% {\n",
              "      border-color: transparent;\n",
              "      border-bottom-color: var(--fill-color);\n",
              "      border-left-color: var(--fill-color);\n",
              "    }\n",
              "    20% {\n",
              "      border-color: transparent;\n",
              "      border-left-color: var(--fill-color);\n",
              "      border-top-color: var(--fill-color);\n",
              "    }\n",
              "    30% {\n",
              "      border-color: transparent;\n",
              "      border-left-color: var(--fill-color);\n",
              "      border-top-color: var(--fill-color);\n",
              "      border-right-color: var(--fill-color);\n",
              "    }\n",
              "    40% {\n",
              "      border-color: transparent;\n",
              "      border-right-color: var(--fill-color);\n",
              "      border-top-color: var(--fill-color);\n",
              "    }\n",
              "    60% {\n",
              "      border-color: transparent;\n",
              "      border-right-color: var(--fill-color);\n",
              "    }\n",
              "    80% {\n",
              "      border-color: transparent;\n",
              "      border-right-color: var(--fill-color);\n",
              "      border-bottom-color: var(--fill-color);\n",
              "    }\n",
              "    90% {\n",
              "      border-color: transparent;\n",
              "      border-bottom-color: var(--fill-color);\n",
              "    }\n",
              "  }\n",
              "</style>\n",
              "\n",
              "  <script>\n",
              "    async function quickchart(key) {\n",
              "      const quickchartButtonEl =\n",
              "        document.querySelector('#' + key + ' button');\n",
              "      quickchartButtonEl.disabled = true;  // To prevent multiple clicks.\n",
              "      quickchartButtonEl.classList.add('colab-df-spinner');\n",
              "      try {\n",
              "        const charts = await google.colab.kernel.invokeFunction(\n",
              "            'suggestCharts', [key], {});\n",
              "      } catch (error) {\n",
              "        console.error('Error during call to suggestCharts:', error);\n",
              "      }\n",
              "      quickchartButtonEl.classList.remove('colab-df-spinner');\n",
              "      quickchartButtonEl.classList.add('colab-df-quickchart-complete');\n",
              "    }\n",
              "    (() => {\n",
              "      let quickchartButtonEl =\n",
              "        document.querySelector('#df-69978a65-3e83-4efa-8870-cfc6a6d41b81 button');\n",
              "      quickchartButtonEl.style.display =\n",
              "        google.colab.kernel.accessAllowed ? 'block' : 'none';\n",
              "    })();\n",
              "  </script>\n",
              "</div>\n",
              "    </div>\n",
              "  </div>\n"
            ],
            "text/plain": [
              "           id                                                url  \\\n",
              "0  7222695916  https://prescott.craigslist.org/cto/d/prescott...   \n",
              "1  7218891961  https://fayar.craigslist.org/ctd/d/bentonville...   \n",
              "2  7221797935  https://keys.craigslist.org/cto/d/summerland-k...   \n",
              "3  7222270760  https://worcester.craigslist.org/cto/d/west-br...   \n",
              "4  7210384030  https://greensboro.craigslist.org/cto/d/trinit...   \n",
              "\n",
              "                   region                         region_url  price  year  \\\n",
              "0                prescott    https://prescott.craigslist.org   6000   NaN   \n",
              "1            fayetteville       https://fayar.craigslist.org  11900   NaN   \n",
              "2            florida keys        https://keys.craigslist.org  21000   NaN   \n",
              "3  worcester / central MA   https://worcester.craigslist.org   1500   NaN   \n",
              "4              greensboro  https://greensboro.craigslist.org   4900   NaN   \n",
              "\n",
              "  manufacturer model condition cylinders  ... size  type paint_color  \\\n",
              "0          NaN   NaN       NaN       NaN  ...  NaN   NaN         NaN   \n",
              "1          NaN   NaN       NaN       NaN  ...  NaN   NaN         NaN   \n",
              "2          NaN   NaN       NaN       NaN  ...  NaN   NaN         NaN   \n",
              "3          NaN   NaN       NaN       NaN  ...  NaN   NaN         NaN   \n",
              "4          NaN   NaN       NaN       NaN  ...  NaN   NaN         NaN   \n",
              "\n",
              "  image_url description county state lat long posting_date  \n",
              "0       NaN         NaN    NaN    az NaN  NaN          NaN  \n",
              "1       NaN         NaN    NaN    ar NaN  NaN          NaN  \n",
              "2       NaN         NaN    NaN    fl NaN  NaN          NaN  \n",
              "3       NaN         NaN    NaN    ma NaN  NaN          NaN  \n",
              "4       NaN         NaN    NaN    nc NaN  NaN          NaN  \n",
              "\n",
              "[5 rows x 26 columns]"
            ]
          },
          "execution_count": 12,
          "metadata": {},
          "output_type": "execute_result"
        }
      ],
      "source": [
        "data.head()"
      ]
    },
    {
      "cell_type": "markdown",
      "metadata": {
        "id": "_1Ph-Dx4ojBy"
      },
      "source": [
        "#Let's see how many and what columns are there in our dataset."
      ]
    },
    {
      "cell_type": "code",
      "execution_count": null,
      "metadata": {
        "colab": {
          "base_uri": "https://localhost:8080/"
        },
        "id": "WZNiol6gTdKM",
        "outputId": "ff1f4a40-89ea-4fa2-f6db-610b5a628acf"
      },
      "outputs": [
        {
          "data": {
            "text/plain": [
              "Index(['id', 'url', 'region', 'region_url', 'price', 'year', 'manufacturer',\n",
              "       'model', 'condition', 'cylinders', 'fuel', 'odometer', 'title_status',\n",
              "       'transmission', 'VIN', 'drive', 'size', 'type', 'paint_color',\n",
              "       'image_url', 'description', 'county', 'state', 'lat', 'long',\n",
              "       'posting_date'],\n",
              "      dtype='object')"
            ]
          },
          "execution_count": 13,
          "metadata": {},
          "output_type": "execute_result"
        }
      ],
      "source": [
        "data.columns"
      ]
    },
    {
      "cell_type": "markdown",
      "metadata": {
        "id": "EMcLgzLGoslZ"
      },
      "source": [
        "#Let's see how many rows are there in our dataset."
      ]
    },
    {
      "cell_type": "code",
      "execution_count": null,
      "metadata": {
        "colab": {
          "base_uri": "https://localhost:8080/"
        },
        "id": "dQ25A037UJ0j",
        "outputId": "7b7090d4-df94-4573-e1fd-95ddd267afa6"
      },
      "outputs": [
        {
          "data": {
            "text/plain": [
              "(426880, 26)"
            ]
          },
          "execution_count": 14,
          "metadata": {},
          "output_type": "execute_result"
        }
      ],
      "source": [
        "data.shape"
      ]
    },
    {
      "cell_type": "markdown",
      "metadata": {
        "id": "w_miA-TcpAs9"
      },
      "source": [
        "###As we can see above that **each row of the dataset has the data of a single used car having 25 Dimensional input feature vector which is a row vector ($\\vec{x}^i$) and a target feature (reference output or correct answer, $y_i$)**, making each row of the dataset as a 26 Dimensional row vector having 25 Dimensional Input feature row vector and a scalar target feature."
      ]
    },
    {
      "cell_type": "markdown",
      "metadata": {
        "id": "bXATIcNCqmLT"
      },
      "source": [
        "#Let's determine that whether any column of our dataset has missing values or not."
      ]
    },
    {
      "cell_type": "code",
      "execution_count": null,
      "metadata": {
        "colab": {
          "base_uri": "https://localhost:8080/"
        },
        "id": "ooBKv-3vU9D_",
        "outputId": "b060672c-cc1e-4b3b-cb8e-c9a598d167d3"
      },
      "outputs": [
        {
          "data": {
            "text/plain": [
              "id                   0\n",
              "url                  0\n",
              "region               0\n",
              "region_url           0\n",
              "price                0\n",
              "year              1205\n",
              "manufacturer     17646\n",
              "model             5277\n",
              "condition       174104\n",
              "cylinders       177678\n",
              "fuel              3013\n",
              "odometer          4400\n",
              "title_status      8242\n",
              "transmission      2556\n",
              "VIN             161042\n",
              "drive           130567\n",
              "size            306361\n",
              "type             92858\n",
              "paint_color     130203\n",
              "image_url           68\n",
              "description         70\n",
              "county          426880\n",
              "state                0\n",
              "lat               6549\n",
              "long              6549\n",
              "posting_date        68\n",
              "dtype: int64"
            ]
          },
          "execution_count": 15,
          "metadata": {},
          "output_type": "execute_result"
        }
      ],
      "source": [
        "data.isna().sum()"
      ]
    },
    {
      "cell_type": "markdown",
      "metadata": {
        "id": "HPH2FAp2qqyF"
      },
      "source": [
        "###It can be observed above that **only some columns: ```id```, ```url```, ```region```, ```region_url```, ```price``` and ```state``` has no missing values** and rest all the other columns have missing values.  "
      ]
    },
    {
      "cell_type": "markdown",
      "metadata": {
        "id": "58cAR9DRrRrS"
      },
      "source": [
        "###Before filling up the missing values, **let's remove or ```drop``` all the irrelevant columns which is expected to play no role** in making accurate prediction of Price of a used car."
      ]
    },
    {
      "cell_type": "code",
      "execution_count": null,
      "metadata": {
        "id": "jmJ2QjQfVHpH"
      },
      "outputs": [],
      "source": [
        "data.drop(labels=data.columns[0:4],axis=1,inplace=True)"
      ]
    },
    {
      "cell_type": "code",
      "execution_count": null,
      "metadata": {
        "id": "lc0hvyajYhkK"
      },
      "outputs": [],
      "source": [
        "data.drop(labels=\"title_status\",axis=1,inplace=True)"
      ]
    },
    {
      "cell_type": "code",
      "execution_count": null,
      "metadata": {
        "id": "qc0EJJvxa3Rh"
      },
      "outputs": [],
      "source": [
        "data.drop(labels=data.columns[14:],axis=1,inplace=True)"
      ]
    },
    {
      "cell_type": "code",
      "execution_count": null,
      "metadata": {
        "id": "OxCMjWcocJh5"
      },
      "outputs": [],
      "source": [
        "data.drop(labels=\"VIN\",axis=1,inplace=True)"
      ]
    },
    {
      "cell_type": "markdown",
      "metadata": {
        "id": "uNVvtCMpsIIY"
      },
      "source": [
        "###Above, we can see that **we have removed or ```drop```ed the following columns: ```id```, ```url```, ```region```, ```region_url```, ```title_status```, ```VIN```, ```image_url```, ```description```, ```county```, ```state```, ```lat```, ```long``` and ```posting_date``` as these columns are expected to play no role in making accurate prediction** in the Price of a used car."
      ]
    },
    {
      "cell_type": "code",
      "execution_count": null,
      "metadata": {
        "colab": {
          "base_uri": "https://localhost:8080/"
        },
        "id": "0QWLUBr6mA9F",
        "outputId": "3bfcb9c9-9cc2-479a-892b-ad70a9a99cbd"
      },
      "outputs": [
        {
          "data": {
            "text/plain": [
              "(426880, 13)"
            ]
          },
          "execution_count": 20,
          "metadata": {},
          "output_type": "execute_result"
        }
      ],
      "source": [
        "data.shape"
      ]
    },
    {
      "cell_type": "markdown",
      "metadata": {
        "id": "BbL-VXe8tf3x"
      },
      "source": [
        "#**After removing or ```drop```ing** all the 13 irrelevant columns from the dataset, **we are left with only 13 columns in the dataset.**"
      ]
    },
    {
      "cell_type": "code",
      "execution_count": null,
      "metadata": {
        "colab": {
          "base_uri": "https://localhost:8080/"
        },
        "id": "jJRkoce4mwiX",
        "outputId": "80a71dad-ae56-43df-fc95-dd216101d51e"
      },
      "outputs": [
        {
          "data": {
            "text/plain": [
              "Index(['price', 'year', 'manufacturer', 'model', 'condition', 'cylinders',\n",
              "       'fuel', 'odometer', 'transmission', 'drive', 'size', 'type',\n",
              "       'paint_color'],\n",
              "      dtype='object')"
            ]
          },
          "execution_count": 21,
          "metadata": {},
          "output_type": "execute_result"
        }
      ],
      "source": [
        "data.columns"
      ]
    },
    {
      "cell_type": "markdown",
      "metadata": {
        "id": "ha2_VNYuumeQ"
      },
      "source": [
        "###Now, our filtered dataset has only **13 relevant columns left which has a 12 Dimensional input feature row vector ($\\vec{x}^i$) and a scalar target feature ($y_i$).**"
      ]
    },
    {
      "cell_type": "markdown",
      "metadata": {
        "id": "3OeS3Sniw02_"
      },
      "source": [
        "#From this filtered dataset, **we are now going to remove or ```drop``` all the complete rows or complete data of all the used bikes for which the whole input feature row vector ($\\vec{x}^i$) is ```numpy.nan``` or ```np.nan```**, that is at maximum 12 columns in those rows are missing (NaN or ```np.nan```)."
      ]
    },
    {
      "cell_type": "code",
      "execution_count": null,
      "metadata": {
        "id": "xGEUyQaRTD4a"
      },
      "outputs": [],
      "source": [
        "data.dropna(axis=0,thresh=12,inplace=True)"
      ]
    },
    {
      "cell_type": "code",
      "execution_count": null,
      "metadata": {
        "colab": {
          "base_uri": "https://localhost:8080/"
        },
        "id": "njW-zGVbVlNG",
        "outputId": "0794b8e4-ae29-45f9-ca71-dd11253e8f49"
      },
      "outputs": [
        {
          "data": {
            "text/plain": [
              "price               0\n",
              "year                0\n",
              "manufacturer     4059\n",
              "model             975\n",
              "condition       13570\n",
              "cylinders        1766\n",
              "fuel                0\n",
              "odometer          408\n",
              "transmission       11\n",
              "drive            2491\n",
              "size            36793\n",
              "type             1893\n",
              "paint_color      2856\n",
              "dtype: int64"
            ]
          },
          "execution_count": 23,
          "metadata": {},
          "output_type": "execute_result"
        }
      ],
      "source": [
        "data.isna().sum()"
      ]
    },
    {
      "cell_type": "markdown",
      "metadata": {
        "id": "MPQlQ-FXw-E0"
      },
      "source": [
        "###After removing or ```drop```ing the rows, we are left with less number of missing values."
      ]
    },
    {
      "cell_type": "code",
      "execution_count": null,
      "metadata": {
        "id": "kCQUHWBSBr2V"
      },
      "outputs": [],
      "source": [
        "data[\"odometer\"].fillna(value=data[\"odometer\"].mean(),inplace=True)"
      ]
    },
    {
      "cell_type": "code",
      "execution_count": null,
      "metadata": {
        "id": "gIYRFTg3CEKK"
      },
      "outputs": [],
      "source": [
        "data[\"condition\"].fillna(value=data[\"condition\"].value_counts().index[data[\"condition\"].value_counts().argmax()],\n",
        "                         inplace=True)"
      ]
    },
    {
      "cell_type": "code",
      "execution_count": null,
      "metadata": {
        "id": "DjyKepnqCLje"
      },
      "outputs": [],
      "source": [
        "data[\"paint_color\"].fillna(value=data[\"paint_color\"].value_counts().index[data[\"paint_color\"].value_counts().argmax()],\n",
        "                           inplace=True)"
      ]
    },
    {
      "cell_type": "code",
      "execution_count": null,
      "metadata": {
        "id": "bglHoLphCmF9"
      },
      "outputs": [],
      "source": [
        "data[\"transmission\"].fillna(value=data[\"transmission\"].value_counts().index[data[\"transmission\"].value_counts().argmax()],\n",
        "                           inplace=True)"
      ]
    },
    {
      "cell_type": "code",
      "execution_count": null,
      "metadata": {
        "id": "-DveAOUZighn"
      },
      "outputs": [],
      "source": [
        "data[\"manufacturer\"].fillna(value=data[\"manufacturer\"].value_counts().index[data[\"manufacturer\"].value_counts().argmax()],\n",
        "                           inplace=True)"
      ]
    },
    {
      "cell_type": "markdown",
      "metadata": {
        "id": "r3s5Re82w5ey"
      },
      "source": [
        "###As we can see above that, we have filled up missing values or **applied ```fillna``` function to fill missing values in the following columns: ```odometer```, ```condition```, ```paint_color```, ```transmission``` and ```manufacturer```.** In order to **fill up missing values in the ```odometer``` column, we have used the mean of values in that column because we are presuming that the data inside the column of ```odometer``` is Normally Distributed**, that is $\\mathcal{N}(\\mu_\\text{odometer},\\sigma^2)$ and the **missing values in the rest of columns are being filled up by the most frequently occurring values in those columns.**"
      ]
    },
    {
      "cell_type": "markdown",
      "metadata": {
        "id": "eVcFfwPDz6q_"
      },
      "source": [
        "#For **filling up the missing values in rest of the columns, we are going to use the Cross Tabulation Analysis because the values of these rest columns are dependent on other columns.**"
      ]
    },
    {
      "cell_type": "markdown",
      "metadata": {
        "id": "vLvJxXlN0n0O"
      },
      "source": [
        "#**Let's try to understand that what Cross Tabulation is?**"
      ]
    },
    {
      "cell_type": "markdown",
      "metadata": {
        "id": "M0aNTFLa068p"
      },
      "source": [
        "###In Cross Tabulation Analysis we create a Contingency Table, basically a table having rows and columns indexed by values of a different Single Feature or combination of values of two or more than two features present in the pandas dataframe."
      ]
    },
    {
      "cell_type": "markdown",
      "metadata": {
        "id": "F-iuP2vhFuvC"
      },
      "source": [
        "###**Each cell** in this table, that is the **intersection of any column and row in the table has the count or frequency of occurrence of all the values used as index of a row as well as column of that specific cell jointly**, in the pandas dataframe. High Frequency implies High Relative Frequency which implies High Probability. Therefore, **using the Contingency table, we can easily determine that which values of different features are co-occuring most frequently or most probably and then we can use this information to fill up missing values.**"
      ]
    },
    {
      "cell_type": "code",
      "execution_count": null,
      "metadata": {
        "id": "uq5ziWbsCoHm"
      },
      "outputs": [],
      "source": [
        "crosstab_df_mdl_yr_mfc = pd.crosstab(data[\"model\"],\n",
        " [data[\"year\"],data[\"manufacturer\"]],rownames=[\"model\"],\n",
        "                                     colnames=[\"year\",\"manufacturer\"])"
      ]
    },
    {
      "cell_type": "markdown",
      "metadata": {
        "id": "9hQQ-eNDPC2t"
      },
      "source": [
        "###In the code snippet above, we have created a **Contingency table with rows as different Models of used cars and columns as different years as well as manufacturers of used cars, jointly.** Let's understand this with the help of an example."
      ]
    },
    {
      "cell_type": "code",
      "execution_count": null,
      "metadata": {
        "colab": {
          "base_uri": "https://localhost:8080/",
          "height": 523
        },
        "id": "0u_lrpIBM4Xc",
        "outputId": "8cb77b26-b023-4665-fc4a-007e421bfd9a"
      },
      "outputs": [
        {
          "data": {
            "text/html": [
              "\n",
              "  <div id=\"df-1959ae8e-0022-464c-aa1d-3fac45d57c79\" class=\"colab-df-container\">\n",
              "    <div>\n",
              "<style scoped>\n",
              "    .dataframe tbody tr th:only-of-type {\n",
              "        vertical-align: middle;\n",
              "    }\n",
              "\n",
              "    .dataframe tbody tr th {\n",
              "        vertical-align: top;\n",
              "    }\n",
              "\n",
              "    .dataframe thead tr th {\n",
              "        text-align: left;\n",
              "    }\n",
              "\n",
              "    .dataframe thead tr:last-of-type th {\n",
              "        text-align: right;\n",
              "    }\n",
              "</style>\n",
              "<table border=\"1\" class=\"dataframe\">\n",
              "  <thead>\n",
              "    <tr>\n",
              "      <th>year</th>\n",
              "      <th>1900.0</th>\n",
              "      <th>1901.0</th>\n",
              "      <th>1905.0</th>\n",
              "      <th colspan=\"2\" halign=\"left\">1913.0</th>\n",
              "      <th>1918.0</th>\n",
              "      <th>1920.0</th>\n",
              "      <th>1923.0</th>\n",
              "      <th colspan=\"2\" halign=\"left\">1924.0</th>\n",
              "      <th>...</th>\n",
              "      <th colspan=\"6\" halign=\"left\">2021.0</th>\n",
              "      <th colspan=\"4\" halign=\"left\">2022.0</th>\n",
              "    </tr>\n",
              "    <tr>\n",
              "      <th>manufacturer</th>\n",
              "      <th>acura</th>\n",
              "      <th>ford</th>\n",
              "      <th>chevrolet</th>\n",
              "      <th>cadillac</th>\n",
              "      <th>ford</th>\n",
              "      <th>ford</th>\n",
              "      <th>ford</th>\n",
              "      <th>ford</th>\n",
              "      <th>dodge</th>\n",
              "      <th>ford</th>\n",
              "      <th>...</th>\n",
              "      <th>ram</th>\n",
              "      <th>rover</th>\n",
              "      <th>subaru</th>\n",
              "      <th>toyota</th>\n",
              "      <th>volkswagen</th>\n",
              "      <th>volvo</th>\n",
              "      <th>chevrolet</th>\n",
              "      <th>ford</th>\n",
              "      <th>mitsubishi</th>\n",
              "      <th>toyota</th>\n",
              "    </tr>\n",
              "    <tr>\n",
              "      <th>model</th>\n",
              "      <th></th>\n",
              "      <th></th>\n",
              "      <th></th>\n",
              "      <th></th>\n",
              "      <th></th>\n",
              "      <th></th>\n",
              "      <th></th>\n",
              "      <th></th>\n",
              "      <th></th>\n",
              "      <th></th>\n",
              "      <th></th>\n",
              "      <th></th>\n",
              "      <th></th>\n",
              "      <th></th>\n",
              "      <th></th>\n",
              "      <th></th>\n",
              "      <th></th>\n",
              "      <th></th>\n",
              "      <th></th>\n",
              "      <th></th>\n",
              "      <th></th>\n",
              "    </tr>\n",
              "  </thead>\n",
              "  <tbody>\n",
              "    <tr>\n",
              "      <th>\"t\"</th>\n",
              "      <td>0</td>\n",
              "      <td>0</td>\n",
              "      <td>0</td>\n",
              "      <td>0</td>\n",
              "      <td>1</td>\n",
              "      <td>0</td>\n",
              "      <td>0</td>\n",
              "      <td>0</td>\n",
              "      <td>0</td>\n",
              "      <td>0</td>\n",
              "      <td>...</td>\n",
              "      <td>0</td>\n",
              "      <td>0</td>\n",
              "      <td>0</td>\n",
              "      <td>0</td>\n",
              "      <td>0</td>\n",
              "      <td>0</td>\n",
              "      <td>0</td>\n",
              "      <td>0</td>\n",
              "      <td>0</td>\n",
              "      <td>0</td>\n",
              "    </tr>\n",
              "    <tr>\n",
              "      <th>%</th>\n",
              "      <td>0</td>\n",
              "      <td>0</td>\n",
              "      <td>0</td>\n",
              "      <td>0</td>\n",
              "      <td>0</td>\n",
              "      <td>0</td>\n",
              "      <td>0</td>\n",
              "      <td>0</td>\n",
              "      <td>0</td>\n",
              "      <td>0</td>\n",
              "      <td>...</td>\n",
              "      <td>0</td>\n",
              "      <td>0</td>\n",
              "      <td>0</td>\n",
              "      <td>0</td>\n",
              "      <td>0</td>\n",
              "      <td>0</td>\n",
              "      <td>0</td>\n",
              "      <td>0</td>\n",
              "      <td>0</td>\n",
              "      <td>0</td>\n",
              "    </tr>\n",
              "    <tr>\n",
              "      <th>&amp; altima</th>\n",
              "      <td>0</td>\n",
              "      <td>0</td>\n",
              "      <td>0</td>\n",
              "      <td>0</td>\n",
              "      <td>0</td>\n",
              "      <td>0</td>\n",
              "      <td>0</td>\n",
              "      <td>0</td>\n",
              "      <td>0</td>\n",
              "      <td>0</td>\n",
              "      <td>...</td>\n",
              "      <td>0</td>\n",
              "      <td>0</td>\n",
              "      <td>0</td>\n",
              "      <td>0</td>\n",
              "      <td>0</td>\n",
              "      <td>0</td>\n",
              "      <td>0</td>\n",
              "      <td>0</td>\n",
              "      <td>0</td>\n",
              "      <td>0</td>\n",
              "    </tr>\n",
              "    <tr>\n",
              "      <th>'99 H1 Hummer</th>\n",
              "      <td>0</td>\n",
              "      <td>0</td>\n",
              "      <td>0</td>\n",
              "      <td>0</td>\n",
              "      <td>0</td>\n",
              "      <td>0</td>\n",
              "      <td>0</td>\n",
              "      <td>0</td>\n",
              "      <td>0</td>\n",
              "      <td>0</td>\n",
              "      <td>...</td>\n",
              "      <td>0</td>\n",
              "      <td>0</td>\n",
              "      <td>0</td>\n",
              "      <td>0</td>\n",
              "      <td>0</td>\n",
              "      <td>0</td>\n",
              "      <td>0</td>\n",
              "      <td>0</td>\n",
              "      <td>0</td>\n",
              "      <td>0</td>\n",
              "    </tr>\n",
              "    <tr>\n",
              "      <th>(210)</th>\n",
              "      <td>0</td>\n",
              "      <td>0</td>\n",
              "      <td>0</td>\n",
              "      <td>0</td>\n",
              "      <td>0</td>\n",
              "      <td>0</td>\n",
              "      <td>0</td>\n",
              "      <td>0</td>\n",
              "      <td>0</td>\n",
              "      <td>0</td>\n",
              "      <td>...</td>\n",
              "      <td>0</td>\n",
              "      <td>0</td>\n",
              "      <td>0</td>\n",
              "      <td>0</td>\n",
              "      <td>0</td>\n",
              "      <td>0</td>\n",
              "      <td>0</td>\n",
              "      <td>0</td>\n",
              "      <td>0</td>\n",
              "      <td>0</td>\n",
              "    </tr>\n",
              "    <tr>\n",
              "      <th>...</th>\n",
              "      <td>...</td>\n",
              "      <td>...</td>\n",
              "      <td>...</td>\n",
              "      <td>...</td>\n",
              "      <td>...</td>\n",
              "      <td>...</td>\n",
              "      <td>...</td>\n",
              "      <td>...</td>\n",
              "      <td>...</td>\n",
              "      <td>...</td>\n",
              "      <td>...</td>\n",
              "      <td>...</td>\n",
              "      <td>...</td>\n",
              "      <td>...</td>\n",
              "      <td>...</td>\n",
              "      <td>...</td>\n",
              "      <td>...</td>\n",
              "      <td>...</td>\n",
              "      <td>...</td>\n",
              "      <td>...</td>\n",
              "      <td>...</td>\n",
              "    </tr>\n",
              "    <tr>\n",
              "      <th>zl1 camaro</th>\n",
              "      <td>0</td>\n",
              "      <td>0</td>\n",
              "      <td>0</td>\n",
              "      <td>0</td>\n",
              "      <td>0</td>\n",
              "      <td>0</td>\n",
              "      <td>0</td>\n",
              "      <td>0</td>\n",
              "      <td>0</td>\n",
              "      <td>0</td>\n",
              "      <td>...</td>\n",
              "      <td>0</td>\n",
              "      <td>0</td>\n",
              "      <td>0</td>\n",
              "      <td>0</td>\n",
              "      <td>0</td>\n",
              "      <td>0</td>\n",
              "      <td>0</td>\n",
              "      <td>0</td>\n",
              "      <td>0</td>\n",
              "      <td>0</td>\n",
              "    </tr>\n",
              "    <tr>\n",
              "      <th>zr2 sonoma</th>\n",
              "      <td>0</td>\n",
              "      <td>0</td>\n",
              "      <td>0</td>\n",
              "      <td>0</td>\n",
              "      <td>0</td>\n",
              "      <td>0</td>\n",
              "      <td>0</td>\n",
              "      <td>0</td>\n",
              "      <td>0</td>\n",
              "      <td>0</td>\n",
              "      <td>...</td>\n",
              "      <td>0</td>\n",
              "      <td>0</td>\n",
              "      <td>0</td>\n",
              "      <td>0</td>\n",
              "      <td>0</td>\n",
              "      <td>0</td>\n",
              "      <td>0</td>\n",
              "      <td>0</td>\n",
              "      <td>0</td>\n",
              "      <td>0</td>\n",
              "    </tr>\n",
              "    <tr>\n",
              "      <th>zx2</th>\n",
              "      <td>0</td>\n",
              "      <td>0</td>\n",
              "      <td>0</td>\n",
              "      <td>0</td>\n",
              "      <td>0</td>\n",
              "      <td>0</td>\n",
              "      <td>0</td>\n",
              "      <td>0</td>\n",
              "      <td>0</td>\n",
              "      <td>0</td>\n",
              "      <td>...</td>\n",
              "      <td>0</td>\n",
              "      <td>0</td>\n",
              "      <td>0</td>\n",
              "      <td>0</td>\n",
              "      <td>0</td>\n",
              "      <td>0</td>\n",
              "      <td>0</td>\n",
              "      <td>0</td>\n",
              "      <td>0</td>\n",
              "      <td>0</td>\n",
              "    </tr>\n",
              "    <tr>\n",
              "      <th>♿</th>\n",
              "      <td>0</td>\n",
              "      <td>0</td>\n",
              "      <td>0</td>\n",
              "      <td>0</td>\n",
              "      <td>0</td>\n",
              "      <td>0</td>\n",
              "      <td>0</td>\n",
              "      <td>0</td>\n",
              "      <td>0</td>\n",
              "      <td>0</td>\n",
              "      <td>...</td>\n",
              "      <td>0</td>\n",
              "      <td>0</td>\n",
              "      <td>0</td>\n",
              "      <td>0</td>\n",
              "      <td>0</td>\n",
              "      <td>0</td>\n",
              "      <td>0</td>\n",
              "      <td>0</td>\n",
              "      <td>0</td>\n",
              "      <td>0</td>\n",
              "    </tr>\n",
              "    <tr>\n",
              "      <th>♿ vmi</th>\n",
              "      <td>0</td>\n",
              "      <td>0</td>\n",
              "      <td>0</td>\n",
              "      <td>0</td>\n",
              "      <td>0</td>\n",
              "      <td>0</td>\n",
              "      <td>0</td>\n",
              "      <td>0</td>\n",
              "      <td>0</td>\n",
              "      <td>0</td>\n",
              "      <td>...</td>\n",
              "      <td>0</td>\n",
              "      <td>0</td>\n",
              "      <td>0</td>\n",
              "      <td>0</td>\n",
              "      <td>0</td>\n",
              "      <td>0</td>\n",
              "      <td>0</td>\n",
              "      <td>0</td>\n",
              "      <td>0</td>\n",
              "      <td>0</td>\n",
              "    </tr>\n",
              "  </tbody>\n",
              "</table>\n",
              "<p>14487 rows × 1708 columns</p>\n",
              "</div>\n",
              "    <div class=\"colab-df-buttons\">\n",
              "\n",
              "  <div class=\"colab-df-container\">\n",
              "    <button class=\"colab-df-convert\" onclick=\"convertToInteractive('df-1959ae8e-0022-464c-aa1d-3fac45d57c79')\"\n",
              "            title=\"Convert this dataframe to an interactive table.\"\n",
              "            style=\"display:none;\">\n",
              "\n",
              "  <svg xmlns=\"http://www.w3.org/2000/svg\" height=\"24px\" viewBox=\"0 -960 960 960\">\n",
              "    <path d=\"M120-120v-720h720v720H120Zm60-500h600v-160H180v160Zm220 220h160v-160H400v160Zm0 220h160v-160H400v160ZM180-400h160v-160H180v160Zm440 0h160v-160H620v160ZM180-180h160v-160H180v160Zm440 0h160v-160H620v160Z\"/>\n",
              "  </svg>\n",
              "    </button>\n",
              "\n",
              "  <style>\n",
              "    .colab-df-container {\n",
              "      display:flex;\n",
              "      gap: 12px;\n",
              "    }\n",
              "\n",
              "    .colab-df-convert {\n",
              "      background-color: #E8F0FE;\n",
              "      border: none;\n",
              "      border-radius: 50%;\n",
              "      cursor: pointer;\n",
              "      display: none;\n",
              "      fill: #1967D2;\n",
              "      height: 32px;\n",
              "      padding: 0 0 0 0;\n",
              "      width: 32px;\n",
              "    }\n",
              "\n",
              "    .colab-df-convert:hover {\n",
              "      background-color: #E2EBFA;\n",
              "      box-shadow: 0px 1px 2px rgba(60, 64, 67, 0.3), 0px 1px 3px 1px rgba(60, 64, 67, 0.15);\n",
              "      fill: #174EA6;\n",
              "    }\n",
              "\n",
              "    .colab-df-buttons div {\n",
              "      margin-bottom: 4px;\n",
              "    }\n",
              "\n",
              "    [theme=dark] .colab-df-convert {\n",
              "      background-color: #3B4455;\n",
              "      fill: #D2E3FC;\n",
              "    }\n",
              "\n",
              "    [theme=dark] .colab-df-convert:hover {\n",
              "      background-color: #434B5C;\n",
              "      box-shadow: 0px 1px 3px 1px rgba(0, 0, 0, 0.15);\n",
              "      filter: drop-shadow(0px 1px 2px rgba(0, 0, 0, 0.3));\n",
              "      fill: #FFFFFF;\n",
              "    }\n",
              "  </style>\n",
              "\n",
              "    <script>\n",
              "      const buttonEl =\n",
              "        document.querySelector('#df-1959ae8e-0022-464c-aa1d-3fac45d57c79 button.colab-df-convert');\n",
              "      buttonEl.style.display =\n",
              "        google.colab.kernel.accessAllowed ? 'block' : 'none';\n",
              "\n",
              "      async function convertToInteractive(key) {\n",
              "        const element = document.querySelector('#df-1959ae8e-0022-464c-aa1d-3fac45d57c79');\n",
              "        const dataTable =\n",
              "          await google.colab.kernel.invokeFunction('convertToInteractive',\n",
              "                                                    [key], {});\n",
              "        if (!dataTable) return;\n",
              "\n",
              "        const docLinkHtml = 'Like what you see? Visit the ' +\n",
              "          '<a target=\"_blank\" href=https://colab.research.google.com/notebooks/data_table.ipynb>data table notebook</a>'\n",
              "          + ' to learn more about interactive tables.';\n",
              "        element.innerHTML = '';\n",
              "        dataTable['output_type'] = 'display_data';\n",
              "        await google.colab.output.renderOutput(dataTable, element);\n",
              "        const docLink = document.createElement('div');\n",
              "        docLink.innerHTML = docLinkHtml;\n",
              "        element.appendChild(docLink);\n",
              "      }\n",
              "    </script>\n",
              "  </div>\n",
              "\n",
              "\n",
              "<div id=\"df-f3f23604-200a-4a36-aa7d-0a3dbf4a9a89\">\n",
              "  <button class=\"colab-df-quickchart\" onclick=\"quickchart('df-f3f23604-200a-4a36-aa7d-0a3dbf4a9a89')\"\n",
              "            title=\"Suggest charts\"\n",
              "            style=\"display:none;\">\n",
              "\n",
              "<svg xmlns=\"http://www.w3.org/2000/svg\" height=\"24px\"viewBox=\"0 0 24 24\"\n",
              "     width=\"24px\">\n",
              "    <g>\n",
              "        <path d=\"M19 3H5c-1.1 0-2 .9-2 2v14c0 1.1.9 2 2 2h14c1.1 0 2-.9 2-2V5c0-1.1-.9-2-2-2zM9 17H7v-7h2v7zm4 0h-2V7h2v10zm4 0h-2v-4h2v4z\"/>\n",
              "    </g>\n",
              "</svg>\n",
              "  </button>\n",
              "\n",
              "<style>\n",
              "  .colab-df-quickchart {\n",
              "      --bg-color: #E8F0FE;\n",
              "      --fill-color: #1967D2;\n",
              "      --hover-bg-color: #E2EBFA;\n",
              "      --hover-fill-color: #174EA6;\n",
              "      --disabled-fill-color: #AAA;\n",
              "      --disabled-bg-color: #DDD;\n",
              "  }\n",
              "\n",
              "  [theme=dark] .colab-df-quickchart {\n",
              "      --bg-color: #3B4455;\n",
              "      --fill-color: #D2E3FC;\n",
              "      --hover-bg-color: #434B5C;\n",
              "      --hover-fill-color: #FFFFFF;\n",
              "      --disabled-bg-color: #3B4455;\n",
              "      --disabled-fill-color: #666;\n",
              "  }\n",
              "\n",
              "  .colab-df-quickchart {\n",
              "    background-color: var(--bg-color);\n",
              "    border: none;\n",
              "    border-radius: 50%;\n",
              "    cursor: pointer;\n",
              "    display: none;\n",
              "    fill: var(--fill-color);\n",
              "    height: 32px;\n",
              "    padding: 0;\n",
              "    width: 32px;\n",
              "  }\n",
              "\n",
              "  .colab-df-quickchart:hover {\n",
              "    background-color: var(--hover-bg-color);\n",
              "    box-shadow: 0 1px 2px rgba(60, 64, 67, 0.3), 0 1px 3px 1px rgba(60, 64, 67, 0.15);\n",
              "    fill: var(--button-hover-fill-color);\n",
              "  }\n",
              "\n",
              "  .colab-df-quickchart-complete:disabled,\n",
              "  .colab-df-quickchart-complete:disabled:hover {\n",
              "    background-color: var(--disabled-bg-color);\n",
              "    fill: var(--disabled-fill-color);\n",
              "    box-shadow: none;\n",
              "  }\n",
              "\n",
              "  .colab-df-spinner {\n",
              "    border: 2px solid var(--fill-color);\n",
              "    border-color: transparent;\n",
              "    border-bottom-color: var(--fill-color);\n",
              "    animation:\n",
              "      spin 1s steps(1) infinite;\n",
              "  }\n",
              "\n",
              "  @keyframes spin {\n",
              "    0% {\n",
              "      border-color: transparent;\n",
              "      border-bottom-color: var(--fill-color);\n",
              "      border-left-color: var(--fill-color);\n",
              "    }\n",
              "    20% {\n",
              "      border-color: transparent;\n",
              "      border-left-color: var(--fill-color);\n",
              "      border-top-color: var(--fill-color);\n",
              "    }\n",
              "    30% {\n",
              "      border-color: transparent;\n",
              "      border-left-color: var(--fill-color);\n",
              "      border-top-color: var(--fill-color);\n",
              "      border-right-color: var(--fill-color);\n",
              "    }\n",
              "    40% {\n",
              "      border-color: transparent;\n",
              "      border-right-color: var(--fill-color);\n",
              "      border-top-color: var(--fill-color);\n",
              "    }\n",
              "    60% {\n",
              "      border-color: transparent;\n",
              "      border-right-color: var(--fill-color);\n",
              "    }\n",
              "    80% {\n",
              "      border-color: transparent;\n",
              "      border-right-color: var(--fill-color);\n",
              "      border-bottom-color: var(--fill-color);\n",
              "    }\n",
              "    90% {\n",
              "      border-color: transparent;\n",
              "      border-bottom-color: var(--fill-color);\n",
              "    }\n",
              "  }\n",
              "</style>\n",
              "\n",
              "  <script>\n",
              "    async function quickchart(key) {\n",
              "      const quickchartButtonEl =\n",
              "        document.querySelector('#' + key + ' button');\n",
              "      quickchartButtonEl.disabled = true;  // To prevent multiple clicks.\n",
              "      quickchartButtonEl.classList.add('colab-df-spinner');\n",
              "      try {\n",
              "        const charts = await google.colab.kernel.invokeFunction(\n",
              "            'suggestCharts', [key], {});\n",
              "      } catch (error) {\n",
              "        console.error('Error during call to suggestCharts:', error);\n",
              "      }\n",
              "      quickchartButtonEl.classList.remove('colab-df-spinner');\n",
              "      quickchartButtonEl.classList.add('colab-df-quickchart-complete');\n",
              "    }\n",
              "    (() => {\n",
              "      let quickchartButtonEl =\n",
              "        document.querySelector('#df-f3f23604-200a-4a36-aa7d-0a3dbf4a9a89 button');\n",
              "      quickchartButtonEl.style.display =\n",
              "        google.colab.kernel.accessAllowed ? 'block' : 'none';\n",
              "    })();\n",
              "  </script>\n",
              "</div>\n",
              "    </div>\n",
              "  </div>\n"
            ],
            "text/plain": [
              "year          1900.0 1901.0    1905.0   1913.0      1918.0 1920.0 1923.0  \\\n",
              "manufacturer   acura   ford chevrolet cadillac ford   ford   ford   ford   \n",
              "model                                                                      \n",
              "\"t\"                0      0         0        0    1      0      0      0   \n",
              "%                  0      0         0        0    0      0      0      0   \n",
              "& altima           0      0         0        0    0      0      0      0   \n",
              "'99 H1 Hummer      0      0         0        0    0      0      0      0   \n",
              "(210)              0      0         0        0    0      0      0      0   \n",
              "...              ...    ...       ...      ...  ...    ...    ...    ...   \n",
              "zl1 camaro         0      0         0        0    0      0      0      0   \n",
              "zr2 sonoma         0      0         0        0    0      0      0      0   \n",
              "zx2                0      0         0        0    0      0      0      0   \n",
              "♿                  0      0         0        0    0      0      0      0   \n",
              "♿ vmi              0      0         0        0    0      0      0      0   \n",
              "\n",
              "year          1924.0       ... 2021.0                                       \\\n",
              "manufacturer   dodge ford  ...    ram rover subaru toyota volkswagen volvo   \n",
              "model                      ...                                               \n",
              "\"t\"                0    0  ...      0     0      0      0          0     0   \n",
              "%                  0    0  ...      0     0      0      0          0     0   \n",
              "& altima           0    0  ...      0     0      0      0          0     0   \n",
              "'99 H1 Hummer      0    0  ...      0     0      0      0          0     0   \n",
              "(210)              0    0  ...      0     0      0      0          0     0   \n",
              "...              ...  ...  ...    ...   ...    ...    ...        ...   ...   \n",
              "zl1 camaro         0    0  ...      0     0      0      0          0     0   \n",
              "zr2 sonoma         0    0  ...      0     0      0      0          0     0   \n",
              "zx2                0    0  ...      0     0      0      0          0     0   \n",
              "♿                  0    0  ...      0     0      0      0          0     0   \n",
              "♿ vmi              0    0  ...      0     0      0      0          0     0   \n",
              "\n",
              "year             2022.0                         \n",
              "manufacturer  chevrolet ford mitsubishi toyota  \n",
              "model                                           \n",
              "\"t\"                   0    0          0      0  \n",
              "%                     0    0          0      0  \n",
              "& altima              0    0          0      0  \n",
              "'99 H1 Hummer         0    0          0      0  \n",
              "(210)                 0    0          0      0  \n",
              "...                 ...  ...        ...    ...  \n",
              "zl1 camaro            0    0          0      0  \n",
              "zr2 sonoma            0    0          0      0  \n",
              "zx2                   0    0          0      0  \n",
              "♿                     0    0          0      0  \n",
              "♿ vmi                 0    0          0      0  \n",
              "\n",
              "[14487 rows x 1708 columns]"
            ]
          },
          "execution_count": 30,
          "metadata": {},
          "output_type": "execute_result"
        }
      ],
      "source": [
        "crosstab_df_mdl_yr_mfc"
      ]
    },
    {
      "cell_type": "markdown",
      "metadata": {
        "id": "GWL_Mfw6OSfy"
      },
      "source": [
        "#Each entry in a cell shows a Frequency or Count, as shown above."
      ]
    },
    {
      "cell_type": "markdown",
      "metadata": {
        "id": "_s4ffO27oRna"
      },
      "source": [
        "#**Let's try to determine that ```if (data[\"year\"] == 2022) and (data[\"manufacturer\"] == \"toyota\")``` then what will be the most probable or most frequent ```model```.**"
      ]
    },
    {
      "cell_type": "code",
      "execution_count": null,
      "metadata": {
        "colab": {
          "base_uri": "https://localhost:8080/"
        },
        "id": "njU7jKVfl-65",
        "outputId": "13f8b89e-19d4-4bb9-bdcb-cf41d7e5d688"
      },
      "outputs": [
        {
          "data": {
            "text/plain": [
              "(2022.0, 'toyota')"
            ]
          },
          "execution_count": 33,
          "metadata": {},
          "output_type": "execute_result"
        }
      ],
      "source": [
        "crosstab_df_mdl_yr_mfc.columns[-1]"
      ]
    },
    {
      "cell_type": "markdown",
      "metadata": {
        "id": "rSlKW_PDpajJ"
      },
      "source": [
        "#**Let's first try to determine the Frequency Distribution over different ```model```s based on the condition that ```(data[\"year\"] == 2022) and (data[\"manufacturer\"] == \"toyota\")```.**  "
      ]
    },
    {
      "cell_type": "markdown",
      "metadata": {
        "id": "_lcdNrjCqZjj"
      },
      "source": [
        "#**In mathematical terms, we are trying to determine $F($ ```model```|(```year = 2022``` $\\cap$ ```manufacturer = \"toyota\"```)$)$**"
      ]
    },
    {
      "cell_type": "markdown",
      "metadata": {
        "id": "uJnB6qcHruki"
      },
      "source": [
        "#**And the frequency distribution, $F($ ```model```|(```year = 2022``` $\\cap$ ```manufacturer = \"toyota\"```)$)$ is:**"
      ]
    },
    {
      "cell_type": "code",
      "execution_count": null,
      "metadata": {
        "id": "VwMEIvbBmbGh"
      },
      "outputs": [],
      "source": [
        "freq_dist = crosstab_df_mdl_yr_mfc[crosstab_df_mdl_yr_mfc.columns[-1]]"
      ]
    },
    {
      "cell_type": "code",
      "execution_count": null,
      "metadata": {
        "colab": {
          "base_uri": "https://localhost:8080/"
        },
        "id": "LXhLZPuAssj0",
        "outputId": "844a0e7c-4ce6-43f2-f3ff-6866357e4e8d"
      },
      "outputs": [
        {
          "data": {
            "text/plain": [
              "model\n",
              "\"t\"              0\n",
              "%                0\n",
              "& altima         0\n",
              "'99 H1 Hummer    0\n",
              "(210)            0\n",
              "                ..\n",
              "zl1 camaro       0\n",
              "zr2 sonoma       0\n",
              "zx2              0\n",
              "♿                0\n",
              "♿ vmi            0\n",
              "Name: (2022.0, toyota), Length: 14487, dtype: int64"
            ]
          },
          "execution_count": 43,
          "metadata": {},
          "output_type": "execute_result"
        }
      ],
      "source": [
        "freq_dist"
      ]
    },
    {
      "cell_type": "markdown",
      "metadata": {
        "id": "JexK9bTMubBQ"
      },
      "source": [
        "###Now, let's try to determine that **out of all the models, which model has got the highest frequency or most frequent or most probable.**"
      ]
    },
    {
      "cell_type": "code",
      "execution_count": null,
      "metadata": {
        "colab": {
          "base_uri": "https://localhost:8080/",
          "height": 35
        },
        "id": "f7Y34RbSrniY",
        "outputId": "652a2f35-071e-4922-a2a2-9fc613062471"
      },
      "outputs": [
        {
          "data": {
            "application/vnd.google.colaboratory.intrinsic+json": {
              "type": "string"
            },
            "text/plain": [
              "'mighty max'"
            ]
          },
          "execution_count": 52,
          "metadata": {},
          "output_type": "execute_result"
        }
      ],
      "source": [
        "freq_dist.index[freq_dist.argmax()]"
      ]
    },
    {
      "cell_type": "markdown",
      "metadata": {
        "id": "D1IFYAj_vMGE"
      },
      "source": [
        "###Therefore, we can conclude that, **$F($ ```model = \"mighty max\"```|(```year = 2022``` $\\cap$ ```manufacturer = \"toyota\"```)$)$ is highest among all the other Frequencies.** Therefore, **everytime in our data whenever in any row, ```(year == 2022) and (manufacturer == \"toyota\")``` and if missing value is there in the ```model``` of that row then we are going to fill up that missing value with ```\"mighty max\"```.**"
      ]
    },
    {
      "cell_type": "markdown",
      "metadata": {
        "id": "na1e9Zt_2jQm"
      },
      "source": [
        "###**Note:** Actually we are computing $F($ ```model = \"mighty max\"``` $\\cap$ ```year = 2022``` $\\cap$ ```manufacturer = \"toyota\"```$)$ instead of computing $F($ ```model = \"mighty max\"```|(```year = 2022``` $\\cap$ ```manufacturer = \"toyota\"```)$)$ because from the equation of Conditional Probability, we know that:\n",
        "\n",
        "\\begin{equation}\n",
        "P(A|B) = \\frac{P(A \\cap B)}{P(B)}\n",
        "\\end{equation}"
      ]
    },
    {
      "cell_type": "markdown",
      "metadata": {
        "id": "Y3FX5J_q4SxU"
      },
      "source": [
        "###Following on the same definition of the Conditional Probability, we can say that:\n",
        "\n",
        "#$P(\\text{model} | \\text{year} \\cap \\text{manufacturer}) = \\frac{P(\\text{model} \\cap \\text{year} \\cap \\text{manufacturer})}{P(\\text{year} \\cap \\text{manufacturer})}$"
      ]
    },
    {
      "cell_type": "markdown",
      "metadata": {
        "id": "SSqRrxvE7eHq"
      },
      "source": [
        "###But the fact is that, **$P(\\text{year} \\cap \\text{manufacturer})$ remains constant** and therefore:"
      ]
    },
    {
      "cell_type": "markdown",
      "metadata": {
        "id": "LJvZs6Zt8xfa"
      },
      "source": [
        "$P(\\text{model} | \\text{year} \\cap \\text{manufacturer}) ∝ P(\\text{model} \\cap \\text{year} \\cap \\text{manufacturer})$"
      ]
    },
    {
      "cell_type": "markdown",
      "metadata": {
        "id": "-e9GRFqx86xm"
      },
      "source": [
        "#OR"
      ]
    },
    {
      "cell_type": "markdown",
      "metadata": {
        "id": "U9sJzoz79BqB"
      },
      "source": [
        "$F(\\text{model} | \\text{year} \\cap \\text{manufacturer}) ∝ F(\\text{model} \\cap \\text{year} \\cap \\text{manufacturer})$"
      ]
    },
    {
      "cell_type": "markdown",
      "metadata": {
        "id": "W_KiJE9N9IxN"
      },
      "source": [
        "###**Therefore, whether we compute the highest $F(\\text{model} | \\text{year} \\cap \\text{manufacturer})$ or $F(\\text{model} \\cap \\text{year} \\cap \\text{manufacturer})$, it's the same thing, we will get the same value of ```model``` for ```year``` $\\cap$ ```manufacturer```.**"
      ]
    },
    {
      "cell_type": "markdown",
      "metadata": {
        "id": "6PqrIC539q-g"
      },
      "source": [
        "###**And, it's easier to compute $F(\\text{model} \\cap \\text{year} \\cap \\text{manufacturer})$ rather than computing $F(\\text{model} | \\text{year} \\cap \\text{manufacturer})$, therefore we decided to compute $F(\\text{model} \\cap \\text{year} \\cap \\text{manufacturer})$**"
      ]
    },
    {
      "cell_type": "markdown",
      "metadata": {
        "id": "5BjExQGTwxRL"
      },
      "source": [
        "###In a similar way **we can determine the highest occurring ```model``` for the combination of each ```year``` as well as ```manufacturer```, that is ```(year``` $\\cap$ ```manufacturer)```**"
      ]
    },
    {
      "cell_type": "code",
      "execution_count": null,
      "metadata": {
        "id": "0LclX7BdDM6J"
      },
      "outputs": [],
      "source": [
        "mapping_dict = dict()\n",
        "\n",
        "for single_col in crosstab_df_mdl_yr_mfc.columns:\n",
        "  mapping_dict[single_col] = crosstab_df_mdl_yr_mfc[single_col].index[crosstab_df_mdl_yr_mfc[single_col].argmax()]"
      ]
    },
    {
      "cell_type": "markdown",
      "metadata": {
        "id": "nFi4F1dIxZT4"
      },
      "source": [
        "#The code snippet above is actually maintaining the dictionary of most frequent occuring ```model``` for ```(year``` $\\cap$ ```manufacturer)```"
      ]
    },
    {
      "cell_type": "code",
      "execution_count": null,
      "metadata": {
        "id": "s72vpu7hFXNO"
      },
      "outputs": [],
      "source": [
        "for k in mapping_dict.keys():\n",
        "  boolean_mask = (data[\"year\"] == k[0]) & (data[\"manufacturer\"] == k[1])\n",
        "  data.loc[boolean_mask,\"model\"] = data.loc[boolean_mask,\"model\"].fillna(value=mapping_dict[k],inplace=False)"
      ]
    },
    {
      "cell_type": "markdown",
      "metadata": {
        "id": "f_D2LH-1x6db"
      },
      "source": [
        "#The code snippet above is using the dictionary maintained to fill up the missing values in the rows having specific ```year``` as well as ```manufacturer```."
      ]
    },
    {
      "cell_type": "code",
      "execution_count": null,
      "metadata": {
        "id": "xei59aWJezzj"
      },
      "outputs": [],
      "source": [
        "data[\"model\"].fillna(value=data[\"model\"].value_counts().index[data[\"model\"].value_counts().argmax()],\n",
        "                           inplace=True)"
      ]
    },
    {
      "cell_type": "markdown",
      "metadata": {
        "id": "p-5kYVjqyS_w"
      },
      "source": [
        "#Even after filling up missing values using the dictionary, **still some missing values are left and therefore we are simply going to fill up them with the most frequently occurring ```model``` irrespective of ```(year``` $\\cap$ ```manufacturer)```**"
      ]
    },
    {
      "cell_type": "code",
      "execution_count": null,
      "metadata": {
        "id": "QYVIjN4qjLFO"
      },
      "outputs": [],
      "source": [
        "data[\"cylinders\"].fillna(value=data[\"cylinders\"].value_counts().index[data[\"cylinders\"].value_counts().argmax()],\n",
        "                           inplace=True)"
      ]
    },
    {
      "cell_type": "markdown",
      "metadata": {
        "id": "abZKM6PO0r5r"
      },
      "source": [
        "#As the **values in ```cylinder``` column usually doesn't depends upon the values in any other column and therefore, we are not going to create any kind of contingency table in this case** and simply fill up all the missing values with the most frequently occurring value."
      ]
    },
    {
      "cell_type": "code",
      "execution_count": null,
      "metadata": {
        "id": "AY-3HPNdkmsx"
      },
      "outputs": [],
      "source": [
        "crosstab_df_type_mfc = pd.crosstab(data[\"type\"],\n",
        "                                       data[\"manufacturer\"],rownames=[\"type\"],\n",
        "                                     colnames=[\"manufacturer\"])"
      ]
    },
    {
      "cell_type": "code",
      "execution_count": null,
      "metadata": {
        "id": "_uE0OFAFlK4l"
      },
      "outputs": [],
      "source": [
        "mapping_dict = dict()\n",
        "\n",
        "for single_col in crosstab_df_type_mfc.columns:\n",
        "  mapping_dict[single_col] = crosstab_df_type_mfc[single_col].index[crosstab_df_type_mfc[single_col].argmax()]"
      ]
    },
    {
      "cell_type": "code",
      "execution_count": null,
      "metadata": {
        "id": "tIjxN3eolfEK"
      },
      "outputs": [],
      "source": [
        "for k in mapping_dict.keys():\n",
        "  boolean_mask = (data[\"manufacturer\"] == k)\n",
        "  data.loc[boolean_mask,\"type\"] = data.loc[boolean_mask,\"type\"].fillna(value=mapping_dict[k],inplace=False)"
      ]
    },
    {
      "cell_type": "code",
      "execution_count": null,
      "metadata": {
        "id": "L_sZdpYio4XZ"
      },
      "outputs": [],
      "source": [
        "crosstab_df_drive_mfc_mdl = pd.crosstab(data[\"drive\"],\n",
        "                                       [data[\"manufacturer\"], data[\"model\"]],rownames=[\"drive\"],\n",
        "                                     colnames=[\"manufacturer\",\"model\"])"
      ]
    },
    {
      "cell_type": "code",
      "execution_count": null,
      "metadata": {
        "id": "0qIc1uhHpafH"
      },
      "outputs": [],
      "source": [
        "mapping_dict = dict()\n",
        "\n",
        "for single_col in crosstab_df_drive_mfc_mdl.columns:\n",
        "  mapping_dict[single_col] = crosstab_df_drive_mfc_mdl[single_col].index[crosstab_df_drive_mfc_mdl[single_col].argmax()]"
      ]
    },
    {
      "cell_type": "code",
      "execution_count": null,
      "metadata": {
        "id": "gm9aJfKWpu7Y"
      },
      "outputs": [],
      "source": [
        "for k in mapping_dict.keys():\n",
        "  boolean_mask = (data[\"manufacturer\"] == k[0]) & (data[\"model\"] == k[1])\n",
        "  data.loc[boolean_mask,\"drive\"] = data.loc[boolean_mask,\"drive\"].fillna(value=mapping_dict[k],inplace=False)"
      ]
    },
    {
      "cell_type": "code",
      "execution_count": null,
      "metadata": {
        "id": "yuT6x7dZrn78"
      },
      "outputs": [],
      "source": [
        "data[\"drive\"].fillna(value=data[\"drive\"].value_counts().index[data[\"drive\"].value_counts().argmax()],\n",
        "                           inplace=True)"
      ]
    },
    {
      "cell_type": "code",
      "execution_count": null,
      "metadata": {
        "id": "rDr0tyfnsCMa"
      },
      "outputs": [],
      "source": [
        "crosstab_df_size_mfc_mdl = pd.crosstab(data[\"size\"],\n",
        "                                       [data[\"manufacturer\"], data[\"model\"]],rownames=[\"size\"],\n",
        "                                     colnames=[\"manufacturer\",\"model\"])"
      ]
    },
    {
      "cell_type": "code",
      "execution_count": null,
      "metadata": {
        "id": "yGrsdLnlsPpy"
      },
      "outputs": [],
      "source": [
        "mapping_dict = dict()\n",
        "\n",
        "for single_col in crosstab_df_size_mfc_mdl.columns:\n",
        "  mapping_dict[single_col] = crosstab_df_size_mfc_mdl[single_col].index[crosstab_df_size_mfc_mdl[single_col].argmax()]"
      ]
    },
    {
      "cell_type": "code",
      "execution_count": null,
      "metadata": {
        "id": "LoiTM47asjJN"
      },
      "outputs": [],
      "source": [
        "for k in mapping_dict.keys():\n",
        "  boolean_mask = (data[\"manufacturer\"] == k[0]) & (data[\"model\"] == k[1])\n",
        "  data.loc[boolean_mask,\"size\"] = data.loc[boolean_mask,\"size\"].fillna(value=mapping_dict[k],inplace=False)"
      ]
    },
    {
      "cell_type": "code",
      "execution_count": null,
      "metadata": {
        "id": "b-C2faEyuVS9"
      },
      "outputs": [],
      "source": [
        "data[\"size\"].fillna(value=data[\"size\"].value_counts().index[data[\"size\"].value_counts().argmax()],\n",
        "                           inplace=True)"
      ]
    },
    {
      "cell_type": "markdown",
      "metadata": {
        "id": "-gmNoM_bzPY7"
      },
      "source": [
        "###In the code snippets above, **we are filling up the missing values in:**\n",
        "\n",
        "1. ```type``` column based on ```manufacturer``` by creating their contingency table.\n",
        "\n",
        "2. ```drive``` column based on ```(manufacturer``` $\\cap$ ```model)``` by creating their contingency table.\n",
        "\n",
        "3. ```size``` column based on ```(manufacturer``` $\\cap$ ```model)``` by creating their contingency table."
      ]
    },
    {
      "cell_type": "code",
      "execution_count": null,
      "metadata": {
        "colab": {
          "base_uri": "https://localhost:8080/"
        },
        "id": "wUsRp-fwv7dH",
        "outputId": "b8bca3fa-902c-4d8d-f034-de7bdd713b00"
      },
      "outputs": [
        {
          "data": {
            "text/plain": [
              "price           0\n",
              "year            0\n",
              "manufacturer    0\n",
              "model           0\n",
              "condition       0\n",
              "cylinders       0\n",
              "fuel            0\n",
              "odometer        0\n",
              "transmission    0\n",
              "drive           0\n",
              "size            0\n",
              "type            0\n",
              "paint_color     0\n",
              "dtype: int64"
            ]
          },
          "execution_count": 54,
          "metadata": {},
          "output_type": "execute_result"
        }
      ],
      "source": [
        "data.isna().sum()"
      ]
    },
    {
      "cell_type": "markdown",
      "metadata": {
        "id": "1N-UfwRb1DfC"
      },
      "source": [
        "#As we can see above that we are not left with any missing values in any column."
      ]
    },
    {
      "cell_type": "markdown",
      "metadata": {
        "id": "AIuk1PKx1Ovw"
      },
      "source": [
        "#Finally, let's write the cleaned data into another ```.csv``` file **so that for training the Linear Regression model, we can directly read this file, ignoring to repeat all the above steps which we did before to clean the data.**"
      ]
    },
    {
      "cell_type": "code",
      "execution_count": null,
      "metadata": {
        "id": "E5lVt6yAueQi"
      },
      "outputs": [],
      "source": [
        "data.to_csv(\"/content/cleaned_vehicles.csv\")"
      ]
    },
    {
      "cell_type": "markdown",
      "metadata": {
        "id": "icR6PADR1sC_"
      },
      "source": [
        "#Now, **let's copy this file to the google drive** so that it can be retained anytime whenever needed."
      ]
    },
    {
      "cell_type": "code",
      "execution_count": null,
      "metadata": {
        "id": "sKUMKMl1unPH"
      },
      "outputs": [],
      "source": [
        "!cp /content/cleaned_vehicles.csv /content/drive/MyDrive/"
      ]
    },
    {
      "cell_type": "markdown",
      "metadata": {
        "id": "vJ8cMgj5sGA_"
      },
      "source": [
        "##Let's copy the file of the cleaned data from google drive back into the local drive and **encode categorical values either into integers or One Hot Encoding.**"
      ]
    },
    {
      "cell_type": "code",
      "source": [
        "import pandas as pd\n",
        "import numpy as np\n",
        "import matplotlib.pyplot as plt\n",
        "import seaborn as sns\n",
        "from sklearn.preprocessing import PolynomialFeatures"
      ],
      "metadata": {
        "id": "Utc6OJVIhvXn"
      },
      "execution_count": 322,
      "outputs": []
    },
    {
      "cell_type": "code",
      "execution_count": 323,
      "metadata": {
        "id": "eKJNnyItvSIZ"
      },
      "outputs": [],
      "source": [
        "!cp /content/drive/MyDrive/cleaned_vehicles.csv /content"
      ]
    },
    {
      "cell_type": "code",
      "execution_count": 324,
      "metadata": {
        "id": "BeJ1iK6xtpI1"
      },
      "outputs": [],
      "source": [
        "data = pd.read_csv(\"/content/cleaned_vehicles.csv\")"
      ]
    },
    {
      "cell_type": "code",
      "execution_count": 325,
      "metadata": {
        "id": "VHrTlEuIt0eL"
      },
      "outputs": [],
      "source": [
        "data = data.iloc[:,1:]"
      ]
    },
    {
      "cell_type": "code",
      "execution_count": 326,
      "metadata": {
        "colab": {
          "base_uri": "https://localhost:8080/",
          "height": 293
        },
        "id": "9r3vsowht3JM",
        "outputId": "53c753fd-b704-4a75-8030-aa853436ffb7"
      },
      "outputs": [
        {
          "output_type": "execute_result",
          "data": {
            "text/plain": [
              "   price    year manufacturer                        model  condition  \\\n",
              "0  15000  2013.0         ford                    f-150 xlt  excellent   \n",
              "1  27990  2012.0          gmc  sierra 2500 hd extended cab       good   \n",
              "2  34590  2016.0    chevrolet        silverado 1500 double       good   \n",
              "3  35000  2019.0       toyota                       tacoma  excellent   \n",
              "4  29990  2016.0    chevrolet        colorado extended cab       good   \n",
              "\n",
              "     cylinders fuel  odometer transmission drive       size    type  \\\n",
              "0  6 cylinders  gas  128000.0    automatic   rwd  full-size   truck   \n",
              "1  8 cylinders  gas   68696.0        other   4wd  full-size  pickup   \n",
              "2  6 cylinders  gas   29499.0        other   4wd  full-size  pickup   \n",
              "3  6 cylinders  gas   43000.0    automatic   4wd   mid-size   truck   \n",
              "4  6 cylinders  gas   17302.0        other   4wd   mid-size  pickup   \n",
              "\n",
              "  paint_color  \n",
              "0       black  \n",
              "1       black  \n",
              "2      silver  \n",
              "3        grey  \n",
              "4         red  "
            ],
            "text/html": [
              "\n",
              "  <div id=\"df-4308c863-5ec8-4aa7-9cd2-0c2a8ca0e1f9\" class=\"colab-df-container\">\n",
              "    <div>\n",
              "<style scoped>\n",
              "    .dataframe tbody tr th:only-of-type {\n",
              "        vertical-align: middle;\n",
              "    }\n",
              "\n",
              "    .dataframe tbody tr th {\n",
              "        vertical-align: top;\n",
              "    }\n",
              "\n",
              "    .dataframe thead th {\n",
              "        text-align: right;\n",
              "    }\n",
              "</style>\n",
              "<table border=\"1\" class=\"dataframe\">\n",
              "  <thead>\n",
              "    <tr style=\"text-align: right;\">\n",
              "      <th></th>\n",
              "      <th>price</th>\n",
              "      <th>year</th>\n",
              "      <th>manufacturer</th>\n",
              "      <th>model</th>\n",
              "      <th>condition</th>\n",
              "      <th>cylinders</th>\n",
              "      <th>fuel</th>\n",
              "      <th>odometer</th>\n",
              "      <th>transmission</th>\n",
              "      <th>drive</th>\n",
              "      <th>size</th>\n",
              "      <th>type</th>\n",
              "      <th>paint_color</th>\n",
              "    </tr>\n",
              "  </thead>\n",
              "  <tbody>\n",
              "    <tr>\n",
              "      <th>0</th>\n",
              "      <td>15000</td>\n",
              "      <td>2013.0</td>\n",
              "      <td>ford</td>\n",
              "      <td>f-150 xlt</td>\n",
              "      <td>excellent</td>\n",
              "      <td>6 cylinders</td>\n",
              "      <td>gas</td>\n",
              "      <td>128000.0</td>\n",
              "      <td>automatic</td>\n",
              "      <td>rwd</td>\n",
              "      <td>full-size</td>\n",
              "      <td>truck</td>\n",
              "      <td>black</td>\n",
              "    </tr>\n",
              "    <tr>\n",
              "      <th>1</th>\n",
              "      <td>27990</td>\n",
              "      <td>2012.0</td>\n",
              "      <td>gmc</td>\n",
              "      <td>sierra 2500 hd extended cab</td>\n",
              "      <td>good</td>\n",
              "      <td>8 cylinders</td>\n",
              "      <td>gas</td>\n",
              "      <td>68696.0</td>\n",
              "      <td>other</td>\n",
              "      <td>4wd</td>\n",
              "      <td>full-size</td>\n",
              "      <td>pickup</td>\n",
              "      <td>black</td>\n",
              "    </tr>\n",
              "    <tr>\n",
              "      <th>2</th>\n",
              "      <td>34590</td>\n",
              "      <td>2016.0</td>\n",
              "      <td>chevrolet</td>\n",
              "      <td>silverado 1500 double</td>\n",
              "      <td>good</td>\n",
              "      <td>6 cylinders</td>\n",
              "      <td>gas</td>\n",
              "      <td>29499.0</td>\n",
              "      <td>other</td>\n",
              "      <td>4wd</td>\n",
              "      <td>full-size</td>\n",
              "      <td>pickup</td>\n",
              "      <td>silver</td>\n",
              "    </tr>\n",
              "    <tr>\n",
              "      <th>3</th>\n",
              "      <td>35000</td>\n",
              "      <td>2019.0</td>\n",
              "      <td>toyota</td>\n",
              "      <td>tacoma</td>\n",
              "      <td>excellent</td>\n",
              "      <td>6 cylinders</td>\n",
              "      <td>gas</td>\n",
              "      <td>43000.0</td>\n",
              "      <td>automatic</td>\n",
              "      <td>4wd</td>\n",
              "      <td>mid-size</td>\n",
              "      <td>truck</td>\n",
              "      <td>grey</td>\n",
              "    </tr>\n",
              "    <tr>\n",
              "      <th>4</th>\n",
              "      <td>29990</td>\n",
              "      <td>2016.0</td>\n",
              "      <td>chevrolet</td>\n",
              "      <td>colorado extended cab</td>\n",
              "      <td>good</td>\n",
              "      <td>6 cylinders</td>\n",
              "      <td>gas</td>\n",
              "      <td>17302.0</td>\n",
              "      <td>other</td>\n",
              "      <td>4wd</td>\n",
              "      <td>mid-size</td>\n",
              "      <td>pickup</td>\n",
              "      <td>red</td>\n",
              "    </tr>\n",
              "  </tbody>\n",
              "</table>\n",
              "</div>\n",
              "    <div class=\"colab-df-buttons\">\n",
              "\n",
              "  <div class=\"colab-df-container\">\n",
              "    <button class=\"colab-df-convert\" onclick=\"convertToInteractive('df-4308c863-5ec8-4aa7-9cd2-0c2a8ca0e1f9')\"\n",
              "            title=\"Convert this dataframe to an interactive table.\"\n",
              "            style=\"display:none;\">\n",
              "\n",
              "  <svg xmlns=\"http://www.w3.org/2000/svg\" height=\"24px\" viewBox=\"0 -960 960 960\">\n",
              "    <path d=\"M120-120v-720h720v720H120Zm60-500h600v-160H180v160Zm220 220h160v-160H400v160Zm0 220h160v-160H400v160ZM180-400h160v-160H180v160Zm440 0h160v-160H620v160ZM180-180h160v-160H180v160Zm440 0h160v-160H620v160Z\"/>\n",
              "  </svg>\n",
              "    </button>\n",
              "\n",
              "  <style>\n",
              "    .colab-df-container {\n",
              "      display:flex;\n",
              "      gap: 12px;\n",
              "    }\n",
              "\n",
              "    .colab-df-convert {\n",
              "      background-color: #E8F0FE;\n",
              "      border: none;\n",
              "      border-radius: 50%;\n",
              "      cursor: pointer;\n",
              "      display: none;\n",
              "      fill: #1967D2;\n",
              "      height: 32px;\n",
              "      padding: 0 0 0 0;\n",
              "      width: 32px;\n",
              "    }\n",
              "\n",
              "    .colab-df-convert:hover {\n",
              "      background-color: #E2EBFA;\n",
              "      box-shadow: 0px 1px 2px rgba(60, 64, 67, 0.3), 0px 1px 3px 1px rgba(60, 64, 67, 0.15);\n",
              "      fill: #174EA6;\n",
              "    }\n",
              "\n",
              "    .colab-df-buttons div {\n",
              "      margin-bottom: 4px;\n",
              "    }\n",
              "\n",
              "    [theme=dark] .colab-df-convert {\n",
              "      background-color: #3B4455;\n",
              "      fill: #D2E3FC;\n",
              "    }\n",
              "\n",
              "    [theme=dark] .colab-df-convert:hover {\n",
              "      background-color: #434B5C;\n",
              "      box-shadow: 0px 1px 3px 1px rgba(0, 0, 0, 0.15);\n",
              "      filter: drop-shadow(0px 1px 2px rgba(0, 0, 0, 0.3));\n",
              "      fill: #FFFFFF;\n",
              "    }\n",
              "  </style>\n",
              "\n",
              "    <script>\n",
              "      const buttonEl =\n",
              "        document.querySelector('#df-4308c863-5ec8-4aa7-9cd2-0c2a8ca0e1f9 button.colab-df-convert');\n",
              "      buttonEl.style.display =\n",
              "        google.colab.kernel.accessAllowed ? 'block' : 'none';\n",
              "\n",
              "      async function convertToInteractive(key) {\n",
              "        const element = document.querySelector('#df-4308c863-5ec8-4aa7-9cd2-0c2a8ca0e1f9');\n",
              "        const dataTable =\n",
              "          await google.colab.kernel.invokeFunction('convertToInteractive',\n",
              "                                                    [key], {});\n",
              "        if (!dataTable) return;\n",
              "\n",
              "        const docLinkHtml = 'Like what you see? Visit the ' +\n",
              "          '<a target=\"_blank\" href=https://colab.research.google.com/notebooks/data_table.ipynb>data table notebook</a>'\n",
              "          + ' to learn more about interactive tables.';\n",
              "        element.innerHTML = '';\n",
              "        dataTable['output_type'] = 'display_data';\n",
              "        await google.colab.output.renderOutput(dataTable, element);\n",
              "        const docLink = document.createElement('div');\n",
              "        docLink.innerHTML = docLinkHtml;\n",
              "        element.appendChild(docLink);\n",
              "      }\n",
              "    </script>\n",
              "  </div>\n",
              "\n",
              "\n",
              "<div id=\"df-f4b20888-e2f6-453b-959f-3b2c4949cfcf\">\n",
              "  <button class=\"colab-df-quickchart\" onclick=\"quickchart('df-f4b20888-e2f6-453b-959f-3b2c4949cfcf')\"\n",
              "            title=\"Suggest charts\"\n",
              "            style=\"display:none;\">\n",
              "\n",
              "<svg xmlns=\"http://www.w3.org/2000/svg\" height=\"24px\"viewBox=\"0 0 24 24\"\n",
              "     width=\"24px\">\n",
              "    <g>\n",
              "        <path d=\"M19 3H5c-1.1 0-2 .9-2 2v14c0 1.1.9 2 2 2h14c1.1 0 2-.9 2-2V5c0-1.1-.9-2-2-2zM9 17H7v-7h2v7zm4 0h-2V7h2v10zm4 0h-2v-4h2v4z\"/>\n",
              "    </g>\n",
              "</svg>\n",
              "  </button>\n",
              "\n",
              "<style>\n",
              "  .colab-df-quickchart {\n",
              "      --bg-color: #E8F0FE;\n",
              "      --fill-color: #1967D2;\n",
              "      --hover-bg-color: #E2EBFA;\n",
              "      --hover-fill-color: #174EA6;\n",
              "      --disabled-fill-color: #AAA;\n",
              "      --disabled-bg-color: #DDD;\n",
              "  }\n",
              "\n",
              "  [theme=dark] .colab-df-quickchart {\n",
              "      --bg-color: #3B4455;\n",
              "      --fill-color: #D2E3FC;\n",
              "      --hover-bg-color: #434B5C;\n",
              "      --hover-fill-color: #FFFFFF;\n",
              "      --disabled-bg-color: #3B4455;\n",
              "      --disabled-fill-color: #666;\n",
              "  }\n",
              "\n",
              "  .colab-df-quickchart {\n",
              "    background-color: var(--bg-color);\n",
              "    border: none;\n",
              "    border-radius: 50%;\n",
              "    cursor: pointer;\n",
              "    display: none;\n",
              "    fill: var(--fill-color);\n",
              "    height: 32px;\n",
              "    padding: 0;\n",
              "    width: 32px;\n",
              "  }\n",
              "\n",
              "  .colab-df-quickchart:hover {\n",
              "    background-color: var(--hover-bg-color);\n",
              "    box-shadow: 0 1px 2px rgba(60, 64, 67, 0.3), 0 1px 3px 1px rgba(60, 64, 67, 0.15);\n",
              "    fill: var(--button-hover-fill-color);\n",
              "  }\n",
              "\n",
              "  .colab-df-quickchart-complete:disabled,\n",
              "  .colab-df-quickchart-complete:disabled:hover {\n",
              "    background-color: var(--disabled-bg-color);\n",
              "    fill: var(--disabled-fill-color);\n",
              "    box-shadow: none;\n",
              "  }\n",
              "\n",
              "  .colab-df-spinner {\n",
              "    border: 2px solid var(--fill-color);\n",
              "    border-color: transparent;\n",
              "    border-bottom-color: var(--fill-color);\n",
              "    animation:\n",
              "      spin 1s steps(1) infinite;\n",
              "  }\n",
              "\n",
              "  @keyframes spin {\n",
              "    0% {\n",
              "      border-color: transparent;\n",
              "      border-bottom-color: var(--fill-color);\n",
              "      border-left-color: var(--fill-color);\n",
              "    }\n",
              "    20% {\n",
              "      border-color: transparent;\n",
              "      border-left-color: var(--fill-color);\n",
              "      border-top-color: var(--fill-color);\n",
              "    }\n",
              "    30% {\n",
              "      border-color: transparent;\n",
              "      border-left-color: var(--fill-color);\n",
              "      border-top-color: var(--fill-color);\n",
              "      border-right-color: var(--fill-color);\n",
              "    }\n",
              "    40% {\n",
              "      border-color: transparent;\n",
              "      border-right-color: var(--fill-color);\n",
              "      border-top-color: var(--fill-color);\n",
              "    }\n",
              "    60% {\n",
              "      border-color: transparent;\n",
              "      border-right-color: var(--fill-color);\n",
              "    }\n",
              "    80% {\n",
              "      border-color: transparent;\n",
              "      border-right-color: var(--fill-color);\n",
              "      border-bottom-color: var(--fill-color);\n",
              "    }\n",
              "    90% {\n",
              "      border-color: transparent;\n",
              "      border-bottom-color: var(--fill-color);\n",
              "    }\n",
              "  }\n",
              "</style>\n",
              "\n",
              "  <script>\n",
              "    async function quickchart(key) {\n",
              "      const quickchartButtonEl =\n",
              "        document.querySelector('#' + key + ' button');\n",
              "      quickchartButtonEl.disabled = true;  // To prevent multiple clicks.\n",
              "      quickchartButtonEl.classList.add('colab-df-spinner');\n",
              "      try {\n",
              "        const charts = await google.colab.kernel.invokeFunction(\n",
              "            'suggestCharts', [key], {});\n",
              "      } catch (error) {\n",
              "        console.error('Error during call to suggestCharts:', error);\n",
              "      }\n",
              "      quickchartButtonEl.classList.remove('colab-df-spinner');\n",
              "      quickchartButtonEl.classList.add('colab-df-quickchart-complete');\n",
              "    }\n",
              "    (() => {\n",
              "      let quickchartButtonEl =\n",
              "        document.querySelector('#df-f4b20888-e2f6-453b-959f-3b2c4949cfcf button');\n",
              "      quickchartButtonEl.style.display =\n",
              "        google.colab.kernel.accessAllowed ? 'block' : 'none';\n",
              "    })();\n",
              "  </script>\n",
              "</div>\n",
              "\n",
              "    </div>\n",
              "  </div>\n"
            ],
            "application/vnd.google.colaboratory.intrinsic+json": {
              "type": "dataframe",
              "variable_name": "data"
            }
          },
          "metadata": {},
          "execution_count": 326
        }
      ],
      "source": [
        "data.head()"
      ]
    },
    {
      "cell_type": "code",
      "execution_count": 327,
      "metadata": {
        "colab": {
          "base_uri": "https://localhost:8080/"
        },
        "id": "qiNyNKGkt8pv",
        "outputId": "05cecb1c-2ed0-4012-c576-a7fe927b7ea9"
      },
      "outputs": [
        {
          "output_type": "execute_result",
          "data": {
            "text/plain": [
              "(144017, 13)"
            ]
          },
          "metadata": {},
          "execution_count": 327
        }
      ],
      "source": [
        "data.shape"
      ]
    },
    {
      "cell_type": "markdown",
      "metadata": {
        "id": "2dxl3DlWuVcF"
      },
      "source": [
        "#As we can see that now the cleaned data has the data of 144017 Used cars."
      ]
    },
    {
      "cell_type": "markdown",
      "source": [
        "#**Let's determine which columns are Categorical so that we can encode them into Integer or One Hot Encoded Values.**"
      ],
      "metadata": {
        "id": "o-tDwyZMi_TS"
      }
    },
    {
      "cell_type": "code",
      "source": [
        "categorical_columns = list()\n",
        "\n",
        "for single_column in data.columns:\n",
        "\n",
        "  if data[single_column].dtype == \"object\":\n",
        "    categorical_columns.append(single_column)"
      ],
      "metadata": {
        "id": "XkW4VHc2i4kO"
      },
      "execution_count": 328,
      "outputs": []
    },
    {
      "cell_type": "code",
      "source": [
        "print(categorical_columns)"
      ],
      "metadata": {
        "colab": {
          "base_uri": "https://localhost:8080/"
        },
        "id": "pY6v786hkddV",
        "outputId": "d22161c3-460c-44d8-a544-52325ec48a7d"
      },
      "execution_count": 329,
      "outputs": [
        {
          "output_type": "stream",
          "name": "stdout",
          "text": [
            "['manufacturer', 'model', 'condition', 'cylinders', 'fuel', 'transmission', 'drive', 'size', 'type', 'paint_color']\n"
          ]
        }
      ]
    },
    {
      "cell_type": "markdown",
      "source": [
        "###Let's first encode the categorical values of **all those columns which are Ordinal or their values have some Order associated with them and hence they can be compared**, such as the column of ```cylinders``` which can be compared such as ```3 cylinders``` or ```4 cylinders```. So, the following columns are Ordinal:\n",
        "\n",
        "###```condition```\n",
        "###```cylinders```\n",
        "###```transmission```\n",
        "###```drive```\n",
        "###```size```\n",
        "\n",
        "###Rest of the columns are Nominal.\n",
        "\n",
        "##Therefore, **categorical columns are of two types: Nominal (having no order associated with their values) as well as Ordinal (having some order associated with them).**\n"
      ],
      "metadata": {
        "id": "52t2cDtCk24i"
      }
    },
    {
      "cell_type": "markdown",
      "source": [
        "#**Let's encode the values of Ordinal Columns now.**"
      ],
      "metadata": {
        "id": "Pdl1634dosd-"
      }
    },
    {
      "cell_type": "markdown",
      "source": [
        "###But, first let us determine that what are the unique values available in all the Ordinal Columns."
      ],
      "metadata": {
        "id": "lZmvXE7dsWmF"
      }
    },
    {
      "cell_type": "code",
      "source": [
        "for single_column in [\"condition\",\"cylinders\",\"transmission\",\"drive\",\"size\"]:\n",
        "\n",
        "  print(\"The unique values in {} column are {}\".format(single_column,\n",
        "                                                       data[single_column].unique()))"
      ],
      "metadata": {
        "colab": {
          "base_uri": "https://localhost:8080/"
        },
        "id": "6Ixz5cI3r065",
        "outputId": "8f1fc4cd-11ea-4f3d-92ed-dbcf3fb61e28"
      },
      "execution_count": 330,
      "outputs": [
        {
          "output_type": "stream",
          "name": "stdout",
          "text": [
            "The unique values in condition column are ['excellent' 'good' 'like new' 'new' 'fair' 'salvage']\n",
            "The unique values in cylinders column are ['6 cylinders' '8 cylinders' '4 cylinders' '5 cylinders' '10 cylinders'\n",
            " '3 cylinders' 'other' '12 cylinders']\n",
            "The unique values in transmission column are ['automatic' 'other' 'manual']\n",
            "The unique values in drive column are ['rwd' '4wd' 'fwd']\n",
            "The unique values in size column are ['full-size' 'mid-size' 'compact' 'sub-compact']\n"
          ]
        }
      ]
    },
    {
      "cell_type": "markdown",
      "source": [
        "###Let's create the dictionary of mappings for all the categorical values to Integers, in all the Ordinal Columns."
      ],
      "metadata": {
        "id": "S7KkcjiWbSFP"
      }
    },
    {
      "cell_type": "code",
      "source": [
        "condition_encoding_dict = {'excellent':6, 'good':3, 'like new':4, 'new':5, 'fair':2, 'salvage':1}\n",
        "cylinders_encoding_dict = {'6 cylinders':6, '8 cylinders':8, '4 cylinders':4, '5 cylinders':5,\n",
        "                           '10 cylinders':10, '3 cylinders':3, 'other':7, '12 cylinders':12}\n",
        "transmission_encoding_dict = {'automatic':3, 'other':2, 'manual':1}\n",
        "drive_encoding_dict = {'rwd':2, '4wd':3, 'fwd':1}\n",
        "size_encoding_dict = {'full-size':4, 'mid-size':3, 'compact':1, 'sub-compact':2}"
      ],
      "metadata": {
        "id": "4p5ZZtOquJWq"
      },
      "execution_count": 331,
      "outputs": []
    },
    {
      "cell_type": "markdown",
      "source": [
        "###Let's replace all the categorical values in all the Ordinal columns, with their respective integer mappings."
      ],
      "metadata": {
        "id": "cNFHHtW5cMod"
      }
    },
    {
      "cell_type": "code",
      "source": [
        "data[\"condition\"].replace(to_replace=condition_encoding_dict.keys(),\n",
        "                          value=condition_encoding_dict.values(),inplace=True)\n",
        "\n",
        "data[\"cylinders\"].replace(to_replace=cylinders_encoding_dict.keys(),\n",
        "                          value=cylinders_encoding_dict.values(),inplace=True)\n",
        "\n",
        "data[\"transmission\"].replace(to_replace=transmission_encoding_dict.keys(),\n",
        "                             value=transmission_encoding_dict.values(),inplace=True)\n",
        "\n",
        "data[\"drive\"].replace(to_replace=drive_encoding_dict.keys(),\n",
        "                      value=drive_encoding_dict.values(),inplace=True)\n",
        "\n",
        "data[\"size\"].replace(to_replace=size_encoding_dict.keys(),\n",
        "                     value=size_encoding_dict.values(),inplace=True)"
      ],
      "metadata": {
        "id": "WTAyT2hLzAuK"
      },
      "execution_count": 332,
      "outputs": []
    },
    {
      "cell_type": "markdown",
      "source": [
        "#**Let's now encode all the Nominal Columns with the help of One Hot Encoding.**"
      ],
      "metadata": {
        "id": "jiMRv0BO0obu"
      }
    },
    {
      "cell_type": "markdown",
      "source": [
        "###Let's first that see how many unique values are there in each of the Nominal Columns."
      ],
      "metadata": {
        "id": "mqYiQAqG0-2W"
      }
    },
    {
      "cell_type": "code",
      "source": [
        "for single_column in [\"manufacturer\",\"model\",\"fuel\",\"type\",\"paint_color\"]:\n",
        "\n",
        "  print(\"The number of unique values in {} column are {}\".format(single_column,\n",
        "                                                       data[single_column].unique().shape[0]))"
      ],
      "metadata": {
        "colab": {
          "base_uri": "https://localhost:8080/"
        },
        "id": "Iai79JNi1pT8",
        "outputId": "851d8529-bd29-40c0-c4c3-c838704102fe"
      },
      "execution_count": 333,
      "outputs": [
        {
          "output_type": "stream",
          "name": "stdout",
          "text": [
            "The number of unique values in manufacturer column are 41\n",
            "The number of unique values in model column are 14487\n",
            "The number of unique values in fuel column are 5\n",
            "The number of unique values in type column are 13\n",
            "The number of unique values in paint_color column are 12\n"
          ]
        }
      ]
    },
    {
      "cell_type": "markdown",
      "source": [
        "###**As all the Nominal columns except, ```model``` have very less number of unique values so we can One Hot Encode all the values of rest of the columns.**"
      ],
      "metadata": {
        "id": "VmCAh3hhHxg7"
      }
    },
    {
      "cell_type": "markdown",
      "source": [
        "###Let's see what can we do with the values of ```model``` column."
      ],
      "metadata": {
        "id": "3TBBpGFWIuHb"
      }
    },
    {
      "cell_type": "markdown",
      "source": [
        "###**Let's first encode all the unique values in the ```model``` column and visualize the frequency distribution of the integer values in ```model``` column.**"
      ],
      "metadata": {
        "id": "zCw40W-QJBTG"
      }
    },
    {
      "cell_type": "code",
      "source": [
        "data[\"model\"].replace(to_replace=data[\"model\"].unique(),\n",
        "                      value=list(range(data[\"model\"].unique().shape[0])),\n",
        "                      inplace=True)"
      ],
      "metadata": {
        "id": "6NxGxRXAI2dI"
      },
      "execution_count": 334,
      "outputs": []
    },
    {
      "cell_type": "code",
      "source": [
        "plt.hist(data[\"model\"])\n",
        "plt.xlabel(\"Integer Encodings of Different Models of Different Cars\")\n",
        "plt.ylabel(\"Frequency of Integer Labels\")"
      ],
      "metadata": {
        "colab": {
          "base_uri": "https://localhost:8080/",
          "height": 473
        },
        "id": "tmx_aN-SK7KQ",
        "outputId": "a537d4eb-1249-4fe2-8529-aa1a2ee45a55"
      },
      "execution_count": 335,
      "outputs": [
        {
          "output_type": "execute_result",
          "data": {
            "text/plain": [
              "Text(0, 0.5, 'Frequency of Integer Labels')"
            ]
          },
          "metadata": {},
          "execution_count": 335
        },
        {
          "output_type": "display_data",
          "data": {
            "text/plain": [
              "<Figure size 640x480 with 1 Axes>"
            ],
            "image/png": "[encoded data removed]"
          },
          "metadata": {}
        }
      ]
    },
    {
      "cell_type": "markdown",
      "source": [
        "##As can be visualized that **all the integer mappings roughly below 2000 are occupying majority of the area under the Frequency Distribution** and thats the piece of information which we are going to use **to determine the various integer mappings that need to be One Hot Encoded and rest of the Integer mappings will be merged into a single integer mapping.**   "
      ],
      "metadata": {
        "id": "hgSzkDHOPkcw"
      }
    },
    {
      "cell_type": "markdown",
      "source": [
        "##**We will One Hot Encode only those top 'k' (Top 'k' most frequently occuring)Integer mappings seperately which are contributing to majority (let's say 70%) of the area under the curve of Frequency Distribution and merge rest of them into a single integer value.**"
      ],
      "metadata": {
        "id": "72IdpIQihwSy"
      }
    },
    {
      "cell_type": "code",
      "source": [
        "models_freq_dist = dict(data[\"model\"].value_counts())"
      ],
      "metadata": {
        "id": "7J16ADjqRFZE"
      },
      "execution_count": 336,
      "outputs": []
    },
    {
      "cell_type": "markdown",
      "source": [
        "##And the best part is that all the integer mappings we computed above are by default arranged in descending order according to their frequencies and **we simply have to get the list of all the integer mappings whose frequencies when summed up are contributing to 70% of the area under the Frequency Distribution.**"
      ],
      "metadata": {
        "id": "CfFrHZWriyzD"
      }
    },
    {
      "cell_type": "code",
      "source": [
        "area_cut_off = 0.4\n",
        "top_models = list()\n",
        "total_area = 0\n",
        "total_frequency = data.shape[0]\n",
        "\n",
        "for k,v in models_freq_dist.items():\n",
        "\n",
        "  if (total_area/total_frequency) > area_cut_off:\n",
        "    break\n",
        "\n",
        "  top_models.append(k)\n",
        "\n",
        "  total_area += models_freq_dist[k]"
      ],
      "metadata": {
        "id": "ODtIA3eoRPno"
      },
      "execution_count": 339,
      "outputs": []
    },
    {
      "cell_type": "code",
      "source": [
        "k = len(top_models)\n",
        "print(k)"
      ],
      "metadata": {
        "colab": {
          "base_uri": "https://localhost:8080/"
        },
        "id": "A0Sdjql6kr-S",
        "outputId": "d173f6fa-f4ec-47b6-92d6-7d7b9e56f434"
      },
      "execution_count": 340,
      "outputs": [
        {
          "output_type": "stream",
          "name": "stdout",
          "text": [
            "130\n"
          ]
        }
      ]
    },
    {
      "cell_type": "markdown",
      "source": [
        "##**Therefore, it can be said that there are 773 top most frequently occurring models whose frequencies when summed up contribute to 70% of the area under the Frequency Distribution.**  "
      ],
      "metadata": {
        "id": "K0obDaGhlP59"
      }
    },
    {
      "cell_type": "markdown",
      "source": [
        "##Let's assign a unique integer value to each of the integer mappings till index 772 (k-1) and then after that because we need to merge all the integer mappings, assign the index 773 to all of them."
      ],
      "metadata": {
        "id": "zlFD0EuUo2M-"
      }
    },
    {
      "cell_type": "code",
      "source": [
        "updated_mapping_dict = dict()\n",
        "\n",
        "for i,item in enumerate(models_freq_dist.items()):\n",
        "\n",
        "  if i <= (k-1):\n",
        "    updated_mapping_dict[item[0]] = i\n",
        "  else:\n",
        "    updated_mapping_dict[item[0]] = k"
      ],
      "metadata": {
        "id": "a3BRQNx8mEHQ"
      },
      "execution_count": 341,
      "outputs": []
    },
    {
      "cell_type": "code",
      "source": [
        "data[\"model\"].replace(to_replace=updated_mapping_dict.keys(),\n",
        "                       value=updated_mapping_dict.values(),inplace=True)"
      ],
      "metadata": {
        "id": "Cc9h26b0q-p1"
      },
      "execution_count": 342,
      "outputs": []
    },
    {
      "cell_type": "code",
      "source": [
        "data.head()"
      ],
      "metadata": {
        "colab": {
          "base_uri": "https://localhost:8080/",
          "height": 206
        },
        "id": "ifN-2yT5rdcG",
        "outputId": "3e81b902-9c96-4bd7-99bf-b6aaa22ab16a"
      },
      "execution_count": 343,
      "outputs": [
        {
          "output_type": "execute_result",
          "data": {
            "text/plain": [
              "   price    year manufacturer  model  condition  cylinders fuel  odometer  \\\n",
              "0  15000  2013.0         ford    130          6          6  gas  128000.0   \n",
              "1  27990  2012.0          gmc    130          3          8  gas   68696.0   \n",
              "2  34590  2016.0    chevrolet     66          3          6  gas   29499.0   \n",
              "3  35000  2019.0       toyota      6          6          6  gas   43000.0   \n",
              "4  29990  2016.0    chevrolet     88          3          6  gas   17302.0   \n",
              "\n",
              "   transmission  drive  size    type paint_color  \n",
              "0             3      2     4   truck       black  \n",
              "1             2      3     4  pickup       black  \n",
              "2             2      3     4  pickup      silver  \n",
              "3             3      3     3   truck        grey  \n",
              "4             2      3     3  pickup         red  "
            ],
            "text/html": [
              "\n",
              "  <div id=\"df-4b6eb682-b4cc-4d9a-ba77-232bd3e14a7e\" class=\"colab-df-container\">\n",
              "    <div>\n",
              "<style scoped>\n",
              "    .dataframe tbody tr th:only-of-type {\n",
              "        vertical-align: middle;\n",
              "    }\n",
              "\n",
              "    .dataframe tbody tr th {\n",
              "        vertical-align: top;\n",
              "    }\n",
              "\n",
              "    .dataframe thead th {\n",
              "        text-align: right;\n",
              "    }\n",
              "</style>\n",
              "<table border=\"1\" class=\"dataframe\">\n",
              "  <thead>\n",
              "    <tr style=\"text-align: right;\">\n",
              "      <th></th>\n",
              "      <th>price</th>\n",
              "      <th>year</th>\n",
              "      <th>manufacturer</th>\n",
              "      <th>model</th>\n",
              "      <th>condition</th>\n",
              "      <th>cylinders</th>\n",
              "      <th>fuel</th>\n",
              "      <th>odometer</th>\n",
              "      <th>transmission</th>\n",
              "      <th>drive</th>\n",
              "      <th>size</th>\n",
              "      <th>type</th>\n",
              "      <th>paint_color</th>\n",
              "    </tr>\n",
              "  </thead>\n",
              "  <tbody>\n",
              "    <tr>\n",
              "      <th>0</th>\n",
              "      <td>15000</td>\n",
              "      <td>2013.0</td>\n",
              "      <td>ford</td>\n",
              "      <td>130</td>\n",
              "      <td>6</td>\n",
              "      <td>6</td>\n",
              "      <td>gas</td>\n",
              "      <td>128000.0</td>\n",
              "      <td>3</td>\n",
              "      <td>2</td>\n",
              "      <td>4</td>\n",
              "      <td>truck</td>\n",
              "      <td>black</td>\n",
              "    </tr>\n",
              "    <tr>\n",
              "      <th>1</th>\n",
              "      <td>27990</td>\n",
              "      <td>2012.0</td>\n",
              "      <td>gmc</td>\n",
              "      <td>130</td>\n",
              "      <td>3</td>\n",
              "      <td>8</td>\n",
              "      <td>gas</td>\n",
              "      <td>68696.0</td>\n",
              "      <td>2</td>\n",
              "      <td>3</td>\n",
              "      <td>4</td>\n",
              "      <td>pickup</td>\n",
              "      <td>black</td>\n",
              "    </tr>\n",
              "    <tr>\n",
              "      <th>2</th>\n",
              "      <td>34590</td>\n",
              "      <td>2016.0</td>\n",
              "      <td>chevrolet</td>\n",
              "      <td>66</td>\n",
              "      <td>3</td>\n",
              "      <td>6</td>\n",
              "      <td>gas</td>\n",
              "      <td>29499.0</td>\n",
              "      <td>2</td>\n",
              "      <td>3</td>\n",
              "      <td>4</td>\n",
              "      <td>pickup</td>\n",
              "      <td>silver</td>\n",
              "    </tr>\n",
              "    <tr>\n",
              "      <th>3</th>\n",
              "      <td>35000</td>\n",
              "      <td>2019.0</td>\n",
              "      <td>toyota</td>\n",
              "      <td>6</td>\n",
              "      <td>6</td>\n",
              "      <td>6</td>\n",
              "      <td>gas</td>\n",
              "      <td>43000.0</td>\n",
              "      <td>3</td>\n",
              "      <td>3</td>\n",
              "      <td>3</td>\n",
              "      <td>truck</td>\n",
              "      <td>grey</td>\n",
              "    </tr>\n",
              "    <tr>\n",
              "      <th>4</th>\n",
              "      <td>29990</td>\n",
              "      <td>2016.0</td>\n",
              "      <td>chevrolet</td>\n",
              "      <td>88</td>\n",
              "      <td>3</td>\n",
              "      <td>6</td>\n",
              "      <td>gas</td>\n",
              "      <td>17302.0</td>\n",
              "      <td>2</td>\n",
              "      <td>3</td>\n",
              "      <td>3</td>\n",
              "      <td>pickup</td>\n",
              "      <td>red</td>\n",
              "    </tr>\n",
              "  </tbody>\n",
              "</table>\n",
              "</div>\n",
              "    <div class=\"colab-df-buttons\">\n",
              "\n",
              "  <div class=\"colab-df-container\">\n",
              "    <button class=\"colab-df-convert\" onclick=\"convertToInteractive('df-4b6eb682-b4cc-4d9a-ba77-232bd3e14a7e')\"\n",
              "            title=\"Convert this dataframe to an interactive table.\"\n",
              "            style=\"display:none;\">\n",
              "\n",
              "  <svg xmlns=\"http://www.w3.org/2000/svg\" height=\"24px\" viewBox=\"0 -960 960 960\">\n",
              "    <path d=\"M120-120v-720h720v720H120Zm60-500h600v-160H180v160Zm220 220h160v-160H400v160Zm0 220h160v-160H400v160ZM180-400h160v-160H180v160Zm440 0h160v-160H620v160ZM180-180h160v-160H180v160Zm440 0h160v-160H620v160Z\"/>\n",
              "  </svg>\n",
              "    </button>\n",
              "\n",
              "  <style>\n",
              "    .colab-df-container {\n",
              "      display:flex;\n",
              "      gap: 12px;\n",
              "    }\n",
              "\n",
              "    .colab-df-convert {\n",
              "      background-color: #E8F0FE;\n",
              "      border: none;\n",
              "      border-radius: 50%;\n",
              "      cursor: pointer;\n",
              "      display: none;\n",
              "      fill: #1967D2;\n",
              "      height: 32px;\n",
              "      padding: 0 0 0 0;\n",
              "      width: 32px;\n",
              "    }\n",
              "\n",
              "    .colab-df-convert:hover {\n",
              "      background-color: #E2EBFA;\n",
              "      box-shadow: 0px 1px 2px rgba(60, 64, 67, 0.3), 0px 1px 3px 1px rgba(60, 64, 67, 0.15);\n",
              "      fill: #174EA6;\n",
              "    }\n",
              "\n",
              "    .colab-df-buttons div {\n",
              "      margin-bottom: 4px;\n",
              "    }\n",
              "\n",
              "    [theme=dark] .colab-df-convert {\n",
              "      background-color: #3B4455;\n",
              "      fill: #D2E3FC;\n",
              "    }\n",
              "\n",
              "    [theme=dark] .colab-df-convert:hover {\n",
              "      background-color: #434B5C;\n",
              "      box-shadow: 0px 1px 3px 1px rgba(0, 0, 0, 0.15);\n",
              "      filter: drop-shadow(0px 1px 2px rgba(0, 0, 0, 0.3));\n",
              "      fill: #FFFFFF;\n",
              "    }\n",
              "  </style>\n",
              "\n",
              "    <script>\n",
              "      const buttonEl =\n",
              "        document.querySelector('#df-4b6eb682-b4cc-4d9a-ba77-232bd3e14a7e button.colab-df-convert');\n",
              "      buttonEl.style.display =\n",
              "        google.colab.kernel.accessAllowed ? 'block' : 'none';\n",
              "\n",
              "      async function convertToInteractive(key) {\n",
              "        const element = document.querySelector('#df-4b6eb682-b4cc-4d9a-ba77-232bd3e14a7e');\n",
              "        const dataTable =\n",
              "          await google.colab.kernel.invokeFunction('convertToInteractive',\n",
              "                                                    [key], {});\n",
              "        if (!dataTable) return;\n",
              "\n",
              "        const docLinkHtml = 'Like what you see? Visit the ' +\n",
              "          '<a target=\"_blank\" href=https://colab.research.google.com/notebooks/data_table.ipynb>data table notebook</a>'\n",
              "          + ' to learn more about interactive tables.';\n",
              "        element.innerHTML = '';\n",
              "        dataTable['output_type'] = 'display_data';\n",
              "        await google.colab.output.renderOutput(dataTable, element);\n",
              "        const docLink = document.createElement('div');\n",
              "        docLink.innerHTML = docLinkHtml;\n",
              "        element.appendChild(docLink);\n",
              "      }\n",
              "    </script>\n",
              "  </div>\n",
              "\n",
              "\n",
              "<div id=\"df-cffb89fe-be26-4bdb-8c3e-3bc7939002c7\">\n",
              "  <button class=\"colab-df-quickchart\" onclick=\"quickchart('df-cffb89fe-be26-4bdb-8c3e-3bc7939002c7')\"\n",
              "            title=\"Suggest charts\"\n",
              "            style=\"display:none;\">\n",
              "\n",
              "<svg xmlns=\"http://www.w3.org/2000/svg\" height=\"24px\"viewBox=\"0 0 24 24\"\n",
              "     width=\"24px\">\n",
              "    <g>\n",
              "        <path d=\"M19 3H5c-1.1 0-2 .9-2 2v14c0 1.1.9 2 2 2h14c1.1 0 2-.9 2-2V5c0-1.1-.9-2-2-2zM9 17H7v-7h2v7zm4 0h-2V7h2v10zm4 0h-2v-4h2v4z\"/>\n",
              "    </g>\n",
              "</svg>\n",
              "  </button>\n",
              "\n",
              "<style>\n",
              "  .colab-df-quickchart {\n",
              "      --bg-color: #E8F0FE;\n",
              "      --fill-color: #1967D2;\n",
              "      --hover-bg-color: #E2EBFA;\n",
              "      --hover-fill-color: #174EA6;\n",
              "      --disabled-fill-color: #AAA;\n",
              "      --disabled-bg-color: #DDD;\n",
              "  }\n",
              "\n",
              "  [theme=dark] .colab-df-quickchart {\n",
              "      --bg-color: #3B4455;\n",
              "      --fill-color: #D2E3FC;\n",
              "      --hover-bg-color: #434B5C;\n",
              "      --hover-fill-color: #FFFFFF;\n",
              "      --disabled-bg-color: #3B4455;\n",
              "      --disabled-fill-color: #666;\n",
              "  }\n",
              "\n",
              "  .colab-df-quickchart {\n",
              "    background-color: var(--bg-color);\n",
              "    border: none;\n",
              "    border-radius: 50%;\n",
              "    cursor: pointer;\n",
              "    display: none;\n",
              "    fill: var(--fill-color);\n",
              "    height: 32px;\n",
              "    padding: 0;\n",
              "    width: 32px;\n",
              "  }\n",
              "\n",
              "  .colab-df-quickchart:hover {\n",
              "    background-color: var(--hover-bg-color);\n",
              "    box-shadow: 0 1px 2px rgba(60, 64, 67, 0.3), 0 1px 3px 1px rgba(60, 64, 67, 0.15);\n",
              "    fill: var(--button-hover-fill-color);\n",
              "  }\n",
              "\n",
              "  .colab-df-quickchart-complete:disabled,\n",
              "  .colab-df-quickchart-complete:disabled:hover {\n",
              "    background-color: var(--disabled-bg-color);\n",
              "    fill: var(--disabled-fill-color);\n",
              "    box-shadow: none;\n",
              "  }\n",
              "\n",
              "  .colab-df-spinner {\n",
              "    border: 2px solid var(--fill-color);\n",
              "    border-color: transparent;\n",
              "    border-bottom-color: var(--fill-color);\n",
              "    animation:\n",
              "      spin 1s steps(1) infinite;\n",
              "  }\n",
              "\n",
              "  @keyframes spin {\n",
              "    0% {\n",
              "      border-color: transparent;\n",
              "      border-bottom-color: var(--fill-color);\n",
              "      border-left-color: var(--fill-color);\n",
              "    }\n",
              "    20% {\n",
              "      border-color: transparent;\n",
              "      border-left-color: var(--fill-color);\n",
              "      border-top-color: var(--fill-color);\n",
              "    }\n",
              "    30% {\n",
              "      border-color: transparent;\n",
              "      border-left-color: var(--fill-color);\n",
              "      border-top-color: var(--fill-color);\n",
              "      border-right-color: var(--fill-color);\n",
              "    }\n",
              "    40% {\n",
              "      border-color: transparent;\n",
              "      border-right-color: var(--fill-color);\n",
              "      border-top-color: var(--fill-color);\n",
              "    }\n",
              "    60% {\n",
              "      border-color: transparent;\n",
              "      border-right-color: var(--fill-color);\n",
              "    }\n",
              "    80% {\n",
              "      border-color: transparent;\n",
              "      border-right-color: var(--fill-color);\n",
              "      border-bottom-color: var(--fill-color);\n",
              "    }\n",
              "    90% {\n",
              "      border-color: transparent;\n",
              "      border-bottom-color: var(--fill-color);\n",
              "    }\n",
              "  }\n",
              "</style>\n",
              "\n",
              "  <script>\n",
              "    async function quickchart(key) {\n",
              "      const quickchartButtonEl =\n",
              "        document.querySelector('#' + key + ' button');\n",
              "      quickchartButtonEl.disabled = true;  // To prevent multiple clicks.\n",
              "      quickchartButtonEl.classList.add('colab-df-spinner');\n",
              "      try {\n",
              "        const charts = await google.colab.kernel.invokeFunction(\n",
              "            'suggestCharts', [key], {});\n",
              "      } catch (error) {\n",
              "        console.error('Error during call to suggestCharts:', error);\n",
              "      }\n",
              "      quickchartButtonEl.classList.remove('colab-df-spinner');\n",
              "      quickchartButtonEl.classList.add('colab-df-quickchart-complete');\n",
              "    }\n",
              "    (() => {\n",
              "      let quickchartButtonEl =\n",
              "        document.querySelector('#df-cffb89fe-be26-4bdb-8c3e-3bc7939002c7 button');\n",
              "      quickchartButtonEl.style.display =\n",
              "        google.colab.kernel.accessAllowed ? 'block' : 'none';\n",
              "    })();\n",
              "  </script>\n",
              "</div>\n",
              "\n",
              "    </div>\n",
              "  </div>\n"
            ],
            "application/vnd.google.colaboratory.intrinsic+json": {
              "type": "dataframe",
              "variable_name": "data"
            }
          },
          "metadata": {},
          "execution_count": 343
        }
      ]
    },
    {
      "cell_type": "markdown",
      "source": [
        "##Let's finally concatenate the 774 columns of One Hot Encodings of integer mappings available in ```model``` column. For that let's create a function which will serve as a generic function for One Hot Encoding the integer mappings in rest of the columns too."
      ],
      "metadata": {
        "id": "kHbf2JC3tQdq"
      }
    },
    {
      "cell_type": "code",
      "source": [
        "def convert_to_ohe_df(column_name):\n",
        "\n",
        "  model_unique_values = data[column_name].unique().shape[0]\n",
        "  identity_matrix = np.eye(model_unique_values,model_unique_values)\n",
        "  ohe_models = identity_matrix[data[column_name]]\n",
        "  df_column_names = [column_name+str(i) for i in range(model_unique_values)]\n",
        "  column_df = pd.DataFrame(data=ohe_models,columns=df_column_names)\n",
        "\n",
        "  return column_df"
      ],
      "metadata": {
        "id": "wvlJZ9Amtwpb"
      },
      "execution_count": 344,
      "outputs": []
    },
    {
      "cell_type": "markdown",
      "source": [
        "##Let's Integer Encode remaining columns so that we can One Hot Encode them."
      ],
      "metadata": {
        "id": "qh2AkcQcsDmC"
      }
    },
    {
      "cell_type": "code",
      "source": [
        "for single_column in [\"manufacturer\",\"fuel\",\"type\",\"paint_color\"]:\n",
        "\n",
        "  column_unique_values = data[single_column].unique()\n",
        "  data[single_column].replace(to_replace=column_unique_values,\n",
        "                              value=list(range(column_unique_values.shape[0])),\n",
        "                              inplace=True)"
      ],
      "metadata": {
        "id": "89t9kk8Qwf0-"
      },
      "execution_count": 345,
      "outputs": []
    },
    {
      "cell_type": "code",
      "source": [
        "data.head()"
      ],
      "metadata": {
        "colab": {
          "base_uri": "https://localhost:8080/",
          "height": 206
        },
        "id": "Sl0pxqIUxp69",
        "outputId": "3192e531-170b-48c9-bc9d-14065410fba5"
      },
      "execution_count": 346,
      "outputs": [
        {
          "output_type": "execute_result",
          "data": {
            "text/plain": [
              "   price    year  manufacturer  model  condition  cylinders  fuel  odometer  \\\n",
              "0  15000  2013.0             0    130          6          6     0  128000.0   \n",
              "1  27990  2012.0             1    130          3          8     0   68696.0   \n",
              "2  34590  2016.0             2     66          3          6     0   29499.0   \n",
              "3  35000  2019.0             3      6          6          6     0   43000.0   \n",
              "4  29990  2016.0             2     88          3          6     0   17302.0   \n",
              "\n",
              "   transmission  drive  size  type  paint_color  \n",
              "0             3      2     4     0            0  \n",
              "1             2      3     4     1            0  \n",
              "2             2      3     4     1            1  \n",
              "3             3      3     3     0            2  \n",
              "4             2      3     3     1            3  "
            ],
            "text/html": [
              "\n",
              "  <div id=\"df-09387eca-dde8-483d-91a6-713be3fbac54\" class=\"colab-df-container\">\n",
              "    <div>\n",
              "<style scoped>\n",
              "    .dataframe tbody tr th:only-of-type {\n",
              "        vertical-align: middle;\n",
              "    }\n",
              "\n",
              "    .dataframe tbody tr th {\n",
              "        vertical-align: top;\n",
              "    }\n",
              "\n",
              "    .dataframe thead th {\n",
              "        text-align: right;\n",
              "    }\n",
              "</style>\n",
              "<table border=\"1\" class=\"dataframe\">\n",
              "  <thead>\n",
              "    <tr style=\"text-align: right;\">\n",
              "      <th></th>\n",
              "      <th>price</th>\n",
              "      <th>year</th>\n",
              "      <th>manufacturer</th>\n",
              "      <th>model</th>\n",
              "      <th>condition</th>\n",
              "      <th>cylinders</th>\n",
              "      <th>fuel</th>\n",
              "      <th>odometer</th>\n",
              "      <th>transmission</th>\n",
              "      <th>drive</th>\n",
              "      <th>size</th>\n",
              "      <th>type</th>\n",
              "      <th>paint_color</th>\n",
              "    </tr>\n",
              "  </thead>\n",
              "  <tbody>\n",
              "    <tr>\n",
              "      <th>0</th>\n",
              "      <td>15000</td>\n",
              "      <td>2013.0</td>\n",
              "      <td>0</td>\n",
              "      <td>130</td>\n",
              "      <td>6</td>\n",
              "      <td>6</td>\n",
              "      <td>0</td>\n",
              "      <td>128000.0</td>\n",
              "      <td>3</td>\n",
              "      <td>2</td>\n",
              "      <td>4</td>\n",
              "      <td>0</td>\n",
              "      <td>0</td>\n",
              "    </tr>\n",
              "    <tr>\n",
              "      <th>1</th>\n",
              "      <td>27990</td>\n",
              "      <td>2012.0</td>\n",
              "      <td>1</td>\n",
              "      <td>130</td>\n",
              "      <td>3</td>\n",
              "      <td>8</td>\n",
              "      <td>0</td>\n",
              "      <td>68696.0</td>\n",
              "      <td>2</td>\n",
              "      <td>3</td>\n",
              "      <td>4</td>\n",
              "      <td>1</td>\n",
              "      <td>0</td>\n",
              "    </tr>\n",
              "    <tr>\n",
              "      <th>2</th>\n",
              "      <td>34590</td>\n",
              "      <td>2016.0</td>\n",
              "      <td>2</td>\n",
              "      <td>66</td>\n",
              "      <td>3</td>\n",
              "      <td>6</td>\n",
              "      <td>0</td>\n",
              "      <td>29499.0</td>\n",
              "      <td>2</td>\n",
              "      <td>3</td>\n",
              "      <td>4</td>\n",
              "      <td>1</td>\n",
              "      <td>1</td>\n",
              "    </tr>\n",
              "    <tr>\n",
              "      <th>3</th>\n",
              "      <td>35000</td>\n",
              "      <td>2019.0</td>\n",
              "      <td>3</td>\n",
              "      <td>6</td>\n",
              "      <td>6</td>\n",
              "      <td>6</td>\n",
              "      <td>0</td>\n",
              "      <td>43000.0</td>\n",
              "      <td>3</td>\n",
              "      <td>3</td>\n",
              "      <td>3</td>\n",
              "      <td>0</td>\n",
              "      <td>2</td>\n",
              "    </tr>\n",
              "    <tr>\n",
              "      <th>4</th>\n",
              "      <td>29990</td>\n",
              "      <td>2016.0</td>\n",
              "      <td>2</td>\n",
              "      <td>88</td>\n",
              "      <td>3</td>\n",
              "      <td>6</td>\n",
              "      <td>0</td>\n",
              "      <td>17302.0</td>\n",
              "      <td>2</td>\n",
              "      <td>3</td>\n",
              "      <td>3</td>\n",
              "      <td>1</td>\n",
              "      <td>3</td>\n",
              "    </tr>\n",
              "  </tbody>\n",
              "</table>\n",
              "</div>\n",
              "    <div class=\"colab-df-buttons\">\n",
              "\n",
              "  <div class=\"colab-df-container\">\n",
              "    <button class=\"colab-df-convert\" onclick=\"convertToInteractive('df-09387eca-dde8-483d-91a6-713be3fbac54')\"\n",
              "            title=\"Convert this dataframe to an interactive table.\"\n",
              "            style=\"display:none;\">\n",
              "\n",
              "  <svg xmlns=\"http://www.w3.org/2000/svg\" height=\"24px\" viewBox=\"0 -960 960 960\">\n",
              "    <path d=\"M120-120v-720h720v720H120Zm60-500h600v-160H180v160Zm220 220h160v-160H400v160Zm0 220h160v-160H400v160ZM180-400h160v-160H180v160Zm440 0h160v-160H620v160ZM180-180h160v-160H180v160Zm440 0h160v-160H620v160Z\"/>\n",
              "  </svg>\n",
              "    </button>\n",
              "\n",
              "  <style>\n",
              "    .colab-df-container {\n",
              "      display:flex;\n",
              "      gap: 12px;\n",
              "    }\n",
              "\n",
              "    .colab-df-convert {\n",
              "      background-color: #E8F0FE;\n",
              "      border: none;\n",
              "      border-radius: 50%;\n",
              "      cursor: pointer;\n",
              "      display: none;\n",
              "      fill: #1967D2;\n",
              "      height: 32px;\n",
              "      padding: 0 0 0 0;\n",
              "      width: 32px;\n",
              "    }\n",
              "\n",
              "    .colab-df-convert:hover {\n",
              "      background-color: #E2EBFA;\n",
              "      box-shadow: 0px 1px 2px rgba(60, 64, 67, 0.3), 0px 1px 3px 1px rgba(60, 64, 67, 0.15);\n",
              "      fill: #174EA6;\n",
              "    }\n",
              "\n",
              "    .colab-df-buttons div {\n",
              "      margin-bottom: 4px;\n",
              "    }\n",
              "\n",
              "    [theme=dark] .colab-df-convert {\n",
              "      background-color: #3B4455;\n",
              "      fill: #D2E3FC;\n",
              "    }\n",
              "\n",
              "    [theme=dark] .colab-df-convert:hover {\n",
              "      background-color: #434B5C;\n",
              "      box-shadow: 0px 1px 3px 1px rgba(0, 0, 0, 0.15);\n",
              "      filter: drop-shadow(0px 1px 2px rgba(0, 0, 0, 0.3));\n",
              "      fill: #FFFFFF;\n",
              "    }\n",
              "  </style>\n",
              "\n",
              "    <script>\n",
              "      const buttonEl =\n",
              "        document.querySelector('#df-09387eca-dde8-483d-91a6-713be3fbac54 button.colab-df-convert');\n",
              "      buttonEl.style.display =\n",
              "        google.colab.kernel.accessAllowed ? 'block' : 'none';\n",
              "\n",
              "      async function convertToInteractive(key) {\n",
              "        const element = document.querySelector('#df-09387eca-dde8-483d-91a6-713be3fbac54');\n",
              "        const dataTable =\n",
              "          await google.colab.kernel.invokeFunction('convertToInteractive',\n",
              "                                                    [key], {});\n",
              "        if (!dataTable) return;\n",
              "\n",
              "        const docLinkHtml = 'Like what you see? Visit the ' +\n",
              "          '<a target=\"_blank\" href=https://colab.research.google.com/notebooks/data_table.ipynb>data table notebook</a>'\n",
              "          + ' to learn more about interactive tables.';\n",
              "        element.innerHTML = '';\n",
              "        dataTable['output_type'] = 'display_data';\n",
              "        await google.colab.output.renderOutput(dataTable, element);\n",
              "        const docLink = document.createElement('div');\n",
              "        docLink.innerHTML = docLinkHtml;\n",
              "        element.appendChild(docLink);\n",
              "      }\n",
              "    </script>\n",
              "  </div>\n",
              "\n",
              "\n",
              "<div id=\"df-d8b75559-7e5f-45d0-aaa5-b775a1672654\">\n",
              "  <button class=\"colab-df-quickchart\" onclick=\"quickchart('df-d8b75559-7e5f-45d0-aaa5-b775a1672654')\"\n",
              "            title=\"Suggest charts\"\n",
              "            style=\"display:none;\">\n",
              "\n",
              "<svg xmlns=\"http://www.w3.org/2000/svg\" height=\"24px\"viewBox=\"0 0 24 24\"\n",
              "     width=\"24px\">\n",
              "    <g>\n",
              "        <path d=\"M19 3H5c-1.1 0-2 .9-2 2v14c0 1.1.9 2 2 2h14c1.1 0 2-.9 2-2V5c0-1.1-.9-2-2-2zM9 17H7v-7h2v7zm4 0h-2V7h2v10zm4 0h-2v-4h2v4z\"/>\n",
              "    </g>\n",
              "</svg>\n",
              "  </button>\n",
              "\n",
              "<style>\n",
              "  .colab-df-quickchart {\n",
              "      --bg-color: #E8F0FE;\n",
              "      --fill-color: #1967D2;\n",
              "      --hover-bg-color: #E2EBFA;\n",
              "      --hover-fill-color: #174EA6;\n",
              "      --disabled-fill-color: #AAA;\n",
              "      --disabled-bg-color: #DDD;\n",
              "  }\n",
              "\n",
              "  [theme=dark] .colab-df-quickchart {\n",
              "      --bg-color: #3B4455;\n",
              "      --fill-color: #D2E3FC;\n",
              "      --hover-bg-color: #434B5C;\n",
              "      --hover-fill-color: #FFFFFF;\n",
              "      --disabled-bg-color: #3B4455;\n",
              "      --disabled-fill-color: #666;\n",
              "  }\n",
              "\n",
              "  .colab-df-quickchart {\n",
              "    background-color: var(--bg-color);\n",
              "    border: none;\n",
              "    border-radius: 50%;\n",
              "    cursor: pointer;\n",
              "    display: none;\n",
              "    fill: var(--fill-color);\n",
              "    height: 32px;\n",
              "    padding: 0;\n",
              "    width: 32px;\n",
              "  }\n",
              "\n",
              "  .colab-df-quickchart:hover {\n",
              "    background-color: var(--hover-bg-color);\n",
              "    box-shadow: 0 1px 2px rgba(60, 64, 67, 0.3), 0 1px 3px 1px rgba(60, 64, 67, 0.15);\n",
              "    fill: var(--button-hover-fill-color);\n",
              "  }\n",
              "\n",
              "  .colab-df-quickchart-complete:disabled,\n",
              "  .colab-df-quickchart-complete:disabled:hover {\n",
              "    background-color: var(--disabled-bg-color);\n",
              "    fill: var(--disabled-fill-color);\n",
              "    box-shadow: none;\n",
              "  }\n",
              "\n",
              "  .colab-df-spinner {\n",
              "    border: 2px solid var(--fill-color);\n",
              "    border-color: transparent;\n",
              "    border-bottom-color: var(--fill-color);\n",
              "    animation:\n",
              "      spin 1s steps(1) infinite;\n",
              "  }\n",
              "\n",
              "  @keyframes spin {\n",
              "    0% {\n",
              "      border-color: transparent;\n",
              "      border-bottom-color: var(--fill-color);\n",
              "      border-left-color: var(--fill-color);\n",
              "    }\n",
              "    20% {\n",
              "      border-color: transparent;\n",
              "      border-left-color: var(--fill-color);\n",
              "      border-top-color: var(--fill-color);\n",
              "    }\n",
              "    30% {\n",
              "      border-color: transparent;\n",
              "      border-left-color: var(--fill-color);\n",
              "      border-top-color: var(--fill-color);\n",
              "      border-right-color: var(--fill-color);\n",
              "    }\n",
              "    40% {\n",
              "      border-color: transparent;\n",
              "      border-right-color: var(--fill-color);\n",
              "      border-top-color: var(--fill-color);\n",
              "    }\n",
              "    60% {\n",
              "      border-color: transparent;\n",
              "      border-right-color: var(--fill-color);\n",
              "    }\n",
              "    80% {\n",
              "      border-color: transparent;\n",
              "      border-right-color: var(--fill-color);\n",
              "      border-bottom-color: var(--fill-color);\n",
              "    }\n",
              "    90% {\n",
              "      border-color: transparent;\n",
              "      border-bottom-color: var(--fill-color);\n",
              "    }\n",
              "  }\n",
              "</style>\n",
              "\n",
              "  <script>\n",
              "    async function quickchart(key) {\n",
              "      const quickchartButtonEl =\n",
              "        document.querySelector('#' + key + ' button');\n",
              "      quickchartButtonEl.disabled = true;  // To prevent multiple clicks.\n",
              "      quickchartButtonEl.classList.add('colab-df-spinner');\n",
              "      try {\n",
              "        const charts = await google.colab.kernel.invokeFunction(\n",
              "            'suggestCharts', [key], {});\n",
              "      } catch (error) {\n",
              "        console.error('Error during call to suggestCharts:', error);\n",
              "      }\n",
              "      quickchartButtonEl.classList.remove('colab-df-spinner');\n",
              "      quickchartButtonEl.classList.add('colab-df-quickchart-complete');\n",
              "    }\n",
              "    (() => {\n",
              "      let quickchartButtonEl =\n",
              "        document.querySelector('#df-d8b75559-7e5f-45d0-aaa5-b775a1672654 button');\n",
              "      quickchartButtonEl.style.display =\n",
              "        google.colab.kernel.accessAllowed ? 'block' : 'none';\n",
              "    })();\n",
              "  </script>\n",
              "</div>\n",
              "\n",
              "    </div>\n",
              "  </div>\n"
            ],
            "application/vnd.google.colaboratory.intrinsic+json": {
              "type": "dataframe",
              "variable_name": "data"
            }
          },
          "metadata": {},
          "execution_count": 346
        }
      ]
    },
    {
      "cell_type": "code",
      "source": [
        "for single_column in [\"manufacturer\",\"model\",\"fuel\",\"type\",\"paint_color\"]:\n",
        "\n",
        "  column_df = convert_to_ohe_df(single_column)\n",
        "  data.drop(labels=single_column,axis=1,inplace=True)\n",
        "  data = pd.concat([data,column_df],axis=1)"
      ],
      "metadata": {
        "id": "csWU1nnRs000"
      },
      "execution_count": 347,
      "outputs": []
    },
    {
      "cell_type": "code",
      "source": [
        "data.head()"
      ],
      "metadata": {
        "colab": {
          "base_uri": "https://localhost:8080/",
          "height": 255
        },
        "id": "SE5GY1IG1K78",
        "outputId": "d0b427ae-54e3-4dec-f17e-4819ff6b00be"
      },
      "execution_count": 348,
      "outputs": [
        {
          "output_type": "execute_result",
          "data": {
            "text/plain": [
              "   price    year  condition  cylinders  odometer  transmission  drive  size  \\\n",
              "0  15000  2013.0          6          6  128000.0             3      2     4   \n",
              "1  27990  2012.0          3          8   68696.0             2      3     4   \n",
              "2  34590  2016.0          3          6   29499.0             2      3     4   \n",
              "3  35000  2019.0          6          6   43000.0             3      3     3   \n",
              "4  29990  2016.0          3          6   17302.0             2      3     3   \n",
              "\n",
              "   manufacturer0  manufacturer1  ...  paint_color2  paint_color3  \\\n",
              "0            1.0            0.0  ...           0.0           0.0   \n",
              "1            0.0            1.0  ...           0.0           0.0   \n",
              "2            0.0            0.0  ...           0.0           0.0   \n",
              "3            0.0            0.0  ...           1.0           0.0   \n",
              "4            0.0            0.0  ...           0.0           1.0   \n",
              "\n",
              "   paint_color4  paint_color5  paint_color6  paint_color7  paint_color8  \\\n",
              "0           0.0           0.0           0.0           0.0           0.0   \n",
              "1           0.0           0.0           0.0           0.0           0.0   \n",
              "2           0.0           0.0           0.0           0.0           0.0   \n",
              "3           0.0           0.0           0.0           0.0           0.0   \n",
              "4           0.0           0.0           0.0           0.0           0.0   \n",
              "\n",
              "   paint_color9  paint_color10  paint_color11  \n",
              "0           0.0            0.0            0.0  \n",
              "1           0.0            0.0            0.0  \n",
              "2           0.0            0.0            0.0  \n",
              "3           0.0            0.0            0.0  \n",
              "4           0.0            0.0            0.0  \n",
              "\n",
              "[5 rows x 210 columns]"
            ],
            "text/html": [
              "\n",
              "  <div id=\"df-0cc78628-9fab-42f5-ab4d-0e80df0d8bee\" class=\"colab-df-container\">\n",
              "    <div>\n",
              "<style scoped>\n",
              "    .dataframe tbody tr th:only-of-type {\n",
              "        vertical-align: middle;\n",
              "    }\n",
              "\n",
              "    .dataframe tbody tr th {\n",
              "        vertical-align: top;\n",
              "    }\n",
              "\n",
              "    .dataframe thead th {\n",
              "        text-align: right;\n",
              "    }\n",
              "</style>\n",
              "<table border=\"1\" class=\"dataframe\">\n",
              "  <thead>\n",
              "    <tr style=\"text-align: right;\">\n",
              "      <th></th>\n",
              "      <th>price</th>\n",
              "      <th>year</th>\n",
              "      <th>condition</th>\n",
              "      <th>cylinders</th>\n",
              "      <th>odometer</th>\n",
              "      <th>transmission</th>\n",
              "      <th>drive</th>\n",
              "      <th>size</th>\n",
              "      <th>manufacturer0</th>\n",
              "      <th>manufacturer1</th>\n",
              "      <th>...</th>\n",
              "      <th>paint_color2</th>\n",
              "      <th>paint_color3</th>\n",
              "      <th>paint_color4</th>\n",
              "      <th>paint_color5</th>\n",
              "      <th>paint_color6</th>\n",
              "      <th>paint_color7</th>\n",
              "      <th>paint_color8</th>\n",
              "      <th>paint_color9</th>\n",
              "      <th>paint_color10</th>\n",
              "      <th>paint_color11</th>\n",
              "    </tr>\n",
              "  </thead>\n",
              "  <tbody>\n",
              "    <tr>\n",
              "      <th>0</th>\n",
              "      <td>15000</td>\n",
              "      <td>2013.0</td>\n",
              "      <td>6</td>\n",
              "      <td>6</td>\n",
              "      <td>128000.0</td>\n",
              "      <td>3</td>\n",
              "      <td>2</td>\n",
              "      <td>4</td>\n",
              "      <td>1.0</td>\n",
              "      <td>0.0</td>\n",
              "      <td>...</td>\n",
              "      <td>0.0</td>\n",
              "      <td>0.0</td>\n",
              "      <td>0.0</td>\n",
              "      <td>0.0</td>\n",
              "      <td>0.0</td>\n",
              "      <td>0.0</td>\n",
              "      <td>0.0</td>\n",
              "      <td>0.0</td>\n",
              "      <td>0.0</td>\n",
              "      <td>0.0</td>\n",
              "    </tr>\n",
              "    <tr>\n",
              "      <th>1</th>\n",
              "      <td>27990</td>\n",
              "      <td>2012.0</td>\n",
              "      <td>3</td>\n",
              "      <td>8</td>\n",
              "      <td>68696.0</td>\n",
              "      <td>2</td>\n",
              "      <td>3</td>\n",
              "      <td>4</td>\n",
              "      <td>0.0</td>\n",
              "      <td>1.0</td>\n",
              "      <td>...</td>\n",
              "      <td>0.0</td>\n",
              "      <td>0.0</td>\n",
              "      <td>0.0</td>\n",
              "      <td>0.0</td>\n",
              "      <td>0.0</td>\n",
              "      <td>0.0</td>\n",
              "      <td>0.0</td>\n",
              "      <td>0.0</td>\n",
              "      <td>0.0</td>\n",
              "      <td>0.0</td>\n",
              "    </tr>\n",
              "    <tr>\n",
              "      <th>2</th>\n",
              "      <td>34590</td>\n",
              "      <td>2016.0</td>\n",
              "      <td>3</td>\n",
              "      <td>6</td>\n",
              "      <td>29499.0</td>\n",
              "      <td>2</td>\n",
              "      <td>3</td>\n",
              "      <td>4</td>\n",
              "      <td>0.0</td>\n",
              "      <td>0.0</td>\n",
              "      <td>...</td>\n",
              "      <td>0.0</td>\n",
              "      <td>0.0</td>\n",
              "      <td>0.0</td>\n",
              "      <td>0.0</td>\n",
              "      <td>0.0</td>\n",
              "      <td>0.0</td>\n",
              "      <td>0.0</td>\n",
              "      <td>0.0</td>\n",
              "      <td>0.0</td>\n",
              "      <td>0.0</td>\n",
              "    </tr>\n",
              "    <tr>\n",
              "      <th>3</th>\n",
              "      <td>35000</td>\n",
              "      <td>2019.0</td>\n",
              "      <td>6</td>\n",
              "      <td>6</td>\n",
              "      <td>43000.0</td>\n",
              "      <td>3</td>\n",
              "      <td>3</td>\n",
              "      <td>3</td>\n",
              "      <td>0.0</td>\n",
              "      <td>0.0</td>\n",
              "      <td>...</td>\n",
              "      <td>1.0</td>\n",
              "      <td>0.0</td>\n",
              "      <td>0.0</td>\n",
              "      <td>0.0</td>\n",
              "      <td>0.0</td>\n",
              "      <td>0.0</td>\n",
              "      <td>0.0</td>\n",
              "      <td>0.0</td>\n",
              "      <td>0.0</td>\n",
              "      <td>0.0</td>\n",
              "    </tr>\n",
              "    <tr>\n",
              "      <th>4</th>\n",
              "      <td>29990</td>\n",
              "      <td>2016.0</td>\n",
              "      <td>3</td>\n",
              "      <td>6</td>\n",
              "      <td>17302.0</td>\n",
              "      <td>2</td>\n",
              "      <td>3</td>\n",
              "      <td>3</td>\n",
              "      <td>0.0</td>\n",
              "      <td>0.0</td>\n",
              "      <td>...</td>\n",
              "      <td>0.0</td>\n",
              "      <td>1.0</td>\n",
              "      <td>0.0</td>\n",
              "      <td>0.0</td>\n",
              "      <td>0.0</td>\n",
              "      <td>0.0</td>\n",
              "      <td>0.0</td>\n",
              "      <td>0.0</td>\n",
              "      <td>0.0</td>\n",
              "      <td>0.0</td>\n",
              "    </tr>\n",
              "  </tbody>\n",
              "</table>\n",
              "<p>5 rows × 210 columns</p>\n",
              "</div>\n",
              "    <div class=\"colab-df-buttons\">\n",
              "\n",
              "  <div class=\"colab-df-container\">\n",
              "    <button class=\"colab-df-convert\" onclick=\"convertToInteractive('df-0cc78628-9fab-42f5-ab4d-0e80df0d8bee')\"\n",
              "            title=\"Convert this dataframe to an interactive table.\"\n",
              "            style=\"display:none;\">\n",
              "\n",
              "  <svg xmlns=\"http://www.w3.org/2000/svg\" height=\"24px\" viewBox=\"0 -960 960 960\">\n",
              "    <path d=\"M120-120v-720h720v720H120Zm60-500h600v-160H180v160Zm220 220h160v-160H400v160Zm0 220h160v-160H400v160ZM180-400h160v-160H180v160Zm440 0h160v-160H620v160ZM180-180h160v-160H180v160Zm440 0h160v-160H620v160Z\"/>\n",
              "  </svg>\n",
              "    </button>\n",
              "\n",
              "  <style>\n",
              "    .colab-df-container {\n",
              "      display:flex;\n",
              "      gap: 12px;\n",
              "    }\n",
              "\n",
              "    .colab-df-convert {\n",
              "      background-color: #E8F0FE;\n",
              "      border: none;\n",
              "      border-radius: 50%;\n",
              "      cursor: pointer;\n",
              "      display: none;\n",
              "      fill: #1967D2;\n",
              "      height: 32px;\n",
              "      padding: 0 0 0 0;\n",
              "      width: 32px;\n",
              "    }\n",
              "\n",
              "    .colab-df-convert:hover {\n",
              "      background-color: #E2EBFA;\n",
              "      box-shadow: 0px 1px 2px rgba(60, 64, 67, 0.3), 0px 1px 3px 1px rgba(60, 64, 67, 0.15);\n",
              "      fill: #174EA6;\n",
              "    }\n",
              "\n",
              "    .colab-df-buttons div {\n",
              "      margin-bottom: 4px;\n",
              "    }\n",
              "\n",
              "    [theme=dark] .colab-df-convert {\n",
              "      background-color: #3B4455;\n",
              "      fill: #D2E3FC;\n",
              "    }\n",
              "\n",
              "    [theme=dark] .colab-df-convert:hover {\n",
              "      background-color: #434B5C;\n",
              "      box-shadow: 0px 1px 3px 1px rgba(0, 0, 0, 0.15);\n",
              "      filter: drop-shadow(0px 1px 2px rgba(0, 0, 0, 0.3));\n",
              "      fill: #FFFFFF;\n",
              "    }\n",
              "  </style>\n",
              "\n",
              "    <script>\n",
              "      const buttonEl =\n",
              "        document.querySelector('#df-0cc78628-9fab-42f5-ab4d-0e80df0d8bee button.colab-df-convert');\n",
              "      buttonEl.style.display =\n",
              "        google.colab.kernel.accessAllowed ? 'block' : 'none';\n",
              "\n",
              "      async function convertToInteractive(key) {\n",
              "        const element = document.querySelector('#df-0cc78628-9fab-42f5-ab4d-0e80df0d8bee');\n",
              "        const dataTable =\n",
              "          await google.colab.kernel.invokeFunction('convertToInteractive',\n",
              "                                                    [key], {});\n",
              "        if (!dataTable) return;\n",
              "\n",
              "        const docLinkHtml = 'Like what you see? Visit the ' +\n",
              "          '<a target=\"_blank\" href=https://colab.research.google.com/notebooks/data_table.ipynb>data table notebook</a>'\n",
              "          + ' to learn more about interactive tables.';\n",
              "        element.innerHTML = '';\n",
              "        dataTable['output_type'] = 'display_data';\n",
              "        await google.colab.output.renderOutput(dataTable, element);\n",
              "        const docLink = document.createElement('div');\n",
              "        docLink.innerHTML = docLinkHtml;\n",
              "        element.appendChild(docLink);\n",
              "      }\n",
              "    </script>\n",
              "  </div>\n",
              "\n",
              "\n",
              "<div id=\"df-2815fbf4-4504-415d-91a0-ecadd9dc3402\">\n",
              "  <button class=\"colab-df-quickchart\" onclick=\"quickchart('df-2815fbf4-4504-415d-91a0-ecadd9dc3402')\"\n",
              "            title=\"Suggest charts\"\n",
              "            style=\"display:none;\">\n",
              "\n",
              "<svg xmlns=\"http://www.w3.org/2000/svg\" height=\"24px\"viewBox=\"0 0 24 24\"\n",
              "     width=\"24px\">\n",
              "    <g>\n",
              "        <path d=\"M19 3H5c-1.1 0-2 .9-2 2v14c0 1.1.9 2 2 2h14c1.1 0 2-.9 2-2V5c0-1.1-.9-2-2-2zM9 17H7v-7h2v7zm4 0h-2V7h2v10zm4 0h-2v-4h2v4z\"/>\n",
              "    </g>\n",
              "</svg>\n",
              "  </button>\n",
              "\n",
              "<style>\n",
              "  .colab-df-quickchart {\n",
              "      --bg-color: #E8F0FE;\n",
              "      --fill-color: #1967D2;\n",
              "      --hover-bg-color: #E2EBFA;\n",
              "      --hover-fill-color: #174EA6;\n",
              "      --disabled-fill-color: #AAA;\n",
              "      --disabled-bg-color: #DDD;\n",
              "  }\n",
              "\n",
              "  [theme=dark] .colab-df-quickchart {\n",
              "      --bg-color: #3B4455;\n",
              "      --fill-color: #D2E3FC;\n",
              "      --hover-bg-color: #434B5C;\n",
              "      --hover-fill-color: #FFFFFF;\n",
              "      --disabled-bg-color: #3B4455;\n",
              "      --disabled-fill-color: #666;\n",
              "  }\n",
              "\n",
              "  .colab-df-quickchart {\n",
              "    background-color: var(--bg-color);\n",
              "    border: none;\n",
              "    border-radius: 50%;\n",
              "    cursor: pointer;\n",
              "    display: none;\n",
              "    fill: var(--fill-color);\n",
              "    height: 32px;\n",
              "    padding: 0;\n",
              "    width: 32px;\n",
              "  }\n",
              "\n",
              "  .colab-df-quickchart:hover {\n",
              "    background-color: var(--hover-bg-color);\n",
              "    box-shadow: 0 1px 2px rgba(60, 64, 67, 0.3), 0 1px 3px 1px rgba(60, 64, 67, 0.15);\n",
              "    fill: var(--button-hover-fill-color);\n",
              "  }\n",
              "\n",
              "  .colab-df-quickchart-complete:disabled,\n",
              "  .colab-df-quickchart-complete:disabled:hover {\n",
              "    background-color: var(--disabled-bg-color);\n",
              "    fill: var(--disabled-fill-color);\n",
              "    box-shadow: none;\n",
              "  }\n",
              "\n",
              "  .colab-df-spinner {\n",
              "    border: 2px solid var(--fill-color);\n",
              "    border-color: transparent;\n",
              "    border-bottom-color: var(--fill-color);\n",
              "    animation:\n",
              "      spin 1s steps(1) infinite;\n",
              "  }\n",
              "\n",
              "  @keyframes spin {\n",
              "    0% {\n",
              "      border-color: transparent;\n",
              "      border-bottom-color: var(--fill-color);\n",
              "      border-left-color: var(--fill-color);\n",
              "    }\n",
              "    20% {\n",
              "      border-color: transparent;\n",
              "      border-left-color: var(--fill-color);\n",
              "      border-top-color: var(--fill-color);\n",
              "    }\n",
              "    30% {\n",
              "      border-color: transparent;\n",
              "      border-left-color: var(--fill-color);\n",
              "      border-top-color: var(--fill-color);\n",
              "      border-right-color: var(--fill-color);\n",
              "    }\n",
              "    40% {\n",
              "      border-color: transparent;\n",
              "      border-right-color: var(--fill-color);\n",
              "      border-top-color: var(--fill-color);\n",
              "    }\n",
              "    60% {\n",
              "      border-color: transparent;\n",
              "      border-right-color: var(--fill-color);\n",
              "    }\n",
              "    80% {\n",
              "      border-color: transparent;\n",
              "      border-right-color: var(--fill-color);\n",
              "      border-bottom-color: var(--fill-color);\n",
              "    }\n",
              "    90% {\n",
              "      border-color: transparent;\n",
              "      border-bottom-color: var(--fill-color);\n",
              "    }\n",
              "  }\n",
              "</style>\n",
              "\n",
              "  <script>\n",
              "    async function quickchart(key) {\n",
              "      const quickchartButtonEl =\n",
              "        document.querySelector('#' + key + ' button');\n",
              "      quickchartButtonEl.disabled = true;  // To prevent multiple clicks.\n",
              "      quickchartButtonEl.classList.add('colab-df-spinner');\n",
              "      try {\n",
              "        const charts = await google.colab.kernel.invokeFunction(\n",
              "            'suggestCharts', [key], {});\n",
              "      } catch (error) {\n",
              "        console.error('Error during call to suggestCharts:', error);\n",
              "      }\n",
              "      quickchartButtonEl.classList.remove('colab-df-spinner');\n",
              "      quickchartButtonEl.classList.add('colab-df-quickchart-complete');\n",
              "    }\n",
              "    (() => {\n",
              "      let quickchartButtonEl =\n",
              "        document.querySelector('#df-2815fbf4-4504-415d-91a0-ecadd9dc3402 button');\n",
              "      quickchartButtonEl.style.display =\n",
              "        google.colab.kernel.accessAllowed ? 'block' : 'none';\n",
              "    })();\n",
              "  </script>\n",
              "</div>\n",
              "\n",
              "    </div>\n",
              "  </div>\n"
            ],
            "application/vnd.google.colaboratory.intrinsic+json": {
              "type": "dataframe",
              "variable_name": "data"
            }
          },
          "metadata": {},
          "execution_count": 348
        }
      ]
    },
    {
      "cell_type": "markdown",
      "source": [
        "##**Let's also transform the ```year``` column of the pandas dataframe into something which represents how much old the car is by subtracting year of the oldest car in the dataset from the year of each car** or by subtracting the year when the first commercial car was introduced, that is 1886."
      ],
      "metadata": {
        "id": "o086ij775bOz"
      }
    },
    {
      "cell_type": "code",
      "source": [
        "data[\"year\"] = data[\"year\"].max() - data[\"year\"]"
      ],
      "metadata": {
        "id": "X5SIxxMy5agq"
      },
      "execution_count": 349,
      "outputs": []
    },
    {
      "cell_type": "code",
      "source": [
        "data.head()"
      ],
      "metadata": {
        "colab": {
          "base_uri": "https://localhost:8080/",
          "height": 255
        },
        "id": "eenEAsWp6iLw",
        "outputId": "93ed6e76-8df5-4bb3-9b3e-7836d3e589a3"
      },
      "execution_count": 350,
      "outputs": [
        {
          "output_type": "execute_result",
          "data": {
            "text/plain": [
              "   price  year  condition  cylinders  odometer  transmission  drive  size  \\\n",
              "0  15000   9.0          6          6  128000.0             3      2     4   \n",
              "1  27990  10.0          3          8   68696.0             2      3     4   \n",
              "2  34590   6.0          3          6   29499.0             2      3     4   \n",
              "3  35000   3.0          6          6   43000.0             3      3     3   \n",
              "4  29990   6.0          3          6   17302.0             2      3     3   \n",
              "\n",
              "   manufacturer0  manufacturer1  ...  paint_color2  paint_color3  \\\n",
              "0            1.0            0.0  ...           0.0           0.0   \n",
              "1            0.0            1.0  ...           0.0           0.0   \n",
              "2            0.0            0.0  ...           0.0           0.0   \n",
              "3            0.0            0.0  ...           1.0           0.0   \n",
              "4            0.0            0.0  ...           0.0           1.0   \n",
              "\n",
              "   paint_color4  paint_color5  paint_color6  paint_color7  paint_color8  \\\n",
              "0           0.0           0.0           0.0           0.0           0.0   \n",
              "1           0.0           0.0           0.0           0.0           0.0   \n",
              "2           0.0           0.0           0.0           0.0           0.0   \n",
              "3           0.0           0.0           0.0           0.0           0.0   \n",
              "4           0.0           0.0           0.0           0.0           0.0   \n",
              "\n",
              "   paint_color9  paint_color10  paint_color11  \n",
              "0           0.0            0.0            0.0  \n",
              "1           0.0            0.0            0.0  \n",
              "2           0.0            0.0            0.0  \n",
              "3           0.0            0.0            0.0  \n",
              "4           0.0            0.0            0.0  \n",
              "\n",
              "[5 rows x 210 columns]"
            ],
            "text/html": [
              "\n",
              "  <div id=\"df-0daabdd7-87fd-4c4e-942d-0412611360bf\" class=\"colab-df-container\">\n",
              "    <div>\n",
              "<style scoped>\n",
              "    .dataframe tbody tr th:only-of-type {\n",
              "        vertical-align: middle;\n",
              "    }\n",
              "\n",
              "    .dataframe tbody tr th {\n",
              "        vertical-align: top;\n",
              "    }\n",
              "\n",
              "    .dataframe thead th {\n",
              "        text-align: right;\n",
              "    }\n",
              "</style>\n",
              "<table border=\"1\" class=\"dataframe\">\n",
              "  <thead>\n",
              "    <tr style=\"text-align: right;\">\n",
              "      <th></th>\n",
              "      <th>price</th>\n",
              "      <th>year</th>\n",
              "      <th>condition</th>\n",
              "      <th>cylinders</th>\n",
              "      <th>odometer</th>\n",
              "      <th>transmission</th>\n",
              "      <th>drive</th>\n",
              "      <th>size</th>\n",
              "      <th>manufacturer0</th>\n",
              "      <th>manufacturer1</th>\n",
              "      <th>...</th>\n",
              "      <th>paint_color2</th>\n",
              "      <th>paint_color3</th>\n",
              "      <th>paint_color4</th>\n",
              "      <th>paint_color5</th>\n",
              "      <th>paint_color6</th>\n",
              "      <th>paint_color7</th>\n",
              "      <th>paint_color8</th>\n",
              "      <th>paint_color9</th>\n",
              "      <th>paint_color10</th>\n",
              "      <th>paint_color11</th>\n",
              "    </tr>\n",
              "  </thead>\n",
              "  <tbody>\n",
              "    <tr>\n",
              "      <th>0</th>\n",
              "      <td>15000</td>\n",
              "      <td>9.0</td>\n",
              "      <td>6</td>\n",
              "      <td>6</td>\n",
              "      <td>128000.0</td>\n",
              "      <td>3</td>\n",
              "      <td>2</td>\n",
              "      <td>4</td>\n",
              "      <td>1.0</td>\n",
              "      <td>0.0</td>\n",
              "      <td>...</td>\n",
              "      <td>0.0</td>\n",
              "      <td>0.0</td>\n",
              "      <td>0.0</td>\n",
              "      <td>0.0</td>\n",
              "      <td>0.0</td>\n",
              "      <td>0.0</td>\n",
              "      <td>0.0</td>\n",
              "      <td>0.0</td>\n",
              "      <td>0.0</td>\n",
              "      <td>0.0</td>\n",
              "    </tr>\n",
              "    <tr>\n",
              "      <th>1</th>\n",
              "      <td>27990</td>\n",
              "      <td>10.0</td>\n",
              "      <td>3</td>\n",
              "      <td>8</td>\n",
              "      <td>68696.0</td>\n",
              "      <td>2</td>\n",
              "      <td>3</td>\n",
              "      <td>4</td>\n",
              "      <td>0.0</td>\n",
              "      <td>1.0</td>\n",
              "      <td>...</td>\n",
              "      <td>0.0</td>\n",
              "      <td>0.0</td>\n",
              "      <td>0.0</td>\n",
              "      <td>0.0</td>\n",
              "      <td>0.0</td>\n",
              "      <td>0.0</td>\n",
              "      <td>0.0</td>\n",
              "      <td>0.0</td>\n",
              "      <td>0.0</td>\n",
              "      <td>0.0</td>\n",
              "    </tr>\n",
              "    <tr>\n",
              "      <th>2</th>\n",
              "      <td>34590</td>\n",
              "      <td>6.0</td>\n",
              "      <td>3</td>\n",
              "      <td>6</td>\n",
              "      <td>29499.0</td>\n",
              "      <td>2</td>\n",
              "      <td>3</td>\n",
              "      <td>4</td>\n",
              "      <td>0.0</td>\n",
              "      <td>0.0</td>\n",
              "      <td>...</td>\n",
              "      <td>0.0</td>\n",
              "      <td>0.0</td>\n",
              "      <td>0.0</td>\n",
              "      <td>0.0</td>\n",
              "      <td>0.0</td>\n",
              "      <td>0.0</td>\n",
              "      <td>0.0</td>\n",
              "      <td>0.0</td>\n",
              "      <td>0.0</td>\n",
              "      <td>0.0</td>\n",
              "    </tr>\n",
              "    <tr>\n",
              "      <th>3</th>\n",
              "      <td>35000</td>\n",
              "      <td>3.0</td>\n",
              "      <td>6</td>\n",
              "      <td>6</td>\n",
              "      <td>43000.0</td>\n",
              "      <td>3</td>\n",
              "      <td>3</td>\n",
              "      <td>3</td>\n",
              "      <td>0.0</td>\n",
              "      <td>0.0</td>\n",
              "      <td>...</td>\n",
              "      <td>1.0</td>\n",
              "      <td>0.0</td>\n",
              "      <td>0.0</td>\n",
              "      <td>0.0</td>\n",
              "      <td>0.0</td>\n",
              "      <td>0.0</td>\n",
              "      <td>0.0</td>\n",
              "      <td>0.0</td>\n",
              "      <td>0.0</td>\n",
              "      <td>0.0</td>\n",
              "    </tr>\n",
              "    <tr>\n",
              "      <th>4</th>\n",
              "      <td>29990</td>\n",
              "      <td>6.0</td>\n",
              "      <td>3</td>\n",
              "      <td>6</td>\n",
              "      <td>17302.0</td>\n",
              "      <td>2</td>\n",
              "      <td>3</td>\n",
              "      <td>3</td>\n",
              "      <td>0.0</td>\n",
              "      <td>0.0</td>\n",
              "      <td>...</td>\n",
              "      <td>0.0</td>\n",
              "      <td>1.0</td>\n",
              "      <td>0.0</td>\n",
              "      <td>0.0</td>\n",
              "      <td>0.0</td>\n",
              "      <td>0.0</td>\n",
              "      <td>0.0</td>\n",
              "      <td>0.0</td>\n",
              "      <td>0.0</td>\n",
              "      <td>0.0</td>\n",
              "    </tr>\n",
              "  </tbody>\n",
              "</table>\n",
              "<p>5 rows × 210 columns</p>\n",
              "</div>\n",
              "    <div class=\"colab-df-buttons\">\n",
              "\n",
              "  <div class=\"colab-df-container\">\n",
              "    <button class=\"colab-df-convert\" onclick=\"convertToInteractive('df-0daabdd7-87fd-4c4e-942d-0412611360bf')\"\n",
              "            title=\"Convert this dataframe to an interactive table.\"\n",
              "            style=\"display:none;\">\n",
              "\n",
              "  <svg xmlns=\"http://www.w3.org/2000/svg\" height=\"24px\" viewBox=\"0 -960 960 960\">\n",
              "    <path d=\"M120-120v-720h720v720H120Zm60-500h600v-160H180v160Zm220 220h160v-160H400v160Zm0 220h160v-160H400v160ZM180-400h160v-160H180v160Zm440 0h160v-160H620v160ZM180-180h160v-160H180v160Zm440 0h160v-160H620v160Z\"/>\n",
              "  </svg>\n",
              "    </button>\n",
              "\n",
              "  <style>\n",
              "    .colab-df-container {\n",
              "      display:flex;\n",
              "      gap: 12px;\n",
              "    }\n",
              "\n",
              "    .colab-df-convert {\n",
              "      background-color: #E8F0FE;\n",
              "      border: none;\n",
              "      border-radius: 50%;\n",
              "      cursor: pointer;\n",
              "      display: none;\n",
              "      fill: #1967D2;\n",
              "      height: 32px;\n",
              "      padding: 0 0 0 0;\n",
              "      width: 32px;\n",
              "    }\n",
              "\n",
              "    .colab-df-convert:hover {\n",
              "      background-color: #E2EBFA;\n",
              "      box-shadow: 0px 1px 2px rgba(60, 64, 67, 0.3), 0px 1px 3px 1px rgba(60, 64, 67, 0.15);\n",
              "      fill: #174EA6;\n",
              "    }\n",
              "\n",
              "    .colab-df-buttons div {\n",
              "      margin-bottom: 4px;\n",
              "    }\n",
              "\n",
              "    [theme=dark] .colab-df-convert {\n",
              "      background-color: #3B4455;\n",
              "      fill: #D2E3FC;\n",
              "    }\n",
              "\n",
              "    [theme=dark] .colab-df-convert:hover {\n",
              "      background-color: #434B5C;\n",
              "      box-shadow: 0px 1px 3px 1px rgba(0, 0, 0, 0.15);\n",
              "      filter: drop-shadow(0px 1px 2px rgba(0, 0, 0, 0.3));\n",
              "      fill: #FFFFFF;\n",
              "    }\n",
              "  </style>\n",
              "\n",
              "    <script>\n",
              "      const buttonEl =\n",
              "        document.querySelector('#df-0daabdd7-87fd-4c4e-942d-0412611360bf button.colab-df-convert');\n",
              "      buttonEl.style.display =\n",
              "        google.colab.kernel.accessAllowed ? 'block' : 'none';\n",
              "\n",
              "      async function convertToInteractive(key) {\n",
              "        const element = document.querySelector('#df-0daabdd7-87fd-4c4e-942d-0412611360bf');\n",
              "        const dataTable =\n",
              "          await google.colab.kernel.invokeFunction('convertToInteractive',\n",
              "                                                    [key], {});\n",
              "        if (!dataTable) return;\n",
              "\n",
              "        const docLinkHtml = 'Like what you see? Visit the ' +\n",
              "          '<a target=\"_blank\" href=https://colab.research.google.com/notebooks/data_table.ipynb>data table notebook</a>'\n",
              "          + ' to learn more about interactive tables.';\n",
              "        element.innerHTML = '';\n",
              "        dataTable['output_type'] = 'display_data';\n",
              "        await google.colab.output.renderOutput(dataTable, element);\n",
              "        const docLink = document.createElement('div');\n",
              "        docLink.innerHTML = docLinkHtml;\n",
              "        element.appendChild(docLink);\n",
              "      }\n",
              "    </script>\n",
              "  </div>\n",
              "\n",
              "\n",
              "<div id=\"df-9e3fdb1b-b977-4e6c-9b23-0f5b62c09966\">\n",
              "  <button class=\"colab-df-quickchart\" onclick=\"quickchart('df-9e3fdb1b-b977-4e6c-9b23-0f5b62c09966')\"\n",
              "            title=\"Suggest charts\"\n",
              "            style=\"display:none;\">\n",
              "\n",
              "<svg xmlns=\"http://www.w3.org/2000/svg\" height=\"24px\"viewBox=\"0 0 24 24\"\n",
              "     width=\"24px\">\n",
              "    <g>\n",
              "        <path d=\"M19 3H5c-1.1 0-2 .9-2 2v14c0 1.1.9 2 2 2h14c1.1 0 2-.9 2-2V5c0-1.1-.9-2-2-2zM9 17H7v-7h2v7zm4 0h-2V7h2v10zm4 0h-2v-4h2v4z\"/>\n",
              "    </g>\n",
              "</svg>\n",
              "  </button>\n",
              "\n",
              "<style>\n",
              "  .colab-df-quickchart {\n",
              "      --bg-color: #E8F0FE;\n",
              "      --fill-color: #1967D2;\n",
              "      --hover-bg-color: #E2EBFA;\n",
              "      --hover-fill-color: #174EA6;\n",
              "      --disabled-fill-color: #AAA;\n",
              "      --disabled-bg-color: #DDD;\n",
              "  }\n",
              "\n",
              "  [theme=dark] .colab-df-quickchart {\n",
              "      --bg-color: #3B4455;\n",
              "      --fill-color: #D2E3FC;\n",
              "      --hover-bg-color: #434B5C;\n",
              "      --hover-fill-color: #FFFFFF;\n",
              "      --disabled-bg-color: #3B4455;\n",
              "      --disabled-fill-color: #666;\n",
              "  }\n",
              "\n",
              "  .colab-df-quickchart {\n",
              "    background-color: var(--bg-color);\n",
              "    border: none;\n",
              "    border-radius: 50%;\n",
              "    cursor: pointer;\n",
              "    display: none;\n",
              "    fill: var(--fill-color);\n",
              "    height: 32px;\n",
              "    padding: 0;\n",
              "    width: 32px;\n",
              "  }\n",
              "\n",
              "  .colab-df-quickchart:hover {\n",
              "    background-color: var(--hover-bg-color);\n",
              "    box-shadow: 0 1px 2px rgba(60, 64, 67, 0.3), 0 1px 3px 1px rgba(60, 64, 67, 0.15);\n",
              "    fill: var(--button-hover-fill-color);\n",
              "  }\n",
              "\n",
              "  .colab-df-quickchart-complete:disabled,\n",
              "  .colab-df-quickchart-complete:disabled:hover {\n",
              "    background-color: var(--disabled-bg-color);\n",
              "    fill: var(--disabled-fill-color);\n",
              "    box-shadow: none;\n",
              "  }\n",
              "\n",
              "  .colab-df-spinner {\n",
              "    border: 2px solid var(--fill-color);\n",
              "    border-color: transparent;\n",
              "    border-bottom-color: var(--fill-color);\n",
              "    animation:\n",
              "      spin 1s steps(1) infinite;\n",
              "  }\n",
              "\n",
              "  @keyframes spin {\n",
              "    0% {\n",
              "      border-color: transparent;\n",
              "      border-bottom-color: var(--fill-color);\n",
              "      border-left-color: var(--fill-color);\n",
              "    }\n",
              "    20% {\n",
              "      border-color: transparent;\n",
              "      border-left-color: var(--fill-color);\n",
              "      border-top-color: var(--fill-color);\n",
              "    }\n",
              "    30% {\n",
              "      border-color: transparent;\n",
              "      border-left-color: var(--fill-color);\n",
              "      border-top-color: var(--fill-color);\n",
              "      border-right-color: var(--fill-color);\n",
              "    }\n",
              "    40% {\n",
              "      border-color: transparent;\n",
              "      border-right-color: var(--fill-color);\n",
              "      border-top-color: var(--fill-color);\n",
              "    }\n",
              "    60% {\n",
              "      border-color: transparent;\n",
              "      border-right-color: var(--fill-color);\n",
              "    }\n",
              "    80% {\n",
              "      border-color: transparent;\n",
              "      border-right-color: var(--fill-color);\n",
              "      border-bottom-color: var(--fill-color);\n",
              "    }\n",
              "    90% {\n",
              "      border-color: transparent;\n",
              "      border-bottom-color: var(--fill-color);\n",
              "    }\n",
              "  }\n",
              "</style>\n",
              "\n",
              "  <script>\n",
              "    async function quickchart(key) {\n",
              "      const quickchartButtonEl =\n",
              "        document.querySelector('#' + key + ' button');\n",
              "      quickchartButtonEl.disabled = true;  // To prevent multiple clicks.\n",
              "      quickchartButtonEl.classList.add('colab-df-spinner');\n",
              "      try {\n",
              "        const charts = await google.colab.kernel.invokeFunction(\n",
              "            'suggestCharts', [key], {});\n",
              "      } catch (error) {\n",
              "        console.error('Error during call to suggestCharts:', error);\n",
              "      }\n",
              "      quickchartButtonEl.classList.remove('colab-df-spinner');\n",
              "      quickchartButtonEl.classList.add('colab-df-quickchart-complete');\n",
              "    }\n",
              "    (() => {\n",
              "      let quickchartButtonEl =\n",
              "        document.querySelector('#df-9e3fdb1b-b977-4e6c-9b23-0f5b62c09966 button');\n",
              "      quickchartButtonEl.style.display =\n",
              "        google.colab.kernel.accessAllowed ? 'block' : 'none';\n",
              "    })();\n",
              "  </script>\n",
              "</div>\n",
              "\n",
              "    </div>\n",
              "  </div>\n"
            ],
            "application/vnd.google.colaboratory.intrinsic+json": {
              "type": "dataframe",
              "variable_name": "data"
            }
          },
          "metadata": {},
          "execution_count": 350
        }
      ]
    },
    {
      "cell_type": "code",
      "source": [
        "data.to_csv(\"/content/updated_cleaned_vehicles.csv\",index=False)"
      ],
      "metadata": {
        "id": "xS-Unu1C7ntW"
      },
      "execution_count": 351,
      "outputs": []
    },
    {
      "cell_type": "code",
      "source": [
        "!cp /content/updated_cleaned_vehicles.csv /content/drive/MyDrive/"
      ],
      "metadata": {
        "id": "yaewv_zB2Vgb"
      },
      "execution_count": 352,
      "outputs": []
    },
    {
      "cell_type": "code",
      "source": [
        "!cp /content/drive/MyDrive/updated_cleaned_vehicles.csv /content/"
      ],
      "metadata": {
        "id": "ckraAvn72pUl"
      },
      "execution_count": 353,
      "outputs": []
    },
    {
      "cell_type": "markdown",
      "source": [
        "##Let's filter out those input feature columns which have high pearson correlation with the ```price``` column.  "
      ],
      "metadata": {
        "id": "nrpGYMoN3MGw"
      }
    },
    {
      "cell_type": "code",
      "source": [
        "data = pd.read_csv(\"/content/updated_cleaned_vehicles.csv\")"
      ],
      "metadata": {
        "id": "nfAxyrerF6St"
      },
      "execution_count": 354,
      "outputs": []
    },
    {
      "cell_type": "code",
      "source": [
        "\n",
        "pearson_corr = list()\n",
        "\n",
        "for single_column in data.columns:\n",
        "  pearson_corr.append(data[\"price\"].corr(data[single_column]))\n",
        "\n",
        "relevant_columns_idx = np.argwhere(np.abs(np.array(pearson_corr))>10**(-2))\n"
      ],
      "metadata": {
        "id": "O6em3ezj3z1O"
      },
      "execution_count": 355,
      "outputs": []
    },
    {
      "cell_type": "code",
      "source": [
        "\n",
        "relevant_columns_idx[:,0]\n"
      ],
      "metadata": {
        "colab": {
          "base_uri": "https://localhost:8080/"
        },
        "id": "web6z8VZE8Ot",
        "outputId": "1139e7ca-2dda-4c78-b2e1-d5fac47fd834"
      },
      "execution_count": 356,
      "outputs": [
        {
          "output_type": "execute_result",
          "data": {
            "text/plain": [
              "array([ 0, 11, 79, 80])"
            ]
          },
          "metadata": {},
          "execution_count": 356
        }
      ]
    },
    {
      "cell_type": "code",
      "source": [
        "\n",
        "data = data.iloc[:,relevant_columns_idx[:,0]]\n"
      ],
      "metadata": {
        "id": "sgkJu1hEFbkE"
      },
      "execution_count": 357,
      "outputs": []
    },
    {
      "cell_type": "code",
      "source": [
        "data.head()"
      ],
      "metadata": {
        "colab": {
          "base_uri": "https://localhost:8080/",
          "height": 206
        },
        "id": "nl4tipYBFnbz",
        "outputId": "4f4863dc-ca38-4fe7-bc13-8d2ecbf63ebf"
      },
      "execution_count": 358,
      "outputs": [
        {
          "output_type": "execute_result",
          "data": {
            "text/plain": [
              "   price  manufacturer3  model30  model31\n",
              "0  15000            0.0      0.0      0.0\n",
              "1  27990            0.0      0.0      0.0\n",
              "2  34590            0.0      0.0      0.0\n",
              "3  35000            1.0      0.0      0.0\n",
              "4  29990            0.0      0.0      0.0"
            ],
            "text/html": [
              "\n",
              "  <div id=\"df-062569e5-020d-457e-8eb6-409ed7d4e015\" class=\"colab-df-container\">\n",
              "    <div>\n",
              "<style scoped>\n",
              "    .dataframe tbody tr th:only-of-type {\n",
              "        vertical-align: middle;\n",
              "    }\n",
              "\n",
              "    .dataframe tbody tr th {\n",
              "        vertical-align: top;\n",
              "    }\n",
              "\n",
              "    .dataframe thead th {\n",
              "        text-align: right;\n",
              "    }\n",
              "</style>\n",
              "<table border=\"1\" class=\"dataframe\">\n",
              "  <thead>\n",
              "    <tr style=\"text-align: right;\">\n",
              "      <th></th>\n",
              "      <th>price</th>\n",
              "      <th>manufacturer3</th>\n",
              "      <th>model30</th>\n",
              "      <th>model31</th>\n",
              "    </tr>\n",
              "  </thead>\n",
              "  <tbody>\n",
              "    <tr>\n",
              "      <th>0</th>\n",
              "      <td>15000</td>\n",
              "      <td>0.0</td>\n",
              "      <td>0.0</td>\n",
              "      <td>0.0</td>\n",
              "    </tr>\n",
              "    <tr>\n",
              "      <th>1</th>\n",
              "      <td>27990</td>\n",
              "      <td>0.0</td>\n",
              "      <td>0.0</td>\n",
              "      <td>0.0</td>\n",
              "    </tr>\n",
              "    <tr>\n",
              "      <th>2</th>\n",
              "      <td>34590</td>\n",
              "      <td>0.0</td>\n",
              "      <td>0.0</td>\n",
              "      <td>0.0</td>\n",
              "    </tr>\n",
              "    <tr>\n",
              "      <th>3</th>\n",
              "      <td>35000</td>\n",
              "      <td>1.0</td>\n",
              "      <td>0.0</td>\n",
              "      <td>0.0</td>\n",
              "    </tr>\n",
              "    <tr>\n",
              "      <th>4</th>\n",
              "      <td>29990</td>\n",
              "      <td>0.0</td>\n",
              "      <td>0.0</td>\n",
              "      <td>0.0</td>\n",
              "    </tr>\n",
              "  </tbody>\n",
              "</table>\n",
              "</div>\n",
              "    <div class=\"colab-df-buttons\">\n",
              "\n",
              "  <div class=\"colab-df-container\">\n",
              "    <button class=\"colab-df-convert\" onclick=\"convertToInteractive('df-062569e5-020d-457e-8eb6-409ed7d4e015')\"\n",
              "            title=\"Convert this dataframe to an interactive table.\"\n",
              "            style=\"display:none;\">\n",
              "\n",
              "  <svg xmlns=\"http://www.w3.org/2000/svg\" height=\"24px\" viewBox=\"0 -960 960 960\">\n",
              "    <path d=\"M120-120v-720h720v720H120Zm60-500h600v-160H180v160Zm220 220h160v-160H400v160Zm0 220h160v-160H400v160ZM180-400h160v-160H180v160Zm440 0h160v-160H620v160ZM180-180h160v-160H180v160Zm440 0h160v-160H620v160Z\"/>\n",
              "  </svg>\n",
              "    </button>\n",
              "\n",
              "  <style>\n",
              "    .colab-df-container {\n",
              "      display:flex;\n",
              "      gap: 12px;\n",
              "    }\n",
              "\n",
              "    .colab-df-convert {\n",
              "      background-color: #E8F0FE;\n",
              "      border: none;\n",
              "      border-radius: 50%;\n",
              "      cursor: pointer;\n",
              "      display: none;\n",
              "      fill: #1967D2;\n",
              "      height: 32px;\n",
              "      padding: 0 0 0 0;\n",
              "      width: 32px;\n",
              "    }\n",
              "\n",
              "    .colab-df-convert:hover {\n",
              "      background-color: #E2EBFA;\n",
              "      box-shadow: 0px 1px 2px rgba(60, 64, 67, 0.3), 0px 1px 3px 1px rgba(60, 64, 67, 0.15);\n",
              "      fill: #174EA6;\n",
              "    }\n",
              "\n",
              "    .colab-df-buttons div {\n",
              "      margin-bottom: 4px;\n",
              "    }\n",
              "\n",
              "    [theme=dark] .colab-df-convert {\n",
              "      background-color: #3B4455;\n",
              "      fill: #D2E3FC;\n",
              "    }\n",
              "\n",
              "    [theme=dark] .colab-df-convert:hover {\n",
              "      background-color: #434B5C;\n",
              "      box-shadow: 0px 1px 3px 1px rgba(0, 0, 0, 0.15);\n",
              "      filter: drop-shadow(0px 1px 2px rgba(0, 0, 0, 0.3));\n",
              "      fill: #FFFFFF;\n",
              "    }\n",
              "  </style>\n",
              "\n",
              "    <script>\n",
              "      const buttonEl =\n",
              "        document.querySelector('#df-062569e5-020d-457e-8eb6-409ed7d4e015 button.colab-df-convert');\n",
              "      buttonEl.style.display =\n",
              "        google.colab.kernel.accessAllowed ? 'block' : 'none';\n",
              "\n",
              "      async function convertToInteractive(key) {\n",
              "        const element = document.querySelector('#df-062569e5-020d-457e-8eb6-409ed7d4e015');\n",
              "        const dataTable =\n",
              "          await google.colab.kernel.invokeFunction('convertToInteractive',\n",
              "                                                    [key], {});\n",
              "        if (!dataTable) return;\n",
              "\n",
              "        const docLinkHtml = 'Like what you see? Visit the ' +\n",
              "          '<a target=\"_blank\" href=https://colab.research.google.com/notebooks/data_table.ipynb>data table notebook</a>'\n",
              "          + ' to learn more about interactive tables.';\n",
              "        element.innerHTML = '';\n",
              "        dataTable['output_type'] = 'display_data';\n",
              "        await google.colab.output.renderOutput(dataTable, element);\n",
              "        const docLink = document.createElement('div');\n",
              "        docLink.innerHTML = docLinkHtml;\n",
              "        element.appendChild(docLink);\n",
              "      }\n",
              "    </script>\n",
              "  </div>\n",
              "\n",
              "\n",
              "<div id=\"df-e824ccb8-f9ea-4b8c-998e-6347eb11c09d\">\n",
              "  <button class=\"colab-df-quickchart\" onclick=\"quickchart('df-e824ccb8-f9ea-4b8c-998e-6347eb11c09d')\"\n",
              "            title=\"Suggest charts\"\n",
              "            style=\"display:none;\">\n",
              "\n",
              "<svg xmlns=\"http://www.w3.org/2000/svg\" height=\"24px\"viewBox=\"0 0 24 24\"\n",
              "     width=\"24px\">\n",
              "    <g>\n",
              "        <path d=\"M19 3H5c-1.1 0-2 .9-2 2v14c0 1.1.9 2 2 2h14c1.1 0 2-.9 2-2V5c0-1.1-.9-2-2-2zM9 17H7v-7h2v7zm4 0h-2V7h2v10zm4 0h-2v-4h2v4z\"/>\n",
              "    </g>\n",
              "</svg>\n",
              "  </button>\n",
              "\n",
              "<style>\n",
              "  .colab-df-quickchart {\n",
              "      --bg-color: #E8F0FE;\n",
              "      --fill-color: #1967D2;\n",
              "      --hover-bg-color: #E2EBFA;\n",
              "      --hover-fill-color: #174EA6;\n",
              "      --disabled-fill-color: #AAA;\n",
              "      --disabled-bg-color: #DDD;\n",
              "  }\n",
              "\n",
              "  [theme=dark] .colab-df-quickchart {\n",
              "      --bg-color: #3B4455;\n",
              "      --fill-color: #D2E3FC;\n",
              "      --hover-bg-color: #434B5C;\n",
              "      --hover-fill-color: #FFFFFF;\n",
              "      --disabled-bg-color: #3B4455;\n",
              "      --disabled-fill-color: #666;\n",
              "  }\n",
              "\n",
              "  .colab-df-quickchart {\n",
              "    background-color: var(--bg-color);\n",
              "    border: none;\n",
              "    border-radius: 50%;\n",
              "    cursor: pointer;\n",
              "    display: none;\n",
              "    fill: var(--fill-color);\n",
              "    height: 32px;\n",
              "    padding: 0;\n",
              "    width: 32px;\n",
              "  }\n",
              "\n",
              "  .colab-df-quickchart:hover {\n",
              "    background-color: var(--hover-bg-color);\n",
              "    box-shadow: 0 1px 2px rgba(60, 64, 67, 0.3), 0 1px 3px 1px rgba(60, 64, 67, 0.15);\n",
              "    fill: var(--button-hover-fill-color);\n",
              "  }\n",
              "\n",
              "  .colab-df-quickchart-complete:disabled,\n",
              "  .colab-df-quickchart-complete:disabled:hover {\n",
              "    background-color: var(--disabled-bg-color);\n",
              "    fill: var(--disabled-fill-color);\n",
              "    box-shadow: none;\n",
              "  }\n",
              "\n",
              "  .colab-df-spinner {\n",
              "    border: 2px solid var(--fill-color);\n",
              "    border-color: transparent;\n",
              "    border-bottom-color: var(--fill-color);\n",
              "    animation:\n",
              "      spin 1s steps(1) infinite;\n",
              "  }\n",
              "\n",
              "  @keyframes spin {\n",
              "    0% {\n",
              "      border-color: transparent;\n",
              "      border-bottom-color: var(--fill-color);\n",
              "      border-left-color: var(--fill-color);\n",
              "    }\n",
              "    20% {\n",
              "      border-color: transparent;\n",
              "      border-left-color: var(--fill-color);\n",
              "      border-top-color: var(--fill-color);\n",
              "    }\n",
              "    30% {\n",
              "      border-color: transparent;\n",
              "      border-left-color: var(--fill-color);\n",
              "      border-top-color: var(--fill-color);\n",
              "      border-right-color: var(--fill-color);\n",
              "    }\n",
              "    40% {\n",
              "      border-color: transparent;\n",
              "      border-right-color: var(--fill-color);\n",
              "      border-top-color: var(--fill-color);\n",
              "    }\n",
              "    60% {\n",
              "      border-color: transparent;\n",
              "      border-right-color: var(--fill-color);\n",
              "    }\n",
              "    80% {\n",
              "      border-color: transparent;\n",
              "      border-right-color: var(--fill-color);\n",
              "      border-bottom-color: var(--fill-color);\n",
              "    }\n",
              "    90% {\n",
              "      border-color: transparent;\n",
              "      border-bottom-color: var(--fill-color);\n",
              "    }\n",
              "  }\n",
              "</style>\n",
              "\n",
              "  <script>\n",
              "    async function quickchart(key) {\n",
              "      const quickchartButtonEl =\n",
              "        document.querySelector('#' + key + ' button');\n",
              "      quickchartButtonEl.disabled = true;  // To prevent multiple clicks.\n",
              "      quickchartButtonEl.classList.add('colab-df-spinner');\n",
              "      try {\n",
              "        const charts = await google.colab.kernel.invokeFunction(\n",
              "            'suggestCharts', [key], {});\n",
              "      } catch (error) {\n",
              "        console.error('Error during call to suggestCharts:', error);\n",
              "      }\n",
              "      quickchartButtonEl.classList.remove('colab-df-spinner');\n",
              "      quickchartButtonEl.classList.add('colab-df-quickchart-complete');\n",
              "    }\n",
              "    (() => {\n",
              "      let quickchartButtonEl =\n",
              "        document.querySelector('#df-e824ccb8-f9ea-4b8c-998e-6347eb11c09d button');\n",
              "      quickchartButtonEl.style.display =\n",
              "        google.colab.kernel.accessAllowed ? 'block' : 'none';\n",
              "    })();\n",
              "  </script>\n",
              "</div>\n",
              "\n",
              "    </div>\n",
              "  </div>\n"
            ],
            "application/vnd.google.colaboratory.intrinsic+json": {
              "type": "dataframe",
              "variable_name": "data"
            }
          },
          "metadata": {},
          "execution_count": 358
        }
      ]
    },
    {
      "cell_type": "code",
      "source": [
        "def apply_pca(X,preserved_variance_percentage):\n",
        "\n",
        "  unprojected_X = np.array(X)\n",
        "  X_cov = np.array(X.cov())\n",
        "  Q_lambda_QT = np.linalg.svd(X_cov)\n",
        "  total_variance = np.sum(Q_lambda_QT[1])\n",
        "  variance_sum = 0\n",
        "  num_eigen_vectors = 1\n",
        "\n",
        "  if preserved_variance_percentage == 1:\n",
        "    projected_X = np.matmul(unprojected_X,Q_lambda_QT[0])\n",
        "    projected_X = pd.DataFrame(data=projected_X,\n",
        "                             columns=[\"feature_\"+str(i) for i in range(X.shape[1])])\n",
        "  else:\n",
        "    for variance in Q_lambda_QT[1]:\n",
        "\n",
        "      if (variance_sum/total_variance) > preserved_variance_percentage:\n",
        "        break\n",
        "\n",
        "      variance_sum += variance\n",
        "      num_eigen_vectors += 1\n",
        "\n",
        "    projected_X = np.matmul(unprojected_X,Q_lambda_QT[0][:,0:num_eigen_vectors])\n",
        "\n",
        "    projected_X = pd.DataFrame(data=projected_X,\n",
        "                             columns=[\"feature_\"+str(i) for i in range(num_eigen_vectors)])\n",
        "\n",
        "  return projected_X"
      ],
      "metadata": {
        "id": "4MQzCEZaEHeP"
      },
      "execution_count": 359,
      "outputs": []
    },
    {
      "cell_type": "code",
      "source": [
        "projected_X = apply_pca(data.iloc[:,1:],0.95)"
      ],
      "metadata": {
        "id": "X_iZC5MQDqw2"
      },
      "execution_count": 360,
      "outputs": []
    },
    {
      "cell_type": "code",
      "source": [
        "projected_X.head()"
      ],
      "metadata": {
        "colab": {
          "base_uri": "https://localhost:8080/",
          "height": 206
        },
        "id": "ovOMhcQsKEYk",
        "outputId": "cdbfe488-9e90-4bc8-a29d-6cbd48a5f8b8"
      },
      "execution_count": 361,
      "outputs": [
        {
          "output_type": "execute_result",
          "data": {
            "text/plain": [
              "   feature_0  feature_1  feature_2\n",
              "0   0.000000   0.000000   0.000000\n",
              "1   0.000000   0.000000   0.000000\n",
              "2   0.000000   0.000000   0.000000\n",
              "3  -0.998111   0.009474  -0.060706\n",
              "4   0.000000   0.000000   0.000000"
            ],
            "text/html": [
              "\n",
              "  <div id=\"df-eee89d58-4f0e-4d74-86c4-17dd5f61c5f5\" class=\"colab-df-container\">\n",
              "    <div>\n",
              "<style scoped>\n",
              "    .dataframe tbody tr th:only-of-type {\n",
              "        vertical-align: middle;\n",
              "    }\n",
              "\n",
              "    .dataframe tbody tr th {\n",
              "        vertical-align: top;\n",
              "    }\n",
              "\n",
              "    .dataframe thead th {\n",
              "        text-align: right;\n",
              "    }\n",
              "</style>\n",
              "<table border=\"1\" class=\"dataframe\">\n",
              "  <thead>\n",
              "    <tr style=\"text-align: right;\">\n",
              "      <th></th>\n",
              "      <th>feature_0</th>\n",
              "      <th>feature_1</th>\n",
              "      <th>feature_2</th>\n",
              "    </tr>\n",
              "  </thead>\n",
              "  <tbody>\n",
              "    <tr>\n",
              "      <th>0</th>\n",
              "      <td>0.000000</td>\n",
              "      <td>0.000000</td>\n",
              "      <td>0.000000</td>\n",
              "    </tr>\n",
              "    <tr>\n",
              "      <th>1</th>\n",
              "      <td>0.000000</td>\n",
              "      <td>0.000000</td>\n",
              "      <td>0.000000</td>\n",
              "    </tr>\n",
              "    <tr>\n",
              "      <th>2</th>\n",
              "      <td>0.000000</td>\n",
              "      <td>0.000000</td>\n",
              "      <td>0.000000</td>\n",
              "    </tr>\n",
              "    <tr>\n",
              "      <th>3</th>\n",
              "      <td>-0.998111</td>\n",
              "      <td>0.009474</td>\n",
              "      <td>-0.060706</td>\n",
              "    </tr>\n",
              "    <tr>\n",
              "      <th>4</th>\n",
              "      <td>0.000000</td>\n",
              "      <td>0.000000</td>\n",
              "      <td>0.000000</td>\n",
              "    </tr>\n",
              "  </tbody>\n",
              "</table>\n",
              "</div>\n",
              "    <div class=\"colab-df-buttons\">\n",
              "\n",
              "  <div class=\"colab-df-container\">\n",
              "    <button class=\"colab-df-convert\" onclick=\"convertToInteractive('df-eee89d58-4f0e-4d74-86c4-17dd5f61c5f5')\"\n",
              "            title=\"Convert this dataframe to an interactive table.\"\n",
              "            style=\"display:none;\">\n",
              "\n",
              "  <svg xmlns=\"http://www.w3.org/2000/svg\" height=\"24px\" viewBox=\"0 -960 960 960\">\n",
              "    <path d=\"M120-120v-720h720v720H120Zm60-500h600v-160H180v160Zm220 220h160v-160H400v160Zm0 220h160v-160H400v160ZM180-400h160v-160H180v160Zm440 0h160v-160H620v160ZM180-180h160v-160H180v160Zm440 0h160v-160H620v160Z\"/>\n",
              "  </svg>\n",
              "    </button>\n",
              "\n",
              "  <style>\n",
              "    .colab-df-container {\n",
              "      display:flex;\n",
              "      gap: 12px;\n",
              "    }\n",
              "\n",
              "    .colab-df-convert {\n",
              "      background-color: #E8F0FE;\n",
              "      border: none;\n",
              "      border-radius: 50%;\n",
              "      cursor: pointer;\n",
              "      display: none;\n",
              "      fill: #1967D2;\n",
              "      height: 32px;\n",
              "      padding: 0 0 0 0;\n",
              "      width: 32px;\n",
              "    }\n",
              "\n",
              "    .colab-df-convert:hover {\n",
              "      background-color: #E2EBFA;\n",
              "      box-shadow: 0px 1px 2px rgba(60, 64, 67, 0.3), 0px 1px 3px 1px rgba(60, 64, 67, 0.15);\n",
              "      fill: #174EA6;\n",
              "    }\n",
              "\n",
              "    .colab-df-buttons div {\n",
              "      margin-bottom: 4px;\n",
              "    }\n",
              "\n",
              "    [theme=dark] .colab-df-convert {\n",
              "      background-color: #3B4455;\n",
              "      fill: #D2E3FC;\n",
              "    }\n",
              "\n",
              "    [theme=dark] .colab-df-convert:hover {\n",
              "      background-color: #434B5C;\n",
              "      box-shadow: 0px 1px 3px 1px rgba(0, 0, 0, 0.15);\n",
              "      filter: drop-shadow(0px 1px 2px rgba(0, 0, 0, 0.3));\n",
              "      fill: #FFFFFF;\n",
              "    }\n",
              "  </style>\n",
              "\n",
              "    <script>\n",
              "      const buttonEl =\n",
              "        document.querySelector('#df-eee89d58-4f0e-4d74-86c4-17dd5f61c5f5 button.colab-df-convert');\n",
              "      buttonEl.style.display =\n",
              "        google.colab.kernel.accessAllowed ? 'block' : 'none';\n",
              "\n",
              "      async function convertToInteractive(key) {\n",
              "        const element = document.querySelector('#df-eee89d58-4f0e-4d74-86c4-17dd5f61c5f5');\n",
              "        const dataTable =\n",
              "          await google.colab.kernel.invokeFunction('convertToInteractive',\n",
              "                                                    [key], {});\n",
              "        if (!dataTable) return;\n",
              "\n",
              "        const docLinkHtml = 'Like what you see? Visit the ' +\n",
              "          '<a target=\"_blank\" href=https://colab.research.google.com/notebooks/data_table.ipynb>data table notebook</a>'\n",
              "          + ' to learn more about interactive tables.';\n",
              "        element.innerHTML = '';\n",
              "        dataTable['output_type'] = 'display_data';\n",
              "        await google.colab.output.renderOutput(dataTable, element);\n",
              "        const docLink = document.createElement('div');\n",
              "        docLink.innerHTML = docLinkHtml;\n",
              "        element.appendChild(docLink);\n",
              "      }\n",
              "    </script>\n",
              "  </div>\n",
              "\n",
              "\n",
              "<div id=\"df-9e481707-e583-4463-8f99-e99c7b90eba6\">\n",
              "  <button class=\"colab-df-quickchart\" onclick=\"quickchart('df-9e481707-e583-4463-8f99-e99c7b90eba6')\"\n",
              "            title=\"Suggest charts\"\n",
              "            style=\"display:none;\">\n",
              "\n",
              "<svg xmlns=\"http://www.w3.org/2000/svg\" height=\"24px\"viewBox=\"0 0 24 24\"\n",
              "     width=\"24px\">\n",
              "    <g>\n",
              "        <path d=\"M19 3H5c-1.1 0-2 .9-2 2v14c0 1.1.9 2 2 2h14c1.1 0 2-.9 2-2V5c0-1.1-.9-2-2-2zM9 17H7v-7h2v7zm4 0h-2V7h2v10zm4 0h-2v-4h2v4z\"/>\n",
              "    </g>\n",
              "</svg>\n",
              "  </button>\n",
              "\n",
              "<style>\n",
              "  .colab-df-quickchart {\n",
              "      --bg-color: #E8F0FE;\n",
              "      --fill-color: #1967D2;\n",
              "      --hover-bg-color: #E2EBFA;\n",
              "      --hover-fill-color: #174EA6;\n",
              "      --disabled-fill-color: #AAA;\n",
              "      --disabled-bg-color: #DDD;\n",
              "  }\n",
              "\n",
              "  [theme=dark] .colab-df-quickchart {\n",
              "      --bg-color: #3B4455;\n",
              "      --fill-color: #D2E3FC;\n",
              "      --hover-bg-color: #434B5C;\n",
              "      --hover-fill-color: #FFFFFF;\n",
              "      --disabled-bg-color: #3B4455;\n",
              "      --disabled-fill-color: #666;\n",
              "  }\n",
              "\n",
              "  .colab-df-quickchart {\n",
              "    background-color: var(--bg-color);\n",
              "    border: none;\n",
              "    border-radius: 50%;\n",
              "    cursor: pointer;\n",
              "    display: none;\n",
              "    fill: var(--fill-color);\n",
              "    height: 32px;\n",
              "    padding: 0;\n",
              "    width: 32px;\n",
              "  }\n",
              "\n",
              "  .colab-df-quickchart:hover {\n",
              "    background-color: var(--hover-bg-color);\n",
              "    box-shadow: 0 1px 2px rgba(60, 64, 67, 0.3), 0 1px 3px 1px rgba(60, 64, 67, 0.15);\n",
              "    fill: var(--button-hover-fill-color);\n",
              "  }\n",
              "\n",
              "  .colab-df-quickchart-complete:disabled,\n",
              "  .colab-df-quickchart-complete:disabled:hover {\n",
              "    background-color: var(--disabled-bg-color);\n",
              "    fill: var(--disabled-fill-color);\n",
              "    box-shadow: none;\n",
              "  }\n",
              "\n",
              "  .colab-df-spinner {\n",
              "    border: 2px solid var(--fill-color);\n",
              "    border-color: transparent;\n",
              "    border-bottom-color: var(--fill-color);\n",
              "    animation:\n",
              "      spin 1s steps(1) infinite;\n",
              "  }\n",
              "\n",
              "  @keyframes spin {\n",
              "    0% {\n",
              "      border-color: transparent;\n",
              "      border-bottom-color: var(--fill-color);\n",
              "      border-left-color: var(--fill-color);\n",
              "    }\n",
              "    20% {\n",
              "      border-color: transparent;\n",
              "      border-left-color: var(--fill-color);\n",
              "      border-top-color: var(--fill-color);\n",
              "    }\n",
              "    30% {\n",
              "      border-color: transparent;\n",
              "      border-left-color: var(--fill-color);\n",
              "      border-top-color: var(--fill-color);\n",
              "      border-right-color: var(--fill-color);\n",
              "    }\n",
              "    40% {\n",
              "      border-color: transparent;\n",
              "      border-right-color: var(--fill-color);\n",
              "      border-top-color: var(--fill-color);\n",
              "    }\n",
              "    60% {\n",
              "      border-color: transparent;\n",
              "      border-right-color: var(--fill-color);\n",
              "    }\n",
              "    80% {\n",
              "      border-color: transparent;\n",
              "      border-right-color: var(--fill-color);\n",
              "      border-bottom-color: var(--fill-color);\n",
              "    }\n",
              "    90% {\n",
              "      border-color: transparent;\n",
              "      border-bottom-color: var(--fill-color);\n",
              "    }\n",
              "  }\n",
              "</style>\n",
              "\n",
              "  <script>\n",
              "    async function quickchart(key) {\n",
              "      const quickchartButtonEl =\n",
              "        document.querySelector('#' + key + ' button');\n",
              "      quickchartButtonEl.disabled = true;  // To prevent multiple clicks.\n",
              "      quickchartButtonEl.classList.add('colab-df-spinner');\n",
              "      try {\n",
              "        const charts = await google.colab.kernel.invokeFunction(\n",
              "            'suggestCharts', [key], {});\n",
              "      } catch (error) {\n",
              "        console.error('Error during call to suggestCharts:', error);\n",
              "      }\n",
              "      quickchartButtonEl.classList.remove('colab-df-spinner');\n",
              "      quickchartButtonEl.classList.add('colab-df-quickchart-complete');\n",
              "    }\n",
              "    (() => {\n",
              "      let quickchartButtonEl =\n",
              "        document.querySelector('#df-9e481707-e583-4463-8f99-e99c7b90eba6 button');\n",
              "      quickchartButtonEl.style.display =\n",
              "        google.colab.kernel.accessAllowed ? 'block' : 'none';\n",
              "    })();\n",
              "  </script>\n",
              "</div>\n",
              "\n",
              "    </div>\n",
              "  </div>\n"
            ],
            "application/vnd.google.colaboratory.intrinsic+json": {
              "type": "dataframe",
              "variable_name": "projected_X"
            }
          },
          "metadata": {},
          "execution_count": 361
        }
      ]
    },
    {
      "cell_type": "code",
      "source": [
        "projected_X = (projected_X - projected_X.mean())/projected_X.std()"
      ],
      "metadata": {
        "id": "8rFhuV5i-wkM"
      },
      "execution_count": 362,
      "outputs": []
    },
    {
      "cell_type": "code",
      "source": [
        "projected_data = pd.concat([projected_X,data[\"price\"]],axis=1)"
      ],
      "metadata": {
        "id": "V1piPE6htyuh"
      },
      "execution_count": 363,
      "outputs": []
    },
    {
      "cell_type": "code",
      "source": [
        "sns.heatmap(projected_data.corr(),xticklabels=True,yticklabels=True)\n",
        "plt.figure(figsize=(40,40))"
      ],
      "metadata": {
        "colab": {
          "base_uri": "https://localhost:8080/",
          "height": 472
        },
        "id": "hjXHKaGOKSc0",
        "outputId": "3c1d384d-bbad-4cc7-b0ed-df50768895e9"
      },
      "execution_count": 364,
      "outputs": [
        {
          "output_type": "execute_result",
          "data": {
            "text/plain": [
              "<Figure size 4000x4000 with 0 Axes>"
            ]
          },
          "metadata": {},
          "execution_count": 364
        },
        {
          "output_type": "display_data",
          "data": {
            "text/plain": [
              "<Figure size 640x480 with 2 Axes>"
            ],
            "image/png": "[encoded data removed]"
          },
          "metadata": {}
        },
        {
          "output_type": "display_data",
          "data": {
            "text/plain": [
              "<Figure size 4000x4000 with 0 Axes>"
            ]
          },
          "metadata": {}
        }
      ]
    },
    {
      "cell_type": "markdown",
      "metadata": {
        "id": "VfoUuUx2u7uR"
      },
      "source": [
        "##Now, we are going to split this data into Training and Testing Data with 70 % of the rows in Training Data and remaining 30 % in the Testing Data. Therefore, $N_\\text{train} = 0.7 \\times 144017 = 100811$ and $N_\\text{test} = (144017 - 100811) = 43206$"
      ]
    },
    {
      "cell_type": "code",
      "execution_count": 365,
      "metadata": {
        "id": "nWF6aw89uCFi"
      },
      "outputs": [],
      "source": [
        "training_data_len = int(0.7 * projected_data.shape[0])\n",
        "training_data = projected_data.iloc[0:training_data_len,:]\n",
        "\n",
        "testing_data = projected_data.iloc[training_data_len:,:]"
      ]
    },
    {
      "cell_type": "code",
      "execution_count": 366,
      "metadata": {
        "colab": {
          "base_uri": "https://localhost:8080/"
        },
        "id": "sH7UEyUFxLoQ",
        "outputId": "e7febbc6-3eba-4ff1-bd28-3adab8fa0bd7"
      },
      "outputs": [
        {
          "output_type": "execute_result",
          "data": {
            "text/plain": [
              "(100811, 4)"
            ]
          },
          "metadata": {},
          "execution_count": 366
        }
      ],
      "source": [
        "training_data.shape"
      ]
    },
    {
      "cell_type": "code",
      "execution_count": 367,
      "metadata": {
        "colab": {
          "base_uri": "https://localhost:8080/"
        },
        "id": "V5rQjRauytfU",
        "outputId": "17fc1fa3-c26d-4915-8432-58362e10c2fb"
      },
      "outputs": [
        {
          "output_type": "execute_result",
          "data": {
            "text/plain": [
              "(43206, 4)"
            ]
          },
          "metadata": {},
          "execution_count": 367
        }
      ],
      "source": [
        "testing_data.shape"
      ]
    },
    {
      "cell_type": "code",
      "execution_count": 368,
      "metadata": {
        "colab": {
          "base_uri": "https://localhost:8080/",
          "height": 206
        },
        "id": "urX0m5TZyvmF",
        "outputId": "4c85e646-160d-4926-fdd4-551bd668a57f"
      },
      "outputs": [
        {
          "output_type": "execute_result",
          "data": {
            "text/plain": [
              "   feature_0  feature_1  feature_2  price\n",
              "0   0.304567  -0.000617   0.003769  15000\n",
              "1   0.304567  -0.000617   0.003769  27990\n",
              "2   0.304567  -0.000617   0.003769  34590\n",
              "3  -3.269829   0.158441  -1.064736  35000\n",
              "4   0.304567  -0.000617   0.003769  29990"
            ],
            "text/html": [
              "\n",
              "  <div id=\"df-b7350f32-04fa-49a1-ae4b-fe96c590af32\" class=\"colab-df-container\">\n",
              "    <div>\n",
              "<style scoped>\n",
              "    .dataframe tbody tr th:only-of-type {\n",
              "        vertical-align: middle;\n",
              "    }\n",
              "\n",
              "    .dataframe tbody tr th {\n",
              "        vertical-align: top;\n",
              "    }\n",
              "\n",
              "    .dataframe thead th {\n",
              "        text-align: right;\n",
              "    }\n",
              "</style>\n",
              "<table border=\"1\" class=\"dataframe\">\n",
              "  <thead>\n",
              "    <tr style=\"text-align: right;\">\n",
              "      <th></th>\n",
              "      <th>feature_0</th>\n",
              "      <th>feature_1</th>\n",
              "      <th>feature_2</th>\n",
              "      <th>price</th>\n",
              "    </tr>\n",
              "  </thead>\n",
              "  <tbody>\n",
              "    <tr>\n",
              "      <th>0</th>\n",
              "      <td>0.304567</td>\n",
              "      <td>-0.000617</td>\n",
              "      <td>0.003769</td>\n",
              "      <td>15000</td>\n",
              "    </tr>\n",
              "    <tr>\n",
              "      <th>1</th>\n",
              "      <td>0.304567</td>\n",
              "      <td>-0.000617</td>\n",
              "      <td>0.003769</td>\n",
              "      <td>27990</td>\n",
              "    </tr>\n",
              "    <tr>\n",
              "      <th>2</th>\n",
              "      <td>0.304567</td>\n",
              "      <td>-0.000617</td>\n",
              "      <td>0.003769</td>\n",
              "      <td>34590</td>\n",
              "    </tr>\n",
              "    <tr>\n",
              "      <th>3</th>\n",
              "      <td>-3.269829</td>\n",
              "      <td>0.158441</td>\n",
              "      <td>-1.064736</td>\n",
              "      <td>35000</td>\n",
              "    </tr>\n",
              "    <tr>\n",
              "      <th>4</th>\n",
              "      <td>0.304567</td>\n",
              "      <td>-0.000617</td>\n",
              "      <td>0.003769</td>\n",
              "      <td>29990</td>\n",
              "    </tr>\n",
              "  </tbody>\n",
              "</table>\n",
              "</div>\n",
              "    <div class=\"colab-df-buttons\">\n",
              "\n",
              "  <div class=\"colab-df-container\">\n",
              "    <button class=\"colab-df-convert\" onclick=\"convertToInteractive('df-b7350f32-04fa-49a1-ae4b-fe96c590af32')\"\n",
              "            title=\"Convert this dataframe to an interactive table.\"\n",
              "            style=\"display:none;\">\n",
              "\n",
              "  <svg xmlns=\"http://www.w3.org/2000/svg\" height=\"24px\" viewBox=\"0 -960 960 960\">\n",
              "    <path d=\"M120-120v-720h720v720H120Zm60-500h600v-160H180v160Zm220 220h160v-160H400v160Zm0 220h160v-160H400v160ZM180-400h160v-160H180v160Zm440 0h160v-160H620v160ZM180-180h160v-160H180v160Zm440 0h160v-160H620v160Z\"/>\n",
              "  </svg>\n",
              "    </button>\n",
              "\n",
              "  <style>\n",
              "    .colab-df-container {\n",
              "      display:flex;\n",
              "      gap: 12px;\n",
              "    }\n",
              "\n",
              "    .colab-df-convert {\n",
              "      background-color: #E8F0FE;\n",
              "      border: none;\n",
              "      border-radius: 50%;\n",
              "      cursor: pointer;\n",
              "      display: none;\n",
              "      fill: #1967D2;\n",
              "      height: 32px;\n",
              "      padding: 0 0 0 0;\n",
              "      width: 32px;\n",
              "    }\n",
              "\n",
              "    .colab-df-convert:hover {\n",
              "      background-color: #E2EBFA;\n",
              "      box-shadow: 0px 1px 2px rgba(60, 64, 67, 0.3), 0px 1px 3px 1px rgba(60, 64, 67, 0.15);\n",
              "      fill: #174EA6;\n",
              "    }\n",
              "\n",
              "    .colab-df-buttons div {\n",
              "      margin-bottom: 4px;\n",
              "    }\n",
              "\n",
              "    [theme=dark] .colab-df-convert {\n",
              "      background-color: #3B4455;\n",
              "      fill: #D2E3FC;\n",
              "    }\n",
              "\n",
              "    [theme=dark] .colab-df-convert:hover {\n",
              "      background-color: #434B5C;\n",
              "      box-shadow: 0px 1px 3px 1px rgba(0, 0, 0, 0.15);\n",
              "      filter: drop-shadow(0px 1px 2px rgba(0, 0, 0, 0.3));\n",
              "      fill: #FFFFFF;\n",
              "    }\n",
              "  </style>\n",
              "\n",
              "    <script>\n",
              "      const buttonEl =\n",
              "        document.querySelector('#df-b7350f32-04fa-49a1-ae4b-fe96c590af32 button.colab-df-convert');\n",
              "      buttonEl.style.display =\n",
              "        google.colab.kernel.accessAllowed ? 'block' : 'none';\n",
              "\n",
              "      async function convertToInteractive(key) {\n",
              "        const element = document.querySelector('#df-b7350f32-04fa-49a1-ae4b-fe96c590af32');\n",
              "        const dataTable =\n",
              "          await google.colab.kernel.invokeFunction('convertToInteractive',\n",
              "                                                    [key], {});\n",
              "        if (!dataTable) return;\n",
              "\n",
              "        const docLinkHtml = 'Like what you see? Visit the ' +\n",
              "          '<a target=\"_blank\" href=https://colab.research.google.com/notebooks/data_table.ipynb>data table notebook</a>'\n",
              "          + ' to learn more about interactive tables.';\n",
              "        element.innerHTML = '';\n",
              "        dataTable['output_type'] = 'display_data';\n",
              "        await google.colab.output.renderOutput(dataTable, element);\n",
              "        const docLink = document.createElement('div');\n",
              "        docLink.innerHTML = docLinkHtml;\n",
              "        element.appendChild(docLink);\n",
              "      }\n",
              "    </script>\n",
              "  </div>\n",
              "\n",
              "\n",
              "<div id=\"df-ee90bca8-44e9-4824-afd9-dbfd6b4340d9\">\n",
              "  <button class=\"colab-df-quickchart\" onclick=\"quickchart('df-ee90bca8-44e9-4824-afd9-dbfd6b4340d9')\"\n",
              "            title=\"Suggest charts\"\n",
              "            style=\"display:none;\">\n",
              "\n",
              "<svg xmlns=\"http://www.w3.org/2000/svg\" height=\"24px\"viewBox=\"0 0 24 24\"\n",
              "     width=\"24px\">\n",
              "    <g>\n",
              "        <path d=\"M19 3H5c-1.1 0-2 .9-2 2v14c0 1.1.9 2 2 2h14c1.1 0 2-.9 2-2V5c0-1.1-.9-2-2-2zM9 17H7v-7h2v7zm4 0h-2V7h2v10zm4 0h-2v-4h2v4z\"/>\n",
              "    </g>\n",
              "</svg>\n",
              "  </button>\n",
              "\n",
              "<style>\n",
              "  .colab-df-quickchart {\n",
              "      --bg-color: #E8F0FE;\n",
              "      --fill-color: #1967D2;\n",
              "      --hover-bg-color: #E2EBFA;\n",
              "      --hover-fill-color: #174EA6;\n",
              "      --disabled-fill-color: #AAA;\n",
              "      --disabled-bg-color: #DDD;\n",
              "  }\n",
              "\n",
              "  [theme=dark] .colab-df-quickchart {\n",
              "      --bg-color: #3B4455;\n",
              "      --fill-color: #D2E3FC;\n",
              "      --hover-bg-color: #434B5C;\n",
              "      --hover-fill-color: #FFFFFF;\n",
              "      --disabled-bg-color: #3B4455;\n",
              "      --disabled-fill-color: #666;\n",
              "  }\n",
              "\n",
              "  .colab-df-quickchart {\n",
              "    background-color: var(--bg-color);\n",
              "    border: none;\n",
              "    border-radius: 50%;\n",
              "    cursor: pointer;\n",
              "    display: none;\n",
              "    fill: var(--fill-color);\n",
              "    height: 32px;\n",
              "    padding: 0;\n",
              "    width: 32px;\n",
              "  }\n",
              "\n",
              "  .colab-df-quickchart:hover {\n",
              "    background-color: var(--hover-bg-color);\n",
              "    box-shadow: 0 1px 2px rgba(60, 64, 67, 0.3), 0 1px 3px 1px rgba(60, 64, 67, 0.15);\n",
              "    fill: var(--button-hover-fill-color);\n",
              "  }\n",
              "\n",
              "  .colab-df-quickchart-complete:disabled,\n",
              "  .colab-df-quickchart-complete:disabled:hover {\n",
              "    background-color: var(--disabled-bg-color);\n",
              "    fill: var(--disabled-fill-color);\n",
              "    box-shadow: none;\n",
              "  }\n",
              "\n",
              "  .colab-df-spinner {\n",
              "    border: 2px solid var(--fill-color);\n",
              "    border-color: transparent;\n",
              "    border-bottom-color: var(--fill-color);\n",
              "    animation:\n",
              "      spin 1s steps(1) infinite;\n",
              "  }\n",
              "\n",
              "  @keyframes spin {\n",
              "    0% {\n",
              "      border-color: transparent;\n",
              "      border-bottom-color: var(--fill-color);\n",
              "      border-left-color: var(--fill-color);\n",
              "    }\n",
              "    20% {\n",
              "      border-color: transparent;\n",
              "      border-left-color: var(--fill-color);\n",
              "      border-top-color: var(--fill-color);\n",
              "    }\n",
              "    30% {\n",
              "      border-color: transparent;\n",
              "      border-left-color: var(--fill-color);\n",
              "      border-top-color: var(--fill-color);\n",
              "      border-right-color: var(--fill-color);\n",
              "    }\n",
              "    40% {\n",
              "      border-color: transparent;\n",
              "      border-right-color: var(--fill-color);\n",
              "      border-top-color: var(--fill-color);\n",
              "    }\n",
              "    60% {\n",
              "      border-color: transparent;\n",
              "      border-right-color: var(--fill-color);\n",
              "    }\n",
              "    80% {\n",
              "      border-color: transparent;\n",
              "      border-right-color: var(--fill-color);\n",
              "      border-bottom-color: var(--fill-color);\n",
              "    }\n",
              "    90% {\n",
              "      border-color: transparent;\n",
              "      border-bottom-color: var(--fill-color);\n",
              "    }\n",
              "  }\n",
              "</style>\n",
              "\n",
              "  <script>\n",
              "    async function quickchart(key) {\n",
              "      const quickchartButtonEl =\n",
              "        document.querySelector('#' + key + ' button');\n",
              "      quickchartButtonEl.disabled = true;  // To prevent multiple clicks.\n",
              "      quickchartButtonEl.classList.add('colab-df-spinner');\n",
              "      try {\n",
              "        const charts = await google.colab.kernel.invokeFunction(\n",
              "            'suggestCharts', [key], {});\n",
              "      } catch (error) {\n",
              "        console.error('Error during call to suggestCharts:', error);\n",
              "      }\n",
              "      quickchartButtonEl.classList.remove('colab-df-spinner');\n",
              "      quickchartButtonEl.classList.add('colab-df-quickchart-complete');\n",
              "    }\n",
              "    (() => {\n",
              "      let quickchartButtonEl =\n",
              "        document.querySelector('#df-ee90bca8-44e9-4824-afd9-dbfd6b4340d9 button');\n",
              "      quickchartButtonEl.style.display =\n",
              "        google.colab.kernel.accessAllowed ? 'block' : 'none';\n",
              "    })();\n",
              "  </script>\n",
              "</div>\n",
              "\n",
              "    </div>\n",
              "  </div>\n"
            ],
            "application/vnd.google.colaboratory.intrinsic+json": {
              "type": "dataframe",
              "variable_name": "training_data"
            }
          },
          "metadata": {},
          "execution_count": 368
        }
      ],
      "source": [
        "training_data.head()"
      ]
    },
    {
      "cell_type": "code",
      "execution_count": 369,
      "metadata": {
        "id": "MEJej7D2zKoj"
      },
      "outputs": [],
      "source": [
        "X_train_transpose = np.array(training_data.iloc[:,0:projected_data.shape[1]-1])\n",
        "y_train = np.array(training_data[\"price\"]).reshape(-1,1)\n",
        "\n",
        "X_test_transpose = np.array(testing_data.iloc[:,0:projected_data.shape[1]-1])\n",
        "y_test = np.array(testing_data[\"price\"]).reshape(-1,1)"
      ]
    },
    {
      "cell_type": "code",
      "execution_count": 370,
      "metadata": {
        "colab": {
          "base_uri": "https://localhost:8080/"
        },
        "id": "ia9fmISK0Dfc",
        "outputId": "57531129-c9d6-4bd2-bac3-1256de62df49"
      },
      "outputs": [
        {
          "output_type": "execute_result",
          "data": {
            "text/plain": [
              "(100811, 3)"
            ]
          },
          "metadata": {},
          "execution_count": 370
        }
      ],
      "source": [
        "X_train_transpose.shape"
      ]
    },
    {
      "cell_type": "code",
      "execution_count": 371,
      "metadata": {
        "id": "zAofSUPW2GOK",
        "outputId": "44016042-9325-42cf-b5b4-b4b57aa4942f",
        "colab": {
          "base_uri": "https://localhost:8080/"
        }
      },
      "outputs": [
        {
          "output_type": "execute_result",
          "data": {
            "text/plain": [
              "array([[ 0.30456716, -0.0006166 ,  0.00376893],\n",
              "       [ 0.30456716, -0.0006166 ,  0.00376893],\n",
              "       [ 0.30456716, -0.0006166 ,  0.00376893],\n",
              "       ...,\n",
              "       [ 0.30456716, -0.0006166 ,  0.00376893],\n",
              "       [ 0.30456716, -0.0006166 ,  0.00376893],\n",
              "       [ 0.30456716, -0.0006166 ,  0.00376893]])"
            ]
          },
          "metadata": {},
          "execution_count": 371
        }
      ],
      "source": [
        "X_train_transpose"
      ]
    },
    {
      "cell_type": "markdown",
      "metadata": {
        "id": "CLNwyUsl2dPd"
      },
      "source": [
        "##The dataset has finally the following Input Features:\n",
        "\n",
        "##$1.$ **```manufacturer3```** $(x_1)$\n",
        "##$2.$ **```model30```** $(x_2)$\n",
        "##$3.$ **```model31```** $(x_3)$"
      ]
    },
    {
      "cell_type": "markdown",
      "metadata": {
        "id": "KS7w9qum4uz-"
      },
      "source": [
        "#The Input feature row vector of any $i^{th}$ row of the data in this case is given as:\n",
        "#\\begin{equation}\n",
        "\\vec{x}^i =\n",
        "\\begin{bmatrix}\n",
        "x_1^i \\cdots x_j^i \\cdots x_{3}^i\n",
        "\\end{bmatrix}\n",
        "\\end{equation}"
      ]
    },
    {
      "cell_type": "markdown",
      "metadata": {
        "id": "es4H8sWN4Lbh"
      },
      "source": [
        "#Therefore,\n",
        "#\\begin{equation}\n",
        "X_\\text{train}^T =\n",
        "\\begin{bmatrix}\n",
        "\\longleftarrow \\vec{x}^1 \\longrightarrow \\\\\n",
        "\\vdots \\\\\n",
        "x_1^i \\cdots x_j^i \\cdots x_{3}^i \\\\\n",
        "\\vdots \\\\\n",
        "\\longleftarrow \\vec{x}^{N_\\text{train}} \\longrightarrow\n",
        "\\end{bmatrix}\n",
        "\\end{equation}\n",
        "\n",
        "\n"
      ]
    },
    {
      "cell_type": "code",
      "execution_count": 372,
      "metadata": {
        "colab": {
          "base_uri": "https://localhost:8080/"
        },
        "id": "DcHNLN_r0O2I",
        "outputId": "0be3b94e-84bc-4c12-ea63-749f86dd8ac6"
      },
      "outputs": [
        {
          "output_type": "execute_result",
          "data": {
            "text/plain": [
              "(100811, 1)"
            ]
          },
          "metadata": {},
          "execution_count": 372
        }
      ],
      "source": [
        "y_train.shape"
      ]
    },
    {
      "cell_type": "markdown",
      "metadata": {
        "id": "Q3T6g7Gh10w_"
      },
      "source": [
        "#And,\n",
        "#\\begin{equation}\n",
        "\\begin{bmatrix}\n",
        "y_1 \\\\\n",
        "\\vdots \\\\\n",
        "y_i \\\\\n",
        "\\vdots \\\\\n",
        "y_{N_\\text{train}}\n",
        "\\end{bmatrix}\n",
        "\\end{equation}"
      ]
    },
    {
      "cell_type": "markdown",
      "metadata": {
        "id": "9rce7LON8Xpi"
      },
      "source": [
        "#Now, we will be **training a Linear Regression Model on our training data using Gradient Descent Algorithm** using the following update in a **while or for loop until this update rule converges to the Minima of the $MSE$, that is $(\\theta_0^*, \\vec{\\theta}^*)$** also known as Loss Function:\n",
        "\n",
        "#\\begin{equation}\n",
        "\\theta_{final} = \\theta_{initial} - \\epsilon \\cdot \\frac{\\partial MSE}{\\partial \\theta}\n",
        "\\end{equation}\n",
        "\n",
        "#Where,\n",
        "$\\frac{\\partial MSE}{\\partial \\theta_0}$\n"
      ]
    },
    {
      "cell_type": "code",
      "source": [
        "N_train = y_train.shape[0]"
      ],
      "metadata": {
        "id": "zcpWZiz2H6YA"
      },
      "execution_count": 373,
      "outputs": []
    },
    {
      "cell_type": "code",
      "execution_count": 374,
      "metadata": {
        "id": "6Bx9lkTh0TAa"
      },
      "outputs": [],
      "source": [
        "def del_by_del_thetas(theta_0,theta):\n",
        "\n",
        "  y_pred = (theta_0 + np.matmul(X_train_transpose,theta))\n",
        "  error_vector_transpose = np.transpose(y_pred - y_train)\n",
        "\n",
        "  del_by_del_theta = (2/N_train)*np.transpose(np.matmul(error_vector_transpose,\n",
        "                                                        X_train_transpose))\n",
        "  del_by_del_theta_0 = (2/N_train)*np.sum(error_vector_transpose)\n",
        "\n",
        "  return [del_by_del_theta_0,del_by_del_theta]"
      ]
    },
    {
      "cell_type": "code",
      "source": [
        "def mae(theta_0,theta):\n",
        "\n",
        "  y_pred = (theta_0 + np.matmul(X_train_transpose,theta))\n",
        "  abs_error_vector = np.abs(y_pred - y_train)\n",
        "\n",
        "  return np.mean(abs_error_vector)"
      ],
      "metadata": {
        "id": "HshNZToRwxDW"
      },
      "execution_count": 375,
      "outputs": []
    },
    {
      "cell_type": "markdown",
      "source": [
        "#Now, Finally we are going **train Linear Regression Model using Gradient Descent Algorithm.**"
      ],
      "metadata": {
        "id": "AqqsvrtWf2xc"
      }
    },
    {
      "cell_type": "code",
      "source": [
        "epsilon = 10**(-3.2)\n",
        "tol = 10**(-1)\n",
        "#theta_0_initial = np.random.randn(1,)[0]\n",
        "theta_0_initial = 0\n",
        "theta_initial = np.zeros((X_train_transpose.shape[1],1))\n",
        "iteration = 0\n",
        "\n",
        "while True:\n",
        "\n",
        "  initial_gradients = del_by_del_thetas(theta_0_initial,\n",
        "                                        theta_initial)\n",
        "\n",
        "  theta_0_final = theta_0_initial - (epsilon * initial_gradients[0])\n",
        "  theta_final = theta_initial - (epsilon * initial_gradients[1])\n",
        "\n",
        "  initial_gradient_vector = np.concatenate((np.array([[initial_gradients[0]]]),\n",
        "                                           initial_gradients[1]))\n",
        "\n",
        "  initial_mae = mae(theta_0_initial,theta_initial)\n",
        "  final_mae = mae(theta_0_final,theta_final)\n",
        "\n",
        "  if abs(initial_mae - final_mae) < tol:\n",
        "    break\n",
        "\n",
        "  initial_mae = mae(theta_0_initial,theta_initial)\n",
        "\n",
        "  print(\"The Value of MAE at iteration # {} is {}\".format(iteration,initial_mae))\n",
        "\n",
        "  theta_0_initial = theta_0_final\n",
        "  theta_initial = theta_final\n",
        "\n",
        "  iteration += 1"
      ],
      "metadata": {
        "colab": {
          "base_uri": "https://localhost:8080/"
        },
        "id": "d2QVt14xfc_7",
        "outputId": "675e10e7-ffd8-4018-af2c-0c7092e333f9"
      },
      "execution_count": 376,
      "outputs": [
        {
          "output_type": "stream",
          "name": "stdout",
          "text": [
            "The Value of MAE at iteration # 0 is 30877.16790826398\n",
            "The Value of MAE at iteration # 1 is 30842.62031652814\n",
            "The Value of MAE at iteration # 2 is 30808.1685755538\n",
            "The Value of MAE at iteration # 3 is 30773.801484013668\n",
            "The Value of MAE at iteration # 4 is 30739.499886640235\n",
            "The Value of MAE at iteration # 5 is 30705.294413233114\n",
            "The Value of MAE at iteration # 6 is 30671.257331600238\n",
            "The Value of MAE at iteration # 7 is 30637.348301036185\n",
            "The Value of MAE at iteration # 8 is 30603.5513857899\n",
            "The Value of MAE at iteration # 9 is 30569.84394672822\n",
            "The Value of MAE at iteration # 10 is 30536.204715460943\n",
            "The Value of MAE at iteration # 11 is 30502.639309136266\n",
            "The Value of MAE at iteration # 12 is 30469.125968772878\n",
            "The Value of MAE at iteration # 13 is 30435.73070810012\n",
            "The Value of MAE at iteration # 14 is 30402.414764119585\n",
            "The Value of MAE at iteration # 15 is 30369.15466277518\n",
            "The Value of MAE at iteration # 16 is 30335.969330939897\n",
            "The Value of MAE at iteration # 17 is 30302.83793514194\n",
            "The Value of MAE at iteration # 18 is 30269.774691851915\n",
            "The Value of MAE at iteration # 19 is 30236.77629840232\n",
            "The Value of MAE at iteration # 20 is 30203.847677812493\n",
            "The Value of MAE at iteration # 21 is 30171.008156811058\n",
            "The Value of MAE at iteration # 22 is 30138.227980070136\n",
            "The Value of MAE at iteration # 23 is 30105.526911116704\n",
            "The Value of MAE at iteration # 24 is 30072.889958770815\n",
            "The Value of MAE at iteration # 25 is 30040.35858053441\n",
            "The Value of MAE at iteration # 26 is 30008.101936528346\n",
            "The Value of MAE at iteration # 27 is 29975.887371384822\n",
            "The Value of MAE at iteration # 28 is 29943.73002466474\n",
            "The Value of MAE at iteration # 29 is 29911.626503116924\n",
            "The Value of MAE at iteration # 30 is 29879.58646284657\n",
            "The Value of MAE at iteration # 31 is 29847.72161573668\n",
            "The Value of MAE at iteration # 32 is 29815.923163721494\n",
            "The Value of MAE at iteration # 33 is 29784.203140333735\n",
            "The Value of MAE at iteration # 34 is 29752.54753586401\n",
            "The Value of MAE at iteration # 35 is 29720.937922083616\n",
            "The Value of MAE at iteration # 36 is 29689.410801482714\n",
            "The Value of MAE at iteration # 37 is 29657.93098947379\n",
            "The Value of MAE at iteration # 38 is 29626.651758021526\n",
            "The Value of MAE at iteration # 39 is 29595.592344776876\n",
            "The Value of MAE at iteration # 40 is 29564.578675213783\n",
            "The Value of MAE at iteration # 41 is 29533.663615922444\n",
            "The Value of MAE at iteration # 42 is 29502.805122632315\n",
            "The Value of MAE at iteration # 43 is 29472.010705358218\n",
            "The Value of MAE at iteration # 44 is 29441.290528842717\n",
            "The Value of MAE at iteration # 45 is 29410.641047032415\n",
            "The Value of MAE at iteration # 46 is 29380.126635641882\n",
            "The Value of MAE at iteration # 47 is 29349.698350274484\n",
            "The Value of MAE at iteration # 48 is 29319.342169912405\n",
            "The Value of MAE at iteration # 49 is 29289.096496772865\n",
            "The Value of MAE at iteration # 50 is 29258.92428554256\n",
            "The Value of MAE at iteration # 51 is 29229.037238903486\n",
            "The Value of MAE at iteration # 52 is 29199.374054040167\n",
            "The Value of MAE at iteration # 53 is 29169.749407510546\n",
            "The Value of MAE at iteration # 54 is 29140.191278015158\n",
            "The Value of MAE at iteration # 55 is 29110.676437497415\n",
            "The Value of MAE at iteration # 56 is 29081.240359969666\n",
            "The Value of MAE at iteration # 57 is 29051.916647708647\n",
            "The Value of MAE at iteration # 58 is 29022.676509218243\n",
            "The Value of MAE at iteration # 59 is 28993.52913692825\n",
            "The Value of MAE at iteration # 60 is 28964.445570459713\n",
            "The Value of MAE at iteration # 61 is 28935.412122707203\n",
            "The Value of MAE at iteration # 62 is 28906.496030200567\n",
            "The Value of MAE at iteration # 63 is 28877.639911954797\n",
            "The Value of MAE at iteration # 64 is 28849.081240234853\n",
            "The Value of MAE at iteration # 65 is 28820.896561897047\n",
            "The Value of MAE at iteration # 66 is 28792.75728964902\n",
            "The Value of MAE at iteration # 67 is 28764.739727406246\n",
            "The Value of MAE at iteration # 68 is 28736.789324938003\n",
            "The Value of MAE at iteration # 69 is 28708.902505266185\n",
            "The Value of MAE at iteration # 70 is 28681.15179789496\n",
            "The Value of MAE at iteration # 71 is 28653.48525182248\n",
            "The Value of MAE at iteration # 72 is 28625.962358515175\n",
            "The Value of MAE at iteration # 73 is 28598.591959168865\n",
            "The Value of MAE at iteration # 74 is 28571.28709405977\n",
            "The Value of MAE at iteration # 75 is 28544.144929727805\n",
            "The Value of MAE at iteration # 76 is 28517.10642075916\n",
            "The Value of MAE at iteration # 77 is 28490.221706356046\n",
            "The Value of MAE at iteration # 78 is 28463.988599185745\n",
            "The Value of MAE at iteration # 79 is 28437.7911910836\n",
            "The Value of MAE at iteration # 80 is 28411.642456888905\n",
            "The Value of MAE at iteration # 81 is 28385.551901459432\n",
            "The Value of MAE at iteration # 82 is 28359.5093475048\n",
            "The Value of MAE at iteration # 83 is 28333.625181518317\n",
            "The Value of MAE at iteration # 84 is 28307.84660703646\n",
            "The Value of MAE at iteration # 85 is 28282.129199577274\n",
            "The Value of MAE at iteration # 86 is 28256.554602779666\n",
            "The Value of MAE at iteration # 87 is 28231.02853021944\n",
            "The Value of MAE at iteration # 88 is 28205.566998636867\n",
            "The Value of MAE at iteration # 89 is 28180.22809431038\n",
            "The Value of MAE at iteration # 90 is 28154.956164917527\n",
            "The Value of MAE at iteration # 91 is 28130.133024995077\n",
            "The Value of MAE at iteration # 92 is 28105.74621213358\n",
            "The Value of MAE at iteration # 93 is 28081.398078846916\n",
            "The Value of MAE at iteration # 94 is 28057.169545626086\n",
            "The Value of MAE at iteration # 95 is 28033.01090270473\n",
            "The Value of MAE at iteration # 96 is 28008.90429245693\n",
            "The Value of MAE at iteration # 97 is 27984.927882501084\n",
            "The Value of MAE at iteration # 98 is 27961.013651930032\n",
            "The Value of MAE at iteration # 99 is 27937.203506589434\n",
            "The Value of MAE at iteration # 100 is 27913.593563970906\n",
            "The Value of MAE at iteration # 101 is 27890.041836255168\n",
            "The Value of MAE at iteration # 102 is 27866.643533118055\n",
            "The Value of MAE at iteration # 103 is 27843.414145766616\n",
            "The Value of MAE at iteration # 104 is 27820.32270027558\n",
            "The Value of MAE at iteration # 105 is 27797.911565223065\n",
            "The Value of MAE at iteration # 106 is 27775.763565066027\n",
            "The Value of MAE at iteration # 107 is 27753.64411632279\n",
            "The Value of MAE at iteration # 108 is 27731.590771957875\n",
            "The Value of MAE at iteration # 109 is 27709.575787410937\n",
            "The Value of MAE at iteration # 110 is 27687.607122226393\n",
            "The Value of MAE at iteration # 111 is 27665.827329945365\n",
            "The Value of MAE at iteration # 112 is 27644.112925820005\n",
            "The Value of MAE at iteration # 113 is 27622.48554712675\n",
            "The Value of MAE at iteration # 114 is 27600.979546904116\n",
            "The Value of MAE at iteration # 115 is 27579.513450363975\n",
            "The Value of MAE at iteration # 116 is 27558.121150435498\n",
            "The Value of MAE at iteration # 117 is 27536.808027027608\n",
            "The Value of MAE at iteration # 118 is 27515.566410881165\n",
            "The Value of MAE at iteration # 119 is 27494.862977639972\n",
            "The Value of MAE at iteration # 120 is 27474.486272487706\n",
            "The Value of MAE at iteration # 121 is 27454.163868289856\n",
            "The Value of MAE at iteration # 122 is 27433.93786713672\n",
            "The Value of MAE at iteration # 123 is 27413.761912760005\n",
            "The Value of MAE at iteration # 124 is 27393.626315129553\n",
            "The Value of MAE at iteration # 125 is 27373.59084619216\n",
            "The Value of MAE at iteration # 126 is 27353.608009652362\n",
            "The Value of MAE at iteration # 127 is 27333.686183750575\n",
            "The Value of MAE at iteration # 128 is 27313.962186279867\n",
            "The Value of MAE at iteration # 129 is 27294.28502352295\n",
            "The Value of MAE at iteration # 130 is 27274.705066506234\n",
            "The Value of MAE at iteration # 131 is 27255.38141533224\n",
            "The Value of MAE at iteration # 132 is 27236.17184979804\n",
            "The Value of MAE at iteration # 133 is 27217.43539739772\n",
            "The Value of MAE at iteration # 134 is 27199.39145705342\n",
            "The Value of MAE at iteration # 135 is 27181.372098618405\n",
            "The Value of MAE at iteration # 136 is 27163.38581069698\n",
            "The Value of MAE at iteration # 137 is 27145.43882419208\n",
            "The Value of MAE at iteration # 138 is 27127.51732178299\n",
            "The Value of MAE at iteration # 139 is 27109.682702704253\n",
            "The Value of MAE at iteration # 140 is 27091.9354691128\n",
            "The Value of MAE at iteration # 141 is 27074.248710631393\n",
            "The Value of MAE at iteration # 142 is 27056.64664518918\n",
            "The Value of MAE at iteration # 143 is 27039.10704455063\n",
            "The Value of MAE at iteration # 144 is 27021.603309711518\n",
            "The Value of MAE at iteration # 145 is 27004.18084354408\n",
            "The Value of MAE at iteration # 146 is 26986.81914964811\n",
            "The Value of MAE at iteration # 147 is 26969.519985117677\n",
            "The Value of MAE at iteration # 148 is 26952.82446569447\n",
            "The Value of MAE at iteration # 149 is 26936.347313778162\n",
            "The Value of MAE at iteration # 150 is 26919.900791058255\n",
            "The Value of MAE at iteration # 151 is 26903.53944345836\n",
            "The Value of MAE at iteration # 152 is 26887.21796668628\n",
            "The Value of MAE at iteration # 153 is 26870.927443932767\n",
            "The Value of MAE at iteration # 154 is 26854.741478175634\n",
            "The Value of MAE at iteration # 155 is 26838.612329306237\n",
            "The Value of MAE at iteration # 156 is 26822.53550715261\n",
            "The Value of MAE at iteration # 157 is 26806.62361483522\n",
            "The Value of MAE at iteration # 158 is 26790.76866276976\n",
            "The Value of MAE at iteration # 159 is 26774.954398122813\n",
            "The Value of MAE at iteration # 160 is 26759.427642374932\n",
            "The Value of MAE at iteration # 161 is 26744.01641275273\n",
            "The Value of MAE at iteration # 162 is 26728.754541245762\n",
            "The Value of MAE at iteration # 163 is 26714.43478080922\n",
            "The Value of MAE at iteration # 164 is 26700.200911285545\n",
            "The Value of MAE at iteration # 165 is 26685.988136147273\n",
            "The Value of MAE at iteration # 166 is 26671.809933020144\n",
            "The Value of MAE at iteration # 167 is 26657.65573944159\n",
            "The Value of MAE at iteration # 168 is 26643.526609404453\n",
            "The Value of MAE at iteration # 169 is 26629.5040476336\n",
            "The Value of MAE at iteration # 170 is 26615.53474337887\n",
            "The Value of MAE at iteration # 171 is 26601.624922140327\n",
            "The Value of MAE at iteration # 172 is 26587.808509729937\n",
            "The Value of MAE at iteration # 173 is 26574.025709817677\n",
            "The Value of MAE at iteration # 174 is 26560.268484372104\n",
            "The Value of MAE at iteration # 175 is 26546.588049479134\n",
            "The Value of MAE at iteration # 176 is 26532.95024855282\n",
            "The Value of MAE at iteration # 177 is 26519.363070915897\n",
            "The Value of MAE at iteration # 178 is 26506.43086631195\n",
            "The Value of MAE at iteration # 179 is 26493.71216888063\n",
            "The Value of MAE at iteration # 180 is 26481.02777768587\n",
            "The Value of MAE at iteration # 181 is 26468.39605374826\n",
            "The Value of MAE at iteration # 182 is 26455.796279843515\n",
            "The Value of MAE at iteration # 183 is 26443.21895366742\n",
            "The Value of MAE at iteration # 184 is 26430.7118018925\n",
            "The Value of MAE at iteration # 185 is 26418.25831890847\n",
            "The Value of MAE at iteration # 186 is 26405.863279501616\n",
            "The Value of MAE at iteration # 187 is 26393.58323437787\n",
            "The Value of MAE at iteration # 188 is 26381.40334221523\n",
            "The Value of MAE at iteration # 189 is 26369.283919568054\n",
            "The Value of MAE at iteration # 190 is 26357.314834351295\n",
            "The Value of MAE at iteration # 191 is 26345.542339526022\n",
            "The Value of MAE at iteration # 192 is 26333.891276161645\n",
            "The Value of MAE at iteration # 193 is 26322.732971465448\n",
            "The Value of MAE at iteration # 194 is 26312.199045991703\n",
            "The Value of MAE at iteration # 195 is 26301.678689793596\n",
            "The Value of MAE at iteration # 196 is 26291.17610802355\n",
            "The Value of MAE at iteration # 197 is 26280.69799003695\n",
            "The Value of MAE at iteration # 198 is 26270.23763084613\n",
            "The Value of MAE at iteration # 199 is 26259.798609975587\n",
            "The Value of MAE at iteration # 200 is 26249.45158030186\n",
            "The Value of MAE at iteration # 201 is 26239.13572530591\n",
            "The Value of MAE at iteration # 202 is 26228.854962422567\n",
            "The Value of MAE at iteration # 203 is 26218.638648598295\n",
            "The Value of MAE at iteration # 204 is 26208.444170375227\n",
            "The Value of MAE at iteration # 205 is 26198.268659259946\n",
            "The Value of MAE at iteration # 206 is 26188.15275480162\n",
            "The Value of MAE at iteration # 207 is 26178.071646726832\n",
            "The Value of MAE at iteration # 208 is 26168.03663855997\n",
            "The Value of MAE at iteration # 209 is 26158.459427755286\n",
            "The Value of MAE at iteration # 210 is 26149.170992930314\n",
            "The Value of MAE at iteration # 211 is 26139.9025337921\n",
            "The Value of MAE at iteration # 212 is 26130.667759474232\n",
            "The Value of MAE at iteration # 213 is 26121.47012226001\n",
            "The Value of MAE at iteration # 214 is 26112.29591339134\n",
            "The Value of MAE at iteration # 215 is 26103.148245550467\n",
            "The Value of MAE at iteration # 216 is 26094.051536442603\n",
            "The Value of MAE at iteration # 217 is 26084.987098179747\n",
            "The Value of MAE at iteration # 218 is 26075.959667385745\n",
            "The Value of MAE at iteration # 219 is 26067.058773313325\n",
            "The Value of MAE at iteration # 220 is 26058.182262527378\n",
            "The Value of MAE at iteration # 221 is 26049.339400887293\n",
            "The Value of MAE at iteration # 222 is 26040.689297588982\n",
            "The Value of MAE at iteration # 223 is 26032.125041327254\n",
            "The Value of MAE at iteration # 224 is 26023.70411910297\n",
            "The Value of MAE at iteration # 225 is 26015.937351674966\n",
            "The Value of MAE at iteration # 226 is 26008.543017266897\n",
            "The Value of MAE at iteration # 227 is 26001.158586104888\n",
            "The Value of MAE at iteration # 228 is 25993.78952414493\n",
            "The Value of MAE at iteration # 229 is 25986.44592216657\n",
            "The Value of MAE at iteration # 230 is 25979.112788172435\n",
            "The Value of MAE at iteration # 231 is 25971.79221312717\n",
            "The Value of MAE at iteration # 232 is 25964.547758227152\n",
            "The Value of MAE at iteration # 233 is 25957.32851849043\n",
            "The Value of MAE at iteration # 234 is 25950.14367407151\n",
            "The Value of MAE at iteration # 235 is 25943.013931961363\n",
            "The Value of MAE at iteration # 236 is 25935.909787830875\n",
            "The Value of MAE at iteration # 237 is 25928.82373454616\n",
            "The Value of MAE at iteration # 238 is 25921.773758114185\n",
            "The Value of MAE at iteration # 239 is 25914.764057600125\n",
            "The Value of MAE at iteration # 240 is 25907.79963971082\n",
            "The Value of MAE at iteration # 241 is 25900.959494450344\n",
            "The Value of MAE at iteration # 242 is 25894.60753067786\n",
            "The Value of MAE at iteration # 243 is 25888.270547299697\n",
            "The Value of MAE at iteration # 244 is 25881.951652763575\n",
            "The Value of MAE at iteration # 245 is 25875.678220827693\n",
            "The Value of MAE at iteration # 246 is 25869.421088906365\n",
            "The Value of MAE at iteration # 247 is 25863.180332137017\n",
            "The Value of MAE at iteration # 248 is 25856.986101527807\n",
            "The Value of MAE at iteration # 249 is 25850.827286246727\n",
            "The Value of MAE at iteration # 250 is 25844.708678524352\n",
            "The Value of MAE at iteration # 251 is 25838.622652458514\n",
            "The Value of MAE at iteration # 252 is 25832.600654742528\n",
            "The Value of MAE at iteration # 253 is 25826.595236288664\n",
            "The Value of MAE at iteration # 254 is 25820.610163264435\n",
            "The Value of MAE at iteration # 255 is 25814.834669187945\n",
            "The Value of MAE at iteration # 256 is 25809.14586713348\n",
            "The Value of MAE at iteration # 257 is 25803.60126644311\n",
            "The Value of MAE at iteration # 258 is 25798.50931747314\n",
            "The Value of MAE at iteration # 259 is 25793.813041853737\n",
            "The Value of MAE at iteration # 260 is 25789.127966670814\n",
            "The Value of MAE at iteration # 261 is 25784.449525895132\n",
            "The Value of MAE at iteration # 262 is 25779.78980893887\n",
            "The Value of MAE at iteration # 263 is 25775.154780336143\n",
            "The Value of MAE at iteration # 264 is 25770.541127626977\n",
            "The Value of MAE at iteration # 265 is 25765.961353824358\n",
            "The Value of MAE at iteration # 266 is 25761.40432342329\n",
            "The Value of MAE at iteration # 267 is 25756.868615254232\n",
            "The Value of MAE at iteration # 268 is 25752.35085908752\n",
            "The Value of MAE at iteration # 269 is 25747.87202683529\n",
            "The Value of MAE at iteration # 270 is 25743.402336699564\n",
            "The Value of MAE at iteration # 271 is 25738.943314102387\n",
            "The Value of MAE at iteration # 272 is 25734.523439909906\n",
            "The Value of MAE at iteration # 273 is 25730.118127104495\n",
            "The Value of MAE at iteration # 274 is 25725.74220026463\n",
            "The Value of MAE at iteration # 275 is 25721.521173022065\n",
            "The Value of MAE at iteration # 276 is 25717.55785158776\n",
            "The Value of MAE at iteration # 277 is 25713.602644080525\n",
            "The Value of MAE at iteration # 278 is 25709.657509770666\n",
            "The Value of MAE at iteration # 279 is 25705.75320352359\n",
            "The Value of MAE at iteration # 280 is 25701.86143482022\n",
            "The Value of MAE at iteration # 281 is 25697.986282576312\n",
            "The Value of MAE at iteration # 282 is 25694.135821102424\n",
            "The Value of MAE at iteration # 283 is 25690.314365091996\n",
            "The Value of MAE at iteration # 284 is 25686.519951068898\n",
            "The Value of MAE at iteration # 285 is 25682.744979283434\n",
            "The Value of MAE at iteration # 286 is 25679.060067919916\n",
            "The Value of MAE at iteration # 287 is 25675.39703626068\n",
            "The Value of MAE at iteration # 288 is 25671.77123976713\n",
            "The Value of MAE at iteration # 289 is 25668.23745464121\n",
            "The Value of MAE at iteration # 290 is 25664.838980195334\n",
            "The Value of MAE at iteration # 291 is 25661.511511785055\n",
            "The Value of MAE at iteration # 292 is 25658.288955314252\n",
            "The Value of MAE at iteration # 293 is 25655.83552475903\n",
            "The Value of MAE at iteration # 294 is 25653.436316981144\n",
            "The Value of MAE at iteration # 295 is 25651.042391195588\n",
            "The Value of MAE at iteration # 296 is 25648.65707403513\n",
            "The Value of MAE at iteration # 297 is 25646.278249113537\n",
            "The Value of MAE at iteration # 298 is 25643.90498684645\n",
            "The Value of MAE at iteration # 299 is 25641.536400536832\n",
            "The Value of MAE at iteration # 300 is 25639.189268722996\n",
            "The Value of MAE at iteration # 301 is 25636.85264738439\n",
            "The Value of MAE at iteration # 302 is 25634.534401508954\n",
            "The Value of MAE at iteration # 303 is 25632.2347325581\n",
            "The Value of MAE at iteration # 304 is 25629.977294181146\n",
            "The Value of MAE at iteration # 305 is 25627.726633842\n",
            "The Value of MAE at iteration # 306 is 25625.48300575765\n",
            "The Value of MAE at iteration # 307 is 25623.253705310104\n",
            "The Value of MAE at iteration # 308 is 25621.034248175547\n",
            "The Value of MAE at iteration # 309 is 25618.83287117792\n",
            "The Value of MAE at iteration # 310 is 25616.653571637908\n",
            "The Value of MAE at iteration # 311 is 25614.794979248076\n",
            "The Value of MAE at iteration # 312 is 25612.94651248832\n",
            "The Value of MAE at iteration # 313 is 25611.106886851463\n",
            "The Value of MAE at iteration # 314 is 25609.282141865733\n",
            "The Value of MAE at iteration # 315 is 25607.470693449464\n",
            "The Value of MAE at iteration # 316 is 25605.665055321148\n",
            "The Value of MAE at iteration # 317 is 25603.865182389836\n",
            "The Value of MAE at iteration # 318 is 25602.092804168464\n",
            "The Value of MAE at iteration # 319 is 25600.330781343553\n",
            "The Value of MAE at iteration # 320 is 25598.587962347672\n",
            "The Value of MAE at iteration # 321 is 25596.864137938337\n",
            "The Value of MAE at iteration # 322 is 25595.204218251165\n",
            "The Value of MAE at iteration # 323 is 25593.55136829101\n",
            "The Value of MAE at iteration # 324 is 25591.908630384183\n",
            "The Value of MAE at iteration # 325 is 25590.342216011715\n",
            "The Value of MAE at iteration # 326 is 25588.86876526974\n",
            "The Value of MAE at iteration # 327 is 25587.45115820387\n",
            "The Value of MAE at iteration # 328 is 25586.093677710593\n",
            "The Value of MAE at iteration # 329 is 25585.3226954182\n",
            "The Value of MAE at iteration # 330 is 25584.651997451238\n",
            "The Value of MAE at iteration # 331 is 25583.98230632551\n",
            "The Value of MAE at iteration # 332 is 25583.313590713176\n",
            "The Value of MAE at iteration # 333 is 25582.64977437849\n",
            "The Value of MAE at iteration # 334 is 25581.988560503523\n",
            "The Value of MAE at iteration # 335 is 25581.329533943233\n",
            "The Value of MAE at iteration # 336 is 25580.6775133416\n",
            "The Value of MAE at iteration # 337 is 25580.04431546785\n",
            "The Value of MAE at iteration # 338 is 25579.431068257978\n",
            "The Value of MAE at iteration # 339 is 25578.827223612887\n",
            "The Value of MAE at iteration # 340 is 25578.238936389884\n",
            "The Value of MAE at iteration # 341 is 25577.66097832867\n",
            "The Value of MAE at iteration # 342 is 25577.093812398347\n",
            "The Value of MAE at iteration # 343 is 25576.528915423463\n",
            "The Value of MAE at iteration # 344 is 25575.984454086418\n",
            "The Value of MAE at iteration # 345 is 25575.448882461103\n",
            "The Value of MAE at iteration # 346 is 25574.944560419706\n",
            "The Value of MAE at iteration # 347 is 25574.475700942414\n",
            "The Value of MAE at iteration # 348 is 25574.256300412493\n",
            "The Value of MAE at iteration # 349 is 25574.045290300972\n",
            "The Value of MAE at iteration # 350 is 25573.841811090577\n",
            "The Value of MAE at iteration # 351 is 25573.650690839775\n",
            "The Value of MAE at iteration # 352 is 25573.476647095147\n",
            "The Value of MAE at iteration # 353 is 25573.306146560208\n",
            "The Value of MAE at iteration # 354 is 25573.13976607514\n",
            "The Value of MAE at iteration # 355 is 25572.990729131696\n",
            "The Value of MAE at iteration # 356 is 25572.854495463856\n",
            "The Value of MAE at iteration # 357 is 25572.727080007262\n"
          ]
        }
      ]
    }
  ],
  "metadata": {
    "colab": {
      "provenance": []
    },
    "kernelspec": {
      "display_name": "Python 3",
      "name": "python3"
    },
    "language_info": {
      "name": "python"
    }
  },
  "nbformat": 4,
  "nbformat_minor": 0
}